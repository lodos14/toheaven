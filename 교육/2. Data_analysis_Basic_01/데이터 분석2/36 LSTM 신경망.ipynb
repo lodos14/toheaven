{
 "cells": [
  {
   "cell_type": "code",
   "execution_count": 1,
   "metadata": {},
   "outputs": [
    {
     "name": "stderr",
     "output_type": "stream",
     "text": [
      "C:\\Anaconda3\\lib\\site-packages\\tensorflow_core\\python\\keras\\datasets\\imdb.py:129: VisibleDeprecationWarning: Creating an ndarray from ragged nested sequences (which is a list-or-tuple of lists-or-tuples-or ndarrays with different lengths or shapes) is deprecated. If you meant to do this, you must specify 'dtype=object' when creating the ndarray\n",
      "  x_train, y_train = np.array(xs[:idx]), np.array(labels[:idx])\n",
      "C:\\Anaconda3\\lib\\site-packages\\tensorflow_core\\python\\keras\\datasets\\imdb.py:130: VisibleDeprecationWarning: Creating an ndarray from ragged nested sequences (which is a list-or-tuple of lists-or-tuples-or ndarrays with different lengths or shapes) is deprecated. If you meant to do this, you must specify 'dtype=object' when creating the ndarray\n",
      "  x_test, y_test = np.array(xs[idx:]), np.array(labels[idx:])\n"
     ]
    }
   ],
   "source": [
    "from tensorflow.keras.datasets import imdb\n",
    "from sklearn.model_selection import train_test_split\n",
    "\n",
    "# 가장 자주 등장하는 단어 500개만 사용\n",
    "(train_input, train_target), (test_input, test_target) = imdb.load_data(num_words=500)\n",
    "\n",
    "# 검증세트\n",
    "train_input, val_input, train_target, val_target = train_test_split(\n",
    "train_input, train_target, test_size=0.2, random_state=42)"
   ]
  },
  {
   "cell_type": "code",
   "execution_count": 2,
   "metadata": {},
   "outputs": [],
   "source": [
    "# 시퀀스 데이터의 길이를 맞추는 함수 : pad_sequences()\n",
    "from tensorflow.keras.preprocessing.sequence import pad_sequences\n",
    "train_seq = pad_sequences(train_input, maxlen=100)\n",
    "val_seq = pad_sequences(val_input, maxlen=100)"
   ]
  },
  {
   "cell_type": "code",
   "execution_count": 3,
   "metadata": {},
   "outputs": [],
   "source": [
    "from tensorflow import keras\n",
    "\n",
    "model = keras.Sequential()\n",
    "model.add(keras.layers.Embedding(500, 16, input_length=100))\n",
    "model.add(keras.layers.LSTM(8))\n",
    "model.add(keras.layers.Dense(1, activation='sigmoid'))"
   ]
  },
  {
   "cell_type": "code",
   "execution_count": 4,
   "metadata": {},
   "outputs": [
    {
     "name": "stdout",
     "output_type": "stream",
     "text": [
      "Model: \"sequential\"\n",
      "_________________________________________________________________\n",
      "Layer (type)                 Output Shape              Param #   \n",
      "=================================================================\n",
      "embedding (Embedding)        (None, 100, 16)           8000      \n",
      "_________________________________________________________________\n",
      "lstm (LSTM)                  (None, 8)                 800       \n",
      "_________________________________________________________________\n",
      "dense (Dense)                (None, 1)                 9         \n",
      "=================================================================\n",
      "Total params: 8,809\n",
      "Trainable params: 8,809\n",
      "Non-trainable params: 0\n",
      "_________________________________________________________________\n"
     ]
    }
   ],
   "source": [
    "model.summary()"
   ]
  },
  {
   "cell_type": "code",
   "execution_count": 5,
   "metadata": {},
   "outputs": [
    {
     "name": "stdout",
     "output_type": "stream",
     "text": [
      "Train on 20000 samples, validate on 5000 samples\n",
      "Epoch 1/100\n",
      "20000/20000 [==============================] - 11s 544us/sample - loss: 0.6924 - accuracy: 0.5595 - val_loss: 0.6917 - val_accuracy: 0.5970\n",
      "Epoch 2/100\n",
      "20000/20000 [==============================] - 8s 410us/sample - loss: 0.6901 - accuracy: 0.6144 - val_loss: 0.6884 - val_accuracy: 0.6266\n",
      "Epoch 3/100\n",
      "20000/20000 [==============================] - 8s 398us/sample - loss: 0.6803 - accuracy: 0.6165 - val_loss: 0.6661 - val_accuracy: 0.5274\n",
      "Epoch 4/100\n",
      "20000/20000 [==============================] - 8s 399us/sample - loss: 0.6322 - accuracy: 0.6608 - val_loss: 0.6151 - val_accuracy: 0.7324\n",
      "Epoch 5/100\n",
      "20000/20000 [==============================] - 8s 394us/sample - loss: 0.5974 - accuracy: 0.7456 - val_loss: 0.5934 - val_accuracy: 0.7502\n",
      "Epoch 6/100\n",
      "20000/20000 [==============================] - 8s 404us/sample - loss: 0.5782 - accuracy: 0.7595 - val_loss: 0.5785 - val_accuracy: 0.7504\n",
      "Epoch 7/100\n",
      "20000/20000 [==============================] - 8s 404us/sample - loss: 0.5616 - accuracy: 0.7652 - val_loss: 0.5736 - val_accuracy: 0.7594\n",
      "Epoch 8/100\n",
      "20000/20000 [==============================] - 8s 405us/sample - loss: 0.5480 - accuracy: 0.7720 - val_loss: 0.5501 - val_accuracy: 0.7670\n",
      "Epoch 9/100\n",
      "20000/20000 [==============================] - 8s 410us/sample - loss: 0.5342 - accuracy: 0.7750 - val_loss: 0.5375 - val_accuracy: 0.7730\n",
      "Epoch 10/100\n",
      "20000/20000 [==============================] - 8s 402us/sample - loss: 0.5210 - accuracy: 0.7821 - val_loss: 0.5308 - val_accuracy: 0.7758\n",
      "Epoch 11/100\n",
      "20000/20000 [==============================] - 8s 405us/sample - loss: 0.5071 - accuracy: 0.7839 - val_loss: 0.5115 - val_accuracy: 0.7778\n",
      "Epoch 12/100\n",
      "20000/20000 [==============================] - 8s 409us/sample - loss: 0.4932 - accuracy: 0.7887 - val_loss: 0.4985 - val_accuracy: 0.7808\n",
      "Epoch 13/100\n",
      "20000/20000 [==============================] - 8s 402us/sample - loss: 0.4809 - accuracy: 0.7906 - val_loss: 0.4878 - val_accuracy: 0.7824\n",
      "Epoch 14/100\n",
      "20000/20000 [==============================] - 8s 404us/sample - loss: 0.4696 - accuracy: 0.7968 - val_loss: 0.4803 - val_accuracy: 0.7862\n",
      "Epoch 15/100\n",
      "20000/20000 [==============================] - 8s 405us/sample - loss: 0.4615 - accuracy: 0.7990 - val_loss: 0.4714 - val_accuracy: 0.7908\n",
      "Epoch 16/100\n",
      "20000/20000 [==============================] - 8s 400us/sample - loss: 0.4540 - accuracy: 0.8009 - val_loss: 0.4653 - val_accuracy: 0.7886\n",
      "Epoch 17/100\n",
      "20000/20000 [==============================] - 8s 405us/sample - loss: 0.4478 - accuracy: 0.8041 - val_loss: 0.4595 - val_accuracy: 0.7924\n",
      "Epoch 18/100\n",
      "20000/20000 [==============================] - 8s 409us/sample - loss: 0.4434 - accuracy: 0.8048 - val_loss: 0.4553 - val_accuracy: 0.7912\n",
      "Epoch 19/100\n",
      "20000/20000 [==============================] - 8s 408us/sample - loss: 0.4388 - accuracy: 0.8068 - val_loss: 0.4539 - val_accuracy: 0.7904\n",
      "Epoch 20/100\n",
      "20000/20000 [==============================] - 8s 412us/sample - loss: 0.4348 - accuracy: 0.8091 - val_loss: 0.4515 - val_accuracy: 0.7922\n",
      "Epoch 21/100\n",
      "20000/20000 [==============================] - 8s 412us/sample - loss: 0.4314 - accuracy: 0.8102 - val_loss: 0.4496 - val_accuracy: 0.7950\n",
      "Epoch 22/100\n",
      "20000/20000 [==============================] - 8s 410us/sample - loss: 0.4287 - accuracy: 0.8122 - val_loss: 0.4460 - val_accuracy: 0.7946\n",
      "Epoch 23/100\n",
      "20000/20000 [==============================] - 8s 398us/sample - loss: 0.4262 - accuracy: 0.8122 - val_loss: 0.4451 - val_accuracy: 0.7948\n",
      "Epoch 24/100\n",
      "20000/20000 [==============================] - 8s 406us/sample - loss: 0.4240 - accuracy: 0.8133 - val_loss: 0.4446 - val_accuracy: 0.7954\n",
      "Epoch 25/100\n",
      "20000/20000 [==============================] - 8s 409us/sample - loss: 0.4221 - accuracy: 0.8137 - val_loss: 0.4428 - val_accuracy: 0.7934\n",
      "Epoch 26/100\n",
      "20000/20000 [==============================] - 8s 399us/sample - loss: 0.4201 - accuracy: 0.8149 - val_loss: 0.4409 - val_accuracy: 0.7948\n",
      "Epoch 27/100\n",
      "20000/20000 [==============================] - 8s 406us/sample - loss: 0.4183 - accuracy: 0.8146 - val_loss: 0.4393 - val_accuracy: 0.7996\n",
      "Epoch 28/100\n",
      "20000/20000 [==============================] - 8s 408us/sample - loss: 0.4171 - accuracy: 0.8163 - val_loss: 0.4386 - val_accuracy: 0.7990\n",
      "Epoch 29/100\n",
      "20000/20000 [==============================] - 8s 408us/sample - loss: 0.4162 - accuracy: 0.8166 - val_loss: 0.4380 - val_accuracy: 0.7988\n",
      "Epoch 30/100\n",
      "20000/20000 [==============================] - 8s 408us/sample - loss: 0.4150 - accuracy: 0.8164 - val_loss: 0.4438 - val_accuracy: 0.7934\n",
      "Epoch 31/100\n",
      "20000/20000 [==============================] - 8s 410us/sample - loss: 0.4138 - accuracy: 0.8158 - val_loss: 0.4363 - val_accuracy: 0.7976\n",
      "Epoch 32/100\n",
      "20000/20000 [==============================] - 8s 411us/sample - loss: 0.4125 - accuracy: 0.8178 - val_loss: 0.4372 - val_accuracy: 0.7996\n",
      "Epoch 33/100\n",
      "20000/20000 [==============================] - 8s 404us/sample - loss: 0.4117 - accuracy: 0.8170 - val_loss: 0.4342 - val_accuracy: 0.8018\n",
      "Epoch 34/100\n",
      "20000/20000 [==============================] - 8s 417us/sample - loss: 0.4107 - accuracy: 0.8163 - val_loss: 0.4377 - val_accuracy: 0.7998\n",
      "Epoch 35/100\n",
      "20000/20000 [==============================] - 8s 409us/sample - loss: 0.4098 - accuracy: 0.8205 - val_loss: 0.4370 - val_accuracy: 0.7970\n",
      "Epoch 36/100\n",
      "20000/20000 [==============================] - 8s 401us/sample - loss: 0.4092 - accuracy: 0.8178 - val_loss: 0.4332 - val_accuracy: 0.7996\n",
      "Epoch 37/100\n",
      "20000/20000 [==============================] - 8s 412us/sample - loss: 0.4084 - accuracy: 0.8166 - val_loss: 0.4347 - val_accuracy: 0.7982\n",
      "Epoch 38/100\n",
      "20000/20000 [==============================] - 8s 409us/sample - loss: 0.4071 - accuracy: 0.8199 - val_loss: 0.4344 - val_accuracy: 0.8004\n",
      "Epoch 39/100\n",
      "20000/20000 [==============================] - 8s 406us/sample - loss: 0.4066 - accuracy: 0.8176 - val_loss: 0.4320 - val_accuracy: 0.8012\n",
      "Epoch 40/100\n",
      "20000/20000 [==============================] - 8s 417us/sample - loss: 0.4060 - accuracy: 0.8184 - val_loss: 0.4315 - val_accuracy: 0.8016\n",
      "Epoch 41/100\n",
      "20000/20000 [==============================] - 8s 407us/sample - loss: 0.4052 - accuracy: 0.8202 - val_loss: 0.4322 - val_accuracy: 0.8056\n",
      "Epoch 42/100\n",
      "20000/20000 [==============================] - 8s 407us/sample - loss: 0.4046 - accuracy: 0.8192 - val_loss: 0.4339 - val_accuracy: 0.7974\n",
      "Epoch 43/100\n",
      "20000/20000 [==============================] - 8s 390us/sample - loss: 0.4037 - accuracy: 0.8200 - val_loss: 0.4303 - val_accuracy: 0.8024\n",
      "Epoch 44/100\n",
      "20000/20000 [==============================] - 8s 399us/sample - loss: 0.4030 - accuracy: 0.8210 - val_loss: 0.4330 - val_accuracy: 0.8056\n",
      "Epoch 45/100\n",
      "20000/20000 [==============================] - 8s 415us/sample - loss: 0.4029 - accuracy: 0.8191 - val_loss: 0.4302 - val_accuracy: 0.8060\n",
      "Epoch 46/100\n",
      "20000/20000 [==============================] - 8s 401us/sample - loss: 0.4024 - accuracy: 0.8217 - val_loss: 0.4287 - val_accuracy: 0.8054\n",
      "Epoch 47/100\n",
      "20000/20000 [==============================] - 8s 410us/sample - loss: 0.4013 - accuracy: 0.8212 - val_loss: 0.4367 - val_accuracy: 0.8020\n",
      "Epoch 48/100\n",
      "20000/20000 [==============================] - 8s 412us/sample - loss: 0.4006 - accuracy: 0.8224 - val_loss: 0.4327 - val_accuracy: 0.8032\n",
      "Epoch 49/100\n",
      "20000/20000 [==============================] - 8s 415us/sample - loss: 0.4003 - accuracy: 0.8220 - val_loss: 0.4307 - val_accuracy: 0.8014\n"
     ]
    }
   ],
   "source": [
    "# 모델 설정과 훈련\n",
    "rmsprop = keras.optimizers.RMSprop(learning_rate = 1e-4)\n",
    "model.compile(optimizer=rmsprop, loss='binary_crossentropy',\n",
    "             metrics=['accuracy'])\n",
    "\n",
    "checkpoint_cb = keras.callbacks.ModelCheckpoint('best-simplernn-model.h5')\n",
    "early_stopping_cb = keras.callbacks.EarlyStopping(patience=3, \n",
    "                                                  restore_best_weights=True)\n",
    "\n",
    "history = model.fit(train_seq, train_target, epochs=100, batch_size=64,\n",
    "                   validation_data=(val_seq, val_target),\n",
    "                   callbacks=[checkpoint_cb, early_stopping_cb])"
   ]
  },
  {
   "cell_type": "code",
   "execution_count": 6,
   "metadata": {},
   "outputs": [
    {
     "data": {
      "image/png": "[encoded data removed]",
      "text/plain": [
       "<Figure size 432x288 with 1 Axes>"
      ]
     },
     "metadata": {
      "needs_background": "light"
     },
     "output_type": "display_data"
    }
   ],
   "source": [
    "import matplotlib.pyplot as plt\n",
    "%matplotlib inline\n",
    "# 훈련손실과 검증손실 시각화\n",
    "plt.plot(history.history['loss'])\n",
    "plt.plot(history.history['val_loss'])\n",
    "plt.xlabel('epoch')\n",
    "plt.ylabel('loss')\n",
    "plt.legend(['train', 'val'])\n",
    "plt.show()"
   ]
  },
  {
   "cell_type": "code",
   "execution_count": 7,
   "metadata": {},
   "outputs": [],
   "source": [
    "model2 = keras.Sequential()\n",
    "model2.add(keras.layers.Embedding(500, 16, input_length=100))\n",
    "model2.add(keras.layers.LSTM(8, dropout=0.3))\n",
    "model2.add(keras.layers.Dense(1, activation='sigmoid'))"
   ]
  },
  {
   "cell_type": "code",
   "execution_count": 8,
   "metadata": {},
   "outputs": [
    {
     "name": "stdout",
     "output_type": "stream",
     "text": [
      "Train on 20000 samples, validate on 5000 samples\n",
      "Epoch 1/100\n",
      "20000/20000 [==============================] - 11s 541us/sample - loss: 0.6926 - accuracy: 0.5299 - val_loss: 0.6919 - val_accuracy: 0.5712\n",
      "Epoch 2/100\n",
      "20000/20000 [==============================] - 9s 430us/sample - loss: 0.6907 - accuracy: 0.5844 - val_loss: 0.6895 - val_accuracy: 0.6156\n",
      "Epoch 3/100\n",
      "20000/20000 [==============================] - 9s 439us/sample - loss: 0.6867 - accuracy: 0.6268 - val_loss: 0.6832 - val_accuracy: 0.6592\n",
      "Epoch 4/100\n",
      "20000/20000 [==============================] - 9s 444us/sample - loss: 0.6672 - accuracy: 0.6596 - val_loss: 0.6392 - val_accuracy: 0.6928\n",
      "Epoch 5/100\n",
      "20000/20000 [==============================] - 9s 434us/sample - loss: 0.6140 - accuracy: 0.7046 - val_loss: 0.6025 - val_accuracy: 0.7086\n",
      "Epoch 6/100\n",
      "20000/20000 [==============================] - 8s 414us/sample - loss: 0.5888 - accuracy: 0.7192 - val_loss: 0.5812 - val_accuracy: 0.7260\n",
      "Epoch 7/100\n",
      "20000/20000 [==============================] - 8s 417us/sample - loss: 0.5686 - accuracy: 0.7384 - val_loss: 0.5613 - val_accuracy: 0.7412\n",
      "Epoch 8/100\n",
      "20000/20000 [==============================] - 8s 423us/sample - loss: 0.5499 - accuracy: 0.7534 - val_loss: 0.5414 - val_accuracy: 0.7564\n",
      "Epoch 9/100\n",
      "20000/20000 [==============================] - 9s 438us/sample - loss: 0.5307 - accuracy: 0.7613 - val_loss: 0.5253 - val_accuracy: 0.7632\n",
      "Epoch 10/100\n",
      "20000/20000 [==============================] - 8s 425us/sample - loss: 0.5176 - accuracy: 0.7667 - val_loss: 0.5095 - val_accuracy: 0.7794\n",
      "Epoch 11/100\n",
      "20000/20000 [==============================] - 9s 426us/sample - loss: 0.5027 - accuracy: 0.7778 - val_loss: 0.4974 - val_accuracy: 0.7844\n",
      "Epoch 12/100\n",
      "20000/20000 [==============================] - 9s 434us/sample - loss: 0.4902 - accuracy: 0.7828 - val_loss: 0.4874 - val_accuracy: 0.7852\n",
      "Epoch 13/100\n",
      "20000/20000 [==============================] - 9s 433us/sample - loss: 0.4796 - accuracy: 0.7856 - val_loss: 0.4817 - val_accuracy: 0.7846\n",
      "Epoch 14/100\n",
      "20000/20000 [==============================] - 10s 477us/sample - loss: 0.4725 - accuracy: 0.7882 - val_loss: 0.4750 - val_accuracy: 0.7880\n",
      "Epoch 15/100\n",
      "20000/20000 [==============================] - 10s 475us/sample - loss: 0.4664 - accuracy: 0.7934 - val_loss: 0.4665 - val_accuracy: 0.7900\n",
      "Epoch 16/100\n",
      "20000/20000 [==============================] - 13s 626us/sample - loss: 0.4600 - accuracy: 0.7935 - val_loss: 0.4605 - val_accuracy: 0.7928\n",
      "Epoch 17/100\n",
      "20000/20000 [==============================] - 9s 454us/sample - loss: 0.4530 - accuracy: 0.8011 - val_loss: 0.4570 - val_accuracy: 0.7916\n",
      "Epoch 18/100\n",
      "20000/20000 [==============================] - 9s 442us/sample - loss: 0.4480 - accuracy: 0.8009 - val_loss: 0.4542 - val_accuracy: 0.8014\n",
      "Epoch 19/100\n",
      "20000/20000 [==============================] - 9s 442us/sample - loss: 0.4456 - accuracy: 0.8015 - val_loss: 0.4495 - val_accuracy: 0.7944\n",
      "Epoch 20/100\n",
      "20000/20000 [==============================] - 9s 448us/sample - loss: 0.4418 - accuracy: 0.8032 - val_loss: 0.4461 - val_accuracy: 0.7990\n",
      "Epoch 21/100\n",
      "20000/20000 [==============================] - 9s 444us/sample - loss: 0.4385 - accuracy: 0.8025 - val_loss: 0.4444 - val_accuracy: 0.7980\n",
      "Epoch 22/100\n",
      "20000/20000 [==============================] - 9s 437us/sample - loss: 0.4358 - accuracy: 0.8034 - val_loss: 0.4432 - val_accuracy: 0.7964\n",
      "Epoch 23/100\n",
      "20000/20000 [==============================] - 9s 437us/sample - loss: 0.4341 - accuracy: 0.8052 - val_loss: 0.4413 - val_accuracy: 0.8028\n",
      "Epoch 24/100\n",
      "20000/20000 [==============================] - 9s 435us/sample - loss: 0.4313 - accuracy: 0.8067 - val_loss: 0.4400 - val_accuracy: 0.7982\n",
      "Epoch 25/100\n",
      "20000/20000 [==============================] - 9s 434us/sample - loss: 0.4289 - accuracy: 0.8066 - val_loss: 0.4382 - val_accuracy: 0.8006\n",
      "Epoch 26/100\n",
      "20000/20000 [==============================] - 9s 452us/sample - loss: 0.4285 - accuracy: 0.8063 - val_loss: 0.4375 - val_accuracy: 0.7996\n",
      "Epoch 27/100\n",
      "20000/20000 [==============================] - 9s 441us/sample - loss: 0.4260 - accuracy: 0.8066 - val_loss: 0.4365 - val_accuracy: 0.8010\n",
      "Epoch 28/100\n",
      "20000/20000 [==============================] - 9s 436us/sample - loss: 0.4252 - accuracy: 0.8093 - val_loss: 0.4362 - val_accuracy: 0.8010\n",
      "Epoch 29/100\n",
      "20000/20000 [==============================] - 10s 524us/sample - loss: 0.4253 - accuracy: 0.8069 - val_loss: 0.4410 - val_accuracy: 0.7998\n",
      "Epoch 30/100\n",
      "20000/20000 [==============================] - 11s 534us/sample - loss: 0.4226 - accuracy: 0.8085 - val_loss: 0.4347 - val_accuracy: 0.8014\n",
      "Epoch 31/100\n",
      "20000/20000 [==============================] - 9s 457us/sample - loss: 0.4225 - accuracy: 0.8095 - val_loss: 0.4344 - val_accuracy: 0.8040\n",
      "Epoch 32/100\n",
      "20000/20000 [==============================] - 10s 477us/sample - loss: 0.4221 - accuracy: 0.8087 - val_loss: 0.4345 - val_accuracy: 0.7978\n",
      "Epoch 33/100\n",
      "20000/20000 [==============================] - 9s 464us/sample - loss: 0.4221 - accuracy: 0.8098 - val_loss: 0.4351 - val_accuracy: 0.7980\n",
      "Epoch 34/100\n",
      "20000/20000 [==============================] - 8s 425us/sample - loss: 0.4187 - accuracy: 0.8122 - val_loss: 0.4356 - val_accuracy: 0.7954\n"
     ]
    }
   ],
   "source": [
    "# 모델 설정과 훈련\n",
    "rmsprop = keras.optimizers.RMSprop(learning_rate = 1e-4)\n",
    "model2.compile(optimizer=rmsprop, loss='binary_crossentropy',\n",
    "             metrics=['accuracy'])\n",
    "\n",
    "checkpoint_cb = keras.callbacks.ModelCheckpoint('best-simplernn-model.h5')\n",
    "early_stopping_cb = keras.callbacks.EarlyStopping(patience=3, \n",
    "                                                  restore_best_weights=True)\n",
    "\n",
    "history = model2.fit(train_seq, train_target, epochs=100, batch_size=64,\n",
    "                   validation_data=(val_seq, val_target),\n",
    "                   callbacks=[checkpoint_cb, early_stopping_cb])"
   ]
  },
  {
   "cell_type": "code",
   "execution_count": 9,
   "metadata": {},
   "outputs": [
    {
     "data": {
      "image/png": "[encoded data removed]",
      "text/plain": [
       "<Figure size 432x288 with 1 Axes>"
      ]
     },
     "metadata": {
      "needs_background": "light"
     },
     "output_type": "display_data"
    }
   ],
   "source": [
    "# 훈련손실과 검증손실 시각화\n",
    "plt.plot(history.history['loss'])\n",
    "plt.plot(history.history['val_loss'])\n",
    "plt.xlabel('epoch')\n",
    "plt.ylabel('loss')\n",
    "plt.legend(['train', 'val'])\n",
    "plt.show()"
   ]
  },
  {
   "cell_type": "code",
   "execution_count": 10,
   "metadata": {},
   "outputs": [],
   "source": [
    "model3 = keras.Sequential()\n",
    "model3.add(keras.layers.Embedding(500, 16, input_length=100))\n",
    "model3.add(keras.layers.LSTM(8, dropout=0.3, return_sequences=True))\n",
    "model3.add(keras.layers.LSTM(8, dropout=0.3))\n",
    "model3.add(keras.layers.Dense(1, activation='sigmoid'))"
   ]
  },
  {
   "cell_type": "code",
   "execution_count": 11,
   "metadata": {},
   "outputs": [
    {
     "name": "stdout",
     "output_type": "stream",
     "text": [
      "Model: \"sequential_2\"\n",
      "_________________________________________________________________\n",
      "Layer (type)                 Output Shape              Param #   \n",
      "=================================================================\n",
      "embedding_2 (Embedding)      (None, 100, 16)           8000      \n",
      "_________________________________________________________________\n",
      "lstm_2 (LSTM)                (None, 100, 8)            800       \n",
      "_________________________________________________________________\n",
      "lstm_3 (LSTM)                (None, 8)                 544       \n",
      "_________________________________________________________________\n",
      "dense_2 (Dense)              (None, 1)                 9         \n",
      "=================================================================\n",
      "Total params: 9,353\n",
      "Trainable params: 9,353\n",
      "Non-trainable params: 0\n",
      "_________________________________________________________________\n"
     ]
    }
   ],
   "source": [
    "model3.summary()"
   ]
  },
  {
   "cell_type": "code",
   "execution_count": 12,
   "metadata": {},
   "outputs": [
    {
     "name": "stdout",
     "output_type": "stream",
     "text": [
      "Train on 20000 samples, validate on 5000 samples\n",
      "Epoch 1/100\n",
      "20000/20000 [==============================] - 20s 998us/sample - loss: 0.6927 - accuracy: 0.5380 - val_loss: 0.6923 - val_accuracy: 0.5820\n",
      "Epoch 2/100\n",
      "20000/20000 [==============================] - 16s 803us/sample - loss: 0.6909 - accuracy: 0.5971 - val_loss: 0.6882 - val_accuracy: 0.6220\n",
      "Epoch 3/100\n",
      "20000/20000 [==============================] - 16s 795us/sample - loss: 0.6772 - accuracy: 0.6273 - val_loss: 0.6518 - val_accuracy: 0.6430\n",
      "Epoch 4/100\n",
      "20000/20000 [==============================] - 16s 801us/sample - loss: 0.6068 - accuracy: 0.6988 - val_loss: 0.5687 - val_accuracy: 0.7206\n",
      "Epoch 5/100\n",
      "20000/20000 [==============================] - 16s 810us/sample - loss: 0.5489 - accuracy: 0.7348 - val_loss: 0.5283 - val_accuracy: 0.7448\n",
      "Epoch 6/100\n",
      "20000/20000 [==============================] - 16s 796us/sample - loss: 0.5168 - accuracy: 0.7542 - val_loss: 0.5048 - val_accuracy: 0.7620\n",
      "Epoch 7/100\n",
      "20000/20000 [==============================] - 16s 803us/sample - loss: 0.4999 - accuracy: 0.7642 - val_loss: 0.4951 - val_accuracy: 0.7642\n",
      "Epoch 8/100\n",
      "20000/20000 [==============================] - 16s 793us/sample - loss: 0.4845 - accuracy: 0.7736 - val_loss: 0.4790 - val_accuracy: 0.7736\n",
      "Epoch 9/100\n",
      "20000/20000 [==============================] - 16s 807us/sample - loss: 0.4748 - accuracy: 0.7790 - val_loss: 0.4711 - val_accuracy: 0.7784\n",
      "Epoch 10/100\n",
      "20000/20000 [==============================] - 16s 793us/sample - loss: 0.4668 - accuracy: 0.7835 - val_loss: 0.4672 - val_accuracy: 0.7798\n",
      "Epoch 11/100\n",
      "20000/20000 [==============================] - 16s 807us/sample - loss: 0.4619 - accuracy: 0.7845 - val_loss: 0.4611 - val_accuracy: 0.7838\n",
      "Epoch 12/100\n",
      "20000/20000 [==============================] - 16s 810us/sample - loss: 0.4560 - accuracy: 0.7881 - val_loss: 0.4578 - val_accuracy: 0.7840\n",
      "Epoch 13/100\n",
      "20000/20000 [==============================] - 16s 803us/sample - loss: 0.4532 - accuracy: 0.7896 - val_loss: 0.4545 - val_accuracy: 0.7872\n",
      "Epoch 14/100\n",
      "20000/20000 [==============================] - 16s 807us/sample - loss: 0.4499 - accuracy: 0.7933 - val_loss: 0.4514 - val_accuracy: 0.7890\n",
      "Epoch 15/100\n",
      "20000/20000 [==============================] - 16s 802us/sample - loss: 0.4463 - accuracy: 0.7940 - val_loss: 0.4499 - val_accuracy: 0.7894\n",
      "Epoch 16/100\n",
      "20000/20000 [==============================] - 16s 813us/sample - loss: 0.4463 - accuracy: 0.7952 - val_loss: 0.4494 - val_accuracy: 0.7908\n",
      "Epoch 17/100\n",
      "20000/20000 [==============================] - 16s 809us/sample - loss: 0.4418 - accuracy: 0.7965 - val_loss: 0.4470 - val_accuracy: 0.7916\n",
      "Epoch 18/100\n",
      "20000/20000 [==============================] - 16s 808us/sample - loss: 0.4397 - accuracy: 0.7976 - val_loss: 0.4451 - val_accuracy: 0.7910\n",
      "Epoch 19/100\n",
      "20000/20000 [==============================] - 16s 793us/sample - loss: 0.4388 - accuracy: 0.7984 - val_loss: 0.4484 - val_accuracy: 0.7870\n",
      "Epoch 20/100\n",
      "20000/20000 [==============================] - 16s 813us/sample - loss: 0.4390 - accuracy: 0.7972 - val_loss: 0.4419 - val_accuracy: 0.7942\n",
      "Epoch 21/100\n",
      "20000/20000 [==============================] - 16s 807us/sample - loss: 0.4351 - accuracy: 0.8010 - val_loss: 0.4413 - val_accuracy: 0.7942\n",
      "Epoch 22/100\n",
      "20000/20000 [==============================] - 16s 793us/sample - loss: 0.4346 - accuracy: 0.8011 - val_loss: 0.4454 - val_accuracy: 0.7896\n",
      "Epoch 23/100\n",
      "20000/20000 [==============================] - 16s 795us/sample - loss: 0.4320 - accuracy: 0.8012 - val_loss: 0.4393 - val_accuracy: 0.7956\n",
      "Epoch 24/100\n",
      "20000/20000 [==============================] - 16s 804us/sample - loss: 0.4322 - accuracy: 0.8025 - val_loss: 0.4397 - val_accuracy: 0.7942\n",
      "Epoch 25/100\n",
      "20000/20000 [==============================] - 16s 809us/sample - loss: 0.4301 - accuracy: 0.8030 - val_loss: 0.4383 - val_accuracy: 0.7946\n",
      "Epoch 26/100\n",
      "20000/20000 [==============================] - 16s 793us/sample - loss: 0.4282 - accuracy: 0.8058 - val_loss: 0.4414 - val_accuracy: 0.7964\n",
      "Epoch 27/100\n",
      "20000/20000 [==============================] - 16s 807us/sample - loss: 0.4288 - accuracy: 0.8026 - val_loss: 0.4382 - val_accuracy: 0.7956\n",
      "Epoch 28/100\n",
      "20000/20000 [==============================] - 17s 854us/sample - loss: 0.4283 - accuracy: 0.8025 - val_loss: 0.4364 - val_accuracy: 0.7986\n",
      "Epoch 29/100\n",
      "20000/20000 [==============================] - 17s 828us/sample - loss: 0.4279 - accuracy: 0.8041 - val_loss: 0.4361 - val_accuracy: 0.7970\n",
      "Epoch 30/100\n",
      "20000/20000 [==============================] - 16s 818us/sample - loss: 0.4273 - accuracy: 0.8040 - val_loss: 0.4357 - val_accuracy: 0.7966\n",
      "Epoch 31/100\n",
      "20000/20000 [==============================] - 16s 809us/sample - loss: 0.4264 - accuracy: 0.8072 - val_loss: 0.4351 - val_accuracy: 0.7972\n",
      "Epoch 32/100\n",
      "20000/20000 [==============================] - 16s 809us/sample - loss: 0.4240 - accuracy: 0.8065 - val_loss: 0.4342 - val_accuracy: 0.7980\n",
      "Epoch 33/100\n",
      "20000/20000 [==============================] - 16s 806us/sample - loss: 0.4229 - accuracy: 0.8081 - val_loss: 0.4394 - val_accuracy: 0.7986\n",
      "Epoch 34/100\n",
      "20000/20000 [==============================] - 16s 805us/sample - loss: 0.4226 - accuracy: 0.8062 - val_loss: 0.4340 - val_accuracy: 0.7976\n",
      "Epoch 35/100\n",
      "20000/20000 [==============================] - 16s 806us/sample - loss: 0.4230 - accuracy: 0.8067 - val_loss: 0.4341 - val_accuracy: 0.7998\n",
      "Epoch 36/100\n",
      "20000/20000 [==============================] - 16s 790us/sample - loss: 0.4222 - accuracy: 0.8083 - val_loss: 0.4375 - val_accuracy: 0.7938\n",
      "Epoch 37/100\n",
      "20000/20000 [==============================] - 16s 798us/sample - loss: 0.4200 - accuracy: 0.8049 - val_loss: 0.4357 - val_accuracy: 0.8000\n"
     ]
    }
   ],
   "source": [
    "rmsprop = keras.optimizers.RMSprop(learning_rate = 1e-4)\n",
    "model3.compile(optimizer=rmsprop, loss='binary_crossentropy',\n",
    "             metrics=['accuracy'])\n",
    "\n",
    "checkpoint_cb = keras.callbacks.ModelCheckpoint('best-simplernn-model.h5')\n",
    "early_stopping_cb = keras.callbacks.EarlyStopping(patience=3, \n",
    "                                                  restore_best_weights=True)\n",
    "\n",
    "history = model3.fit(train_seq, train_target, epochs=100, batch_size=64,\n",
    "                   validation_data=(val_seq, val_target),\n",
    "                   callbacks=[checkpoint_cb, early_stopping_cb])"
   ]
  },
  {
   "cell_type": "code",
   "execution_count": 13,
   "metadata": {},
   "outputs": [
    {
     "data": {
      "image/png": "[encoded data removed]",
      "text/plain": [
       "<Figure size 432x288 with 1 Axes>"
      ]
     },
     "metadata": {
      "needs_background": "light"
     },
     "output_type": "display_data"
    }
   ],
   "source": [
    "# 훈련손실과 검증손실 시각화\n",
    "plt.plot(history.history['loss'])\n",
    "plt.plot(history.history['val_loss'])\n",
    "plt.xlabel('epoch')\n",
    "plt.ylabel('loss')\n",
    "plt.legend(['train', 'val'])\n",
    "plt.show()"
   ]
  },
  {
   "cell_type": "code",
   "execution_count": null,
   "metadata": {},
   "outputs": [],
   "source": []
  }
 ],
 "metadata": {
  "kernelspec": {
   "display_name": "Python 3",
   "language": "python",
   "name": "python3"
  },
  "language_info": {
   "codemirror_mode": {
    "name": "ipython",
    "version": 3
   },
   "file_extension": ".py",
   "mimetype": "text/x-python",
   "name": "python",
   "nbconvert_exporter": "python",
   "pygments_lexer": "ipython3",
   "version": "3.7.3"
  }
 },
 "nbformat": 4,
 "nbformat_minor": 2
}
