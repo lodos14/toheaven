{
 "cells": [
  {
   "cell_type": "markdown",
   "metadata": {},
   "source": [
    "### Maching Learning vs Deep Learning\n",
    "- ANN : 인공신경망, 모든 비선형 함수를 학습\n",
    "- SLP : 단층 퍼셉트론\n",
    "- MLP : 다층 퍼셉트론, 1개 이상의 은닉층을 보유, 일반적으로 지도학습\n",
    "- DNN : 심층 신경망, ANN 문제해결\n",
    "- CNN : 합성곱 신경망, 이미지및 비디어 처리에 활용\n",
    "- RNN : 순환 신경망, 순차 데이터를 처리 - 언어번역, 시계열 데이터"
   ]
  },
  {
   "cell_type": "code",
   "execution_count": 1,
   "metadata": {},
   "outputs": [
    {
     "name": "stdout",
     "output_type": "stream",
     "text": [
      "Downloading data from https://storage.googleapis.com/tensorflow/tf-keras-datasets/imdb.npz\n",
      "17465344/17464789 [==============================] - 1s 0us/step\n"
     ]
    },
    {
     "name": "stderr",
     "output_type": "stream",
     "text": [
      "C:\\Anaconda3\\lib\\site-packages\\tensorflow_core\\python\\keras\\datasets\\imdb.py:129: VisibleDeprecationWarning: Creating an ndarray from ragged nested sequences (which is a list-or-tuple of lists-or-tuples-or ndarrays with different lengths or shapes) is deprecated. If you meant to do this, you must specify 'dtype=object' when creating the ndarray\n",
      "  x_train, y_train = np.array(xs[:idx]), np.array(labels[:idx])\n",
      "C:\\Anaconda3\\lib\\site-packages\\tensorflow_core\\python\\keras\\datasets\\imdb.py:130: VisibleDeprecationWarning: Creating an ndarray from ragged nested sequences (which is a list-or-tuple of lists-or-tuples-or ndarrays with different lengths or shapes) is deprecated. If you meant to do this, you must specify 'dtype=object' when creating the ndarray\n",
      "  x_test, y_test = np.array(xs[idx:]), np.array(labels[idx:])\n"
     ]
    }
   ],
   "source": [
    "from tensorflow.keras.datasets import imdb\n",
    "\n",
    "# 가장 자주 등장하는 단어 500개만 사용\n",
    "(train_input, train_target), (test_input, test_target) = imdb.load_data(num_words=500)"
   ]
  },
  {
   "cell_type": "code",
   "execution_count": 2,
   "metadata": {},
   "outputs": [
    {
     "name": "stdout",
     "output_type": "stream",
     "text": [
      "(25000,) (25000,)\n"
     ]
    }
   ],
   "source": [
    "print(train_input.shape, test_input.shape)"
   ]
  },
  {
   "cell_type": "code",
   "execution_count": 4,
   "metadata": {},
   "outputs": [
    {
     "data": {
      "text/plain": [
       "218"
      ]
     },
     "execution_count": 4,
     "metadata": {},
     "output_type": "execute_result"
    }
   ],
   "source": [
    "# 첫번째 리뷰의 길이 : 218개의 토큰으로 이루어져있다.\n",
    "len(train_input[0])"
   ]
  },
  {
   "cell_type": "code",
   "execution_count": 5,
   "metadata": {},
   "outputs": [
    {
     "data": {
      "text/plain": [
       "189"
      ]
     },
     "execution_count": 5,
     "metadata": {},
     "output_type": "execute_result"
    }
   ],
   "source": [
    "len(train_input[1])"
   ]
  },
  {
   "cell_type": "code",
   "execution_count": 6,
   "metadata": {},
   "outputs": [
    {
     "data": {
      "text/plain": [
       "array([1, 0, 0, 1, 0, 0, 1, 0, 1, 0, 1, 0, 0, 0, 0, 0, 1, 1, 0, 1],\n",
       "      dtype=int64)"
      ]
     },
     "execution_count": 6,
     "metadata": {},
     "output_type": "execute_result"
    }
   ],
   "source": [
    "# 리뷰의 감정분석 : 긍정(1), 부정(0)\n",
    "train_target[:20]"
   ]
  },
  {
   "cell_type": "code",
   "execution_count": 7,
   "metadata": {},
   "outputs": [],
   "source": [
    "# 검증세트\n",
    "from sklearn.model_selection import train_test_split\n",
    "train_input, val_input, train_target, val_target = train_test_split(\n",
    "train_input, train_target, test_size=0.2, random_state=42)"
   ]
  },
  {
   "cell_type": "code",
   "execution_count": 8,
   "metadata": {},
   "outputs": [
    {
     "name": "stdout",
     "output_type": "stream",
     "text": [
      "239.00925 178.0\n"
     ]
    }
   ],
   "source": [
    "import numpy as np\n",
    "\n",
    "lengths = np.array([len(x) for x in train_input])\n",
    "print(np.mean(lengths), np.median(lengths))"
   ]
  },
  {
   "cell_type": "code",
   "execution_count": 9,
   "metadata": {},
   "outputs": [
    {
     "data": {
      "image/png": "[encoded data removed]",
      "text/plain": [
       "<Figure size 432x288 with 1 Axes>"
      ]
     },
     "metadata": {
      "needs_background": "light"
     },
     "output_type": "display_data"
    }
   ],
   "source": [
    "import matplotlib.pyplot as plt\n",
    "%matplotlib inline\n",
    "\n",
    "plt.hist(lengths)\n",
    "plt.xlabel('length')\n",
    "plt.ylabel('frequency')\n",
    "plt.show()"
   ]
  },
  {
   "cell_type": "markdown",
   "metadata": {},
   "source": [
    "- 모든 리뷰의 길이를 100에 맞추기 위해 패딩을 수행한다.\n",
    "- zero-padding(0)"
   ]
  },
  {
   "cell_type": "code",
   "execution_count": 10,
   "metadata": {},
   "outputs": [
    {
     "data": {
      "text/plain": [
       "(20000, 100)"
      ]
     },
     "execution_count": 10,
     "metadata": {},
     "output_type": "execute_result"
    }
   ],
   "source": [
    "# 시퀀스 데이터의 길이를 맞추는 함수 : pad_sequences()\n",
    "from tensorflow.keras.preprocessing.sequence import pad_sequences\n",
    "train_seq = pad_sequences(train_input, maxlen=100)\n",
    "train_seq.shape"
   ]
  },
  {
   "cell_type": "code",
   "execution_count": 11,
   "metadata": {},
   "outputs": [
    {
     "data": {
      "text/plain": [
       "array([ 10,   4,  20,   9,   2, 364, 352,   5,  45,   6,   2,   2,  33,\n",
       "       269,   8,   2, 142,   2,   5,   2,  17,  73,  17, 204,   5,   2,\n",
       "        19,  55,   2,   2,  92,  66, 104,  14,  20,  93,  76,   2, 151,\n",
       "        33,   4,  58,  12, 188,   2, 151,  12, 215,  69, 224, 142,  73,\n",
       "       237,   6,   2,   7,   2,   2, 188,   2, 103,  14,  31,  10,  10,\n",
       "       451,   7,   2,   5,   2,  80,  91,   2,  30,   2,  34,  14,  20,\n",
       "       151,  50,  26, 131,  49,   2,  84,  46,  50,  37,  80,  79,   6,\n",
       "         2,  46,   7,  14,  20,  10,  10, 470, 158])"
      ]
     },
     "execution_count": 11,
     "metadata": {},
     "output_type": "execute_result"
    }
   ],
   "source": [
    "train_seq[0]"
   ]
  },
  {
   "cell_type": "code",
   "execution_count": 12,
   "metadata": {},
   "outputs": [
    {
     "data": {
      "text/plain": [
       "array([  6,   2,  46,   7,  14,  20,  10,  10, 470, 158])"
      ]
     },
     "execution_count": 12,
     "metadata": {},
     "output_type": "execute_result"
    }
   ],
   "source": [
    "train_seq[0][-10:]"
   ]
  },
  {
   "cell_type": "code",
   "execution_count": 13,
   "metadata": {},
   "outputs": [
    {
     "data": {
      "text/plain": [
       "array([  0,   0,   0,   0,   1,   2, 195,  19,  49,   2,   2, 190,   4,\n",
       "         2, 352,   2, 183,  10,  10,  13,  82,  79,   4,   2,  36,  71,\n",
       "       269,   8,   2,  25,  19,  49,   7,   4,   2,   2,   2,   2,   2,\n",
       "        10,  10,  48,  25,  40,   2,  11,   2,   2,  40,   2,   2,   5,\n",
       "         4,   2,   2,  95,  14, 238,  56, 129,   2,  10,  10,  21,   2,\n",
       "        94, 364, 352,   2,   2,  11, 190,  24, 484,   2,   7,  94, 205,\n",
       "       405,  10,  10,  87,   2,  34,  49,   2,   7,   2,   2,   2,   2,\n",
       "         2, 290,   2,  46,  48,  64,  18,   4,   2])"
      ]
     },
     "execution_count": 13,
     "metadata": {},
     "output_type": "execute_result"
    }
   ],
   "source": [
    "train_seq[5]"
   ]
  },
  {
   "cell_type": "code",
   "execution_count": 14,
   "metadata": {},
   "outputs": [],
   "source": [
    "val_seq = pad_sequences(val_input, maxlen = 100)"
   ]
  },
  {
   "cell_type": "markdown",
   "metadata": {},
   "source": [
    "### 순환 신경망 만들기"
   ]
  },
  {
   "cell_type": "code",
   "execution_count": 15,
   "metadata": {},
   "outputs": [],
   "source": [
    "from tensorflow import keras\n",
    "\n",
    "model = keras.Sequential()\n",
    "model.add(keras.layers.SimpleRNN(8, input_shape=(100, 500)))\n",
    "model.add(keras.layers.Dense(1, activation='sigmoid'))"
   ]
  },
  {
   "cell_type": "code",
   "execution_count": 16,
   "metadata": {},
   "outputs": [
    {
     "data": {
      "text/plain": [
       "(20000, 100, 500)"
      ]
     },
     "execution_count": 16,
     "metadata": {},
     "output_type": "execute_result"
    }
   ],
   "source": [
    "train_oh = keras.utils.to_categorical(train_seq)\n",
    "train_oh.shape"
   ]
  },
  {
   "cell_type": "code",
   "execution_count": 17,
   "metadata": {},
   "outputs": [
    {
     "name": "stdout",
     "output_type": "stream",
     "text": [
      "Model: \"sequential\"\n",
      "_________________________________________________________________\n",
      "Layer (type)                 Output Shape              Param #   \n",
      "=================================================================\n",
      "simple_rnn (SimpleRNN)       (None, 8)                 4072      \n",
      "_________________________________________________________________\n",
      "dense (Dense)                (None, 1)                 9         \n",
      "=================================================================\n",
      "Total params: 4,081\n",
      "Trainable params: 4,081\n",
      "Non-trainable params: 0\n",
      "_________________________________________________________________\n"
     ]
    }
   ],
   "source": [
    "# 모델 정보 확인\n",
    "model.summary()"
   ]
  },
  {
   "cell_type": "code",
   "execution_count": 18,
   "metadata": {},
   "outputs": [],
   "source": [
    "val_oh = keras.utils.to_categorical(val_seq)"
   ]
  },
  {
   "cell_type": "code",
   "execution_count": 19,
   "metadata": {},
   "outputs": [
    {
     "name": "stdout",
     "output_type": "stream",
     "text": [
      "Train on 20000 samples, validate on 5000 samples\n",
      "Epoch 1/100\n",
      "20000/20000 [==============================] - 15s 733us/sample - loss: 0.6921 - accuracy: 0.5254 - val_loss: 0.6821 - val_accuracy: 0.5712\n",
      "Epoch 2/100\n",
      "20000/20000 [==============================] - 12s 603us/sample - loss: 0.6737 - accuracy: 0.5933 - val_loss: 0.6660 - val_accuracy: 0.6148\n",
      "Epoch 3/100\n",
      "20000/20000 [==============================] - 12s 599us/sample - loss: 0.6554 - accuracy: 0.6366 - val_loss: 0.6489 - val_accuracy: 0.6492\n",
      "Epoch 4/100\n",
      "20000/20000 [==============================] - 12s 604us/sample - loss: 0.6351 - accuracy: 0.6715 - val_loss: 0.6300 - val_accuracy: 0.6754\n",
      "Epoch 5/100\n",
      "20000/20000 [==============================] - 12s 589us/sample - loss: 0.6123 - accuracy: 0.7038 - val_loss: 0.6108 - val_accuracy: 0.6918\n",
      "Epoch 6/100\n",
      "20000/20000 [==============================] - 12s 600us/sample - loss: 0.5911 - accuracy: 0.7255 - val_loss: 0.5915 - val_accuracy: 0.7160\n",
      "Epoch 7/100\n",
      "20000/20000 [==============================] - 12s 593us/sample - loss: 0.5732 - accuracy: 0.7386 - val_loss: 0.5761 - val_accuracy: 0.7286\n",
      "Epoch 8/100\n",
      "20000/20000 [==============================] - 12s 594us/sample - loss: 0.5560 - accuracy: 0.7528 - val_loss: 0.5610 - val_accuracy: 0.7366\n",
      "Epoch 9/100\n",
      "20000/20000 [==============================] - 12s 596us/sample - loss: 0.5413 - accuracy: 0.7618 - val_loss: 0.5506 - val_accuracy: 0.7428\n",
      "Epoch 10/100\n",
      "20000/20000 [==============================] - 12s 590us/sample - loss: 0.5279 - accuracy: 0.7689 - val_loss: 0.5365 - val_accuracy: 0.7514\n",
      "Epoch 11/100\n",
      "20000/20000 [==============================] - 12s 601us/sample - loss: 0.5156 - accuracy: 0.7750 - val_loss: 0.5309 - val_accuracy: 0.7520\n",
      "Epoch 12/100\n",
      "20000/20000 [==============================] - 12s 593us/sample - loss: 0.5046 - accuracy: 0.7789 - val_loss: 0.5181 - val_accuracy: 0.7610\n",
      "Epoch 13/100\n",
      "20000/20000 [==============================] - 12s 600us/sample - loss: 0.4950 - accuracy: 0.7835 - val_loss: 0.5084 - val_accuracy: 0.7670\n",
      "Epoch 14/100\n",
      "20000/20000 [==============================] - 12s 607us/sample - loss: 0.4858 - accuracy: 0.7886 - val_loss: 0.4999 - val_accuracy: 0.7778\n",
      "Epoch 15/100\n",
      "20000/20000 [==============================] - 12s 599us/sample - loss: 0.4780 - accuracy: 0.7932 - val_loss: 0.4934 - val_accuracy: 0.7764\n",
      "Epoch 16/100\n",
      "20000/20000 [==============================] - 12s 599us/sample - loss: 0.4709 - accuracy: 0.7939 - val_loss: 0.4858 - val_accuracy: 0.7800\n",
      "Epoch 17/100\n",
      "20000/20000 [==============================] - 12s 589us/sample - loss: 0.4641 - accuracy: 0.7983 - val_loss: 0.4860 - val_accuracy: 0.7718\n",
      "Epoch 18/100\n",
      "20000/20000 [==============================] - 12s 589us/sample - loss: 0.4585 - accuracy: 0.8002 - val_loss: 0.4765 - val_accuracy: 0.7818\n",
      "Epoch 19/100\n",
      "20000/20000 [==============================] - 12s 612us/sample - loss: 0.4526 - accuracy: 0.8020 - val_loss: 0.4712 - val_accuracy: 0.7874\n",
      "Epoch 20/100\n",
      "20000/20000 [==============================] - 12s 601us/sample - loss: 0.4478 - accuracy: 0.8038 - val_loss: 0.4681 - val_accuracy: 0.7866\n",
      "Epoch 21/100\n",
      "20000/20000 [==============================] - 12s 602us/sample - loss: 0.4435 - accuracy: 0.8073 - val_loss: 0.4673 - val_accuracy: 0.7846\n",
      "Epoch 22/100\n",
      "20000/20000 [==============================] - 12s 593us/sample - loss: 0.4396 - accuracy: 0.8076 - val_loss: 0.4613 - val_accuracy: 0.7874\n",
      "Epoch 23/100\n",
      "20000/20000 [==============================] - 12s 598us/sample - loss: 0.4361 - accuracy: 0.8080 - val_loss: 0.4575 - val_accuracy: 0.7910\n",
      "Epoch 24/100\n",
      "20000/20000 [==============================] - 12s 598us/sample - loss: 0.4325 - accuracy: 0.8091 - val_loss: 0.4579 - val_accuracy: 0.7888\n",
      "Epoch 25/100\n",
      "20000/20000 [==============================] - 12s 605us/sample - loss: 0.4300 - accuracy: 0.8112 - val_loss: 0.4553 - val_accuracy: 0.7900\n",
      "Epoch 26/100\n",
      "20000/20000 [==============================] - 12s 596us/sample - loss: 0.4274 - accuracy: 0.8116 - val_loss: 0.4546 - val_accuracy: 0.7898\n",
      "Epoch 27/100\n",
      "20000/20000 [==============================] - 12s 605us/sample - loss: 0.4249 - accuracy: 0.8119 - val_loss: 0.4513 - val_accuracy: 0.7912\n",
      "Epoch 28/100\n",
      "20000/20000 [==============================] - 12s 601us/sample - loss: 0.4232 - accuracy: 0.8134 - val_loss: 0.4519 - val_accuracy: 0.7920\n",
      "Epoch 29/100\n",
      "20000/20000 [==============================] - 12s 594us/sample - loss: 0.4212 - accuracy: 0.8138 - val_loss: 0.4505 - val_accuracy: 0.7942\n",
      "Epoch 30/100\n",
      "20000/20000 [==============================] - 12s 593us/sample - loss: 0.4192 - accuracy: 0.8141 - val_loss: 0.4488 - val_accuracy: 0.7956\n",
      "Epoch 31/100\n",
      "20000/20000 [==============================] - 12s 600us/sample - loss: 0.4176 - accuracy: 0.8145 - val_loss: 0.4539 - val_accuracy: 0.7902\n",
      "Epoch 32/100\n",
      "20000/20000 [==============================] - 12s 597us/sample - loss: 0.4159 - accuracy: 0.8156 - val_loss: 0.4517 - val_accuracy: 0.7914\n",
      "Epoch 33/100\n",
      "20000/20000 [==============================] - 12s 599us/sample - loss: 0.4144 - accuracy: 0.8156 - val_loss: 0.4460 - val_accuracy: 0.7932\n",
      "Epoch 34/100\n",
      "20000/20000 [==============================] - 12s 597us/sample - loss: 0.4131 - accuracy: 0.8178 - val_loss: 0.4470 - val_accuracy: 0.7956\n",
      "Epoch 35/100\n",
      "20000/20000 [==============================] - 12s 597us/sample - loss: 0.4116 - accuracy: 0.8177 - val_loss: 0.4460 - val_accuracy: 0.7940\n",
      "Epoch 36/100\n",
      "20000/20000 [==============================] - 12s 603us/sample - loss: 0.4105 - accuracy: 0.8173 - val_loss: 0.4476 - val_accuracy: 0.7942\n"
     ]
    }
   ],
   "source": [
    "# 모델 설정과 훈련\n",
    "rmsprop = keras.optimizers.RMSprop(learning_rate = 1e-4)\n",
    "model.compile(optimizer=rmsprop, loss='binary_crossentropy',\n",
    "             metrics=['accuracy'])\n",
    "\n",
    "checkpoint_cb = keras.callbacks.ModelCheckpoint('best-simplernn-model.h5')\n",
    "early_stopping_cb = keras.callbacks.EarlyStopping(patience=3, \n",
    "                                                  restore_best_weights=True)\n",
    "\n",
    "history = model.fit(train_oh, train_target, epochs=100, batch_size=64,\n",
    "                   validation_data=(val_oh, val_target),\n",
    "                   callbacks=[checkpoint_cb, early_stopping_cb])"
   ]
  },
  {
   "cell_type": "code",
   "execution_count": 20,
   "metadata": {},
   "outputs": [
    {
     "data": {
      "image/png": "[encoded data removed]",
      "text/plain": [
       "<Figure size 432x288 with 1 Axes>"
      ]
     },
     "metadata": {
      "needs_background": "light"
     },
     "output_type": "display_data"
    }
   ],
   "source": [
    "# 훈련손실과 검증손실 시각화\n",
    "plt.plot(history.history['loss'])\n",
    "plt.plot(history.history['val_loss'])\n",
    "plt.xlabel('epoch')\n",
    "plt.ylabel('loss')\n",
    "plt.legend(['train', 'val'])\n",
    "plt.show()"
   ]
  },
  {
   "cell_type": "code",
   "execution_count": 21,
   "metadata": {},
   "outputs": [
    {
     "name": "stdout",
     "output_type": "stream",
     "text": [
      "8000000 4000000000\n"
     ]
    }
   ],
   "source": [
    "print(train_seq.nbytes, train_oh.nbytes)"
   ]
  },
  {
   "cell_type": "markdown",
   "metadata": {},
   "source": [
    "### 단어 임베딩 처리"
   ]
  },
  {
   "cell_type": "code",
   "execution_count": 25,
   "metadata": {},
   "outputs": [],
   "source": [
    "model2 = keras.Sequential()\n",
    "model2.add(keras.layers.Embedding(500, 16, input_length=100))\n",
    "model2.add(keras.layers.SimpleRNN(8))\n",
    "model2.add(keras.layers.Dense(1, activation='sigmoid'))"
   ]
  },
  {
   "cell_type": "code",
   "execution_count": 26,
   "metadata": {},
   "outputs": [
    {
     "name": "stdout",
     "output_type": "stream",
     "text": [
      "Model: \"sequential_2\"\n",
      "_________________________________________________________________\n",
      "Layer (type)                 Output Shape              Param #   \n",
      "=================================================================\n",
      "embedding_1 (Embedding)      (None, 100, 16)           8000      \n",
      "_________________________________________________________________\n",
      "simple_rnn_2 (SimpleRNN)     (None, 8)                 200       \n",
      "_________________________________________________________________\n",
      "dense_2 (Dense)              (None, 1)                 9         \n",
      "=================================================================\n",
      "Total params: 8,209\n",
      "Trainable params: 8,209\n",
      "Non-trainable params: 0\n",
      "_________________________________________________________________\n"
     ]
    }
   ],
   "source": [
    "model2.summary()"
   ]
  },
  {
   "cell_type": "code",
   "execution_count": 27,
   "metadata": {},
   "outputs": [
    {
     "name": "stdout",
     "output_type": "stream",
     "text": [
      "Train on 20000 samples, validate on 5000 samples\n",
      "Epoch 1/100\n",
      "20000/20000 [==============================] - 7s 344us/sample - loss: 0.6902 - accuracy: 0.5387 - val_loss: 0.6769 - val_accuracy: 0.5864\n",
      "Epoch 2/100\n",
      "20000/20000 [==============================] - 5s 267us/sample - loss: 0.6588 - accuracy: 0.6427 - val_loss: 0.6467 - val_accuracy: 0.6648\n",
      "Epoch 3/100\n",
      "20000/20000 [==============================] - 5s 268us/sample - loss: 0.6306 - accuracy: 0.6962 - val_loss: 0.6210 - val_accuracy: 0.7024\n",
      "Epoch 4/100\n",
      "20000/20000 [==============================] - 6s 276us/sample - loss: 0.6040 - accuracy: 0.7258 - val_loss: 0.5978 - val_accuracy: 0.7272\n",
      "Epoch 5/100\n",
      "20000/20000 [==============================] - 5s 273us/sample - loss: 0.5799 - accuracy: 0.7459 - val_loss: 0.5750 - val_accuracy: 0.7410\n",
      "Epoch 6/100\n",
      "20000/20000 [==============================] - 6s 278us/sample - loss: 0.5568 - accuracy: 0.7606 - val_loss: 0.5565 - val_accuracy: 0.7466\n",
      "Epoch 7/100\n",
      "20000/20000 [==============================] - 6s 282us/sample - loss: 0.5367 - accuracy: 0.7695 - val_loss: 0.5429 - val_accuracy: 0.7504\n",
      "Epoch 8/100\n",
      "20000/20000 [==============================] - 6s 278us/sample - loss: 0.5179 - accuracy: 0.7793 - val_loss: 0.5291 - val_accuracy: 0.7594\n",
      "Epoch 9/100\n",
      "20000/20000 [==============================] - 6s 281us/sample - loss: 0.5011 - accuracy: 0.7866 - val_loss: 0.5130 - val_accuracy: 0.7688\n",
      "Epoch 10/100\n",
      "20000/20000 [==============================] - 6s 275us/sample - loss: 0.4870 - accuracy: 0.7914 - val_loss: 0.5073 - val_accuracy: 0.7674\n",
      "Epoch 11/100\n",
      "20000/20000 [==============================] - 6s 276us/sample - loss: 0.4749 - accuracy: 0.7966 - val_loss: 0.4935 - val_accuracy: 0.7738\n",
      "Epoch 12/100\n",
      "20000/20000 [==============================] - 6s 277us/sample - loss: 0.4641 - accuracy: 0.8018 - val_loss: 0.4852 - val_accuracy: 0.7778\n",
      "Epoch 13/100\n",
      "20000/20000 [==============================] - 6s 279us/sample - loss: 0.4542 - accuracy: 0.8045 - val_loss: 0.4780 - val_accuracy: 0.7792\n",
      "Epoch 14/100\n",
      "20000/20000 [==============================] - 6s 278us/sample - loss: 0.4467 - accuracy: 0.8080 - val_loss: 0.4793 - val_accuracy: 0.7756\n",
      "Epoch 15/100\n",
      "20000/20000 [==============================] - 6s 278us/sample - loss: 0.4400 - accuracy: 0.8094 - val_loss: 0.4702 - val_accuracy: 0.7824\n",
      "Epoch 16/100\n",
      "20000/20000 [==============================] - 5s 273us/sample - loss: 0.4345 - accuracy: 0.8115 - val_loss: 0.4663 - val_accuracy: 0.7848\n",
      "Epoch 17/100\n",
      "20000/20000 [==============================] - 6s 276us/sample - loss: 0.4291 - accuracy: 0.8136 - val_loss: 0.4652 - val_accuracy: 0.7840\n",
      "Epoch 18/100\n",
      "20000/20000 [==============================] - 6s 276us/sample - loss: 0.4246 - accuracy: 0.8156 - val_loss: 0.4650 - val_accuracy: 0.7868\n",
      "Epoch 19/100\n",
      "20000/20000 [==============================] - 6s 276us/sample - loss: 0.4203 - accuracy: 0.8184 - val_loss: 0.4624 - val_accuracy: 0.7862\n",
      "Epoch 20/100\n",
      "20000/20000 [==============================] - 6s 277us/sample - loss: 0.4171 - accuracy: 0.8191 - val_loss: 0.4643 - val_accuracy: 0.7854\n",
      "Epoch 21/100\n",
      "20000/20000 [==============================] - 6s 277us/sample - loss: 0.4135 - accuracy: 0.8214 - val_loss: 0.4600 - val_accuracy: 0.7882\n",
      "Epoch 22/100\n",
      "20000/20000 [==============================] - 6s 283us/sample - loss: 0.4106 - accuracy: 0.8209 - val_loss: 0.4600 - val_accuracy: 0.7876\n",
      "Epoch 23/100\n",
      "20000/20000 [==============================] - 6s 278us/sample - loss: 0.4078 - accuracy: 0.8243 - val_loss: 0.4606 - val_accuracy: 0.7856\n",
      "Epoch 24/100\n",
      "20000/20000 [==============================] - 6s 277us/sample - loss: 0.4051 - accuracy: 0.8245 - val_loss: 0.4620 - val_accuracy: 0.7876\n"
     ]
    }
   ],
   "source": [
    "# 모델 설정과 훈련\n",
    "rmsprop = keras.optimizers.RMSprop(learning_rate = 1e-4)\n",
    "model2.compile(optimizer=rmsprop, loss='binary_crossentropy',\n",
    "             metrics=['accuracy'])\n",
    "\n",
    "checkpoint_cb = keras.callbacks.ModelCheckpoint('best-simplernn-model.h5')\n",
    "early_stopping_cb = keras.callbacks.EarlyStopping(patience=3, \n",
    "                                                  restore_best_weights=True)\n",
    "\n",
    "history = model2.fit(train_seq, train_target, epochs=100, batch_size=64,\n",
    "                   validation_data=(val_seq, val_target),\n",
    "                   callbacks=[checkpoint_cb, early_stopping_cb])"
   ]
  },
  {
   "cell_type": "code",
   "execution_count": 28,
   "metadata": {},
   "outputs": [
    {
     "data": {
      "image/png": "[encoded data removed]",
      "text/plain": [
       "<Figure size 432x288 with 1 Axes>"
      ]
     },
     "metadata": {
      "needs_background": "light"
     },
     "output_type": "display_data"
    }
   ],
   "source": [
    "# 훈련손실과 검증손실 시각화\n",
    "plt.plot(history.history['loss'])\n",
    "plt.plot(history.history['val_loss'])\n",
    "plt.xlabel('epoch')\n",
    "plt.ylabel('loss')\n",
    "plt.legend(['train', 'val'])\n",
    "plt.show()"
   ]
  },
  {
   "cell_type": "code",
   "execution_count": null,
   "metadata": {},
   "outputs": [],
   "source": []
  },
  {
   "cell_type": "code",
   "execution_count": null,
   "metadata": {},
   "outputs": [],
   "source": []
  },
  {
   "cell_type": "code",
   "execution_count": null,
   "metadata": {},
   "outputs": [],
   "source": []
  }
 ],
 "metadata": {
  "kernelspec": {
   "display_name": "Python 3",
   "language": "python",
   "name": "python3"
  },
  "language_info": {
   "codemirror_mode": {
    "name": "ipython",
    "version": 3
   },
   "file_extension": ".py",
   "mimetype": "text/x-python",
   "name": "python",
   "nbconvert_exporter": "python",
   "pygments_lexer": "ipython3",
   "version": "3.7.3"
  }
 },
 "nbformat": 4,
 "nbformat_minor": 2
}
