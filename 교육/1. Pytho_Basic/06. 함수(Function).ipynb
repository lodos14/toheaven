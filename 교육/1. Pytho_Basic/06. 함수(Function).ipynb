{
 "cells": [
  {
   "cell_type": "markdown",
   "metadata": {},
   "source": [
    "### 00. 함수(Function)\n",
    "- 일정한 작업을 수행하는 명령어들의 집합\n",
    "- 자주 빈번하게 사용되는 기능이나 명령어를 하나의 이름으로 묶어 처리\n",
    "- 형식 def(=define) 함수명(매개변수):\n",
    "-                        수행할 문장들...\n",
    "-                        return 리턴값"
   ]
  },
  {
   "cell_type": "code",
   "execution_count": 1,
   "metadata": {},
   "outputs": [],
   "source": [
    "def function():\n",
    "    pass\n",
    "    # return"
   ]
  },
  {
   "cell_type": "code",
   "execution_count": 2,
   "metadata": {},
   "outputs": [
    {
     "name": "stdout",
     "output_type": "stream",
     "text": [
      "12345\n",
      "==========\n",
      "안녕하세요\n",
      "==========\n",
      "오늘은 월요일입니다.\n",
      "내일은 화요일입니다.\n",
      "==========\n"
     ]
    }
   ],
   "source": [
    "print(12345)\n",
    "print(\"==========\")\n",
    "print(\"안녕하세요\")\n",
    "print(\"==========\")\n",
    "print(\"오늘은 월요일입니다.\")\n",
    "print(\"내일은 화요일입니다.\")\n",
    "print(\"==========\")"
   ]
  },
  {
   "cell_type": "code",
   "execution_count": 4,
   "metadata": {},
   "outputs": [],
   "source": [
    "# 반복문 : 동일하거나 유사한 성격을 가지고 있는 문장을 반복할 때\n",
    "# 유사한 문장 : 동일한 행위를 하되 일정한 규칙을 가지고 있는 문장\n",
    "\n",
    "def disp():\n",
    "    print(\"==========\")\n",
    "    #return"
   ]
  },
  {
   "cell_type": "code",
   "execution_count": 5,
   "metadata": {},
   "outputs": [
    {
     "name": "stdout",
     "output_type": "stream",
     "text": [
      "12345\n",
      "==========\n",
      "안녕하세요\n",
      "==========\n",
      "오늘은 월요일입니다.\n",
      "내일은 화요일입니다.\n",
      "==========\n",
      "==========\n"
     ]
    }
   ],
   "source": [
    "print(12345)\n",
    "#print(\"==========\")\n",
    "disp()\n",
    "print(\"안녕하세요\")\n",
    "#print(\"==========\")\n",
    "disp()\n",
    "print(\"오늘은 월요일입니다.\")\n",
    "print(\"내일은 화요일입니다.\")\n",
    "#print(\"==========\")\n",
    "disp()\n",
    "disp()"
   ]
  },
  {
   "cell_type": "code",
   "execution_count": 6,
   "metadata": {},
   "outputs": [
    {
     "name": "stdout",
     "output_type": "stream",
     "text": [
      "수1 = 10\n",
      "수2 = 3\n",
      "덧셈 =  13\n",
      "뺄셈 =  7\n",
      "곱셈 =  30\n",
      "나눗셈 =  3.3333333333333335\n"
     ]
    }
   ],
   "source": [
    "# 계산기 프로그램\n",
    "# 두 개의 정수를 입력받아 덧셈과 뺄셈 그리고 곱셈과 나눗셈의 결과를\n",
    "# 출력하는 프로그램\n",
    "\n",
    "su1 = int(input(\"수1 = \"))\n",
    "su2 = int(input(\"수2 = \"))\n",
    "\n",
    "adder = su1 + su2\n",
    "sub = su1 - su2\n",
    "multi = su1 * su2\n",
    "div = su1 / su2\n",
    "\n",
    "print(\"덧셈 = \", adder)\n",
    "print(\"뺄셈 = \", sub)\n",
    "print(\"곱셈 = \", multi)\n",
    "print(\"나눗셈 = \", div)"
   ]
  },
  {
   "cell_type": "code",
   "execution_count": 8,
   "metadata": {},
   "outputs": [],
   "source": [
    "# 함수 정의\n",
    "def adder(x, y):\n",
    "    #c = x + y\n",
    "    return x+y"
   ]
  },
  {
   "cell_type": "code",
   "execution_count": 9,
   "metadata": {},
   "outputs": [
    {
     "name": "stdout",
     "output_type": "stream",
     "text": [
      "수1 = 10\n",
      "수2 = 5\n",
      "1.덧셈 2.뺄셈 3.곱셈 4.나눗셈 = 1\n",
      "결과 =  15\n"
     ]
    }
   ],
   "source": [
    "su1 = int(input(\"수1 = \"))\n",
    "su2 = int(input(\"수2 = \"))\n",
    "oppr = input(\"1.덧셈 2.뺄셈 3.곱셈 4.나눗셈 = \")\n",
    "\n",
    "result = 0\n",
    "\n",
    "if oppr == \"1\":\n",
    "    result = adder(su1 , su2)   # 함수호출\n",
    "elif oppr == \"2\":\n",
    "    result = su1 - su2\n",
    "elif oppr == \"3\":\n",
    "    result = su1 * su2\n",
    "elif oppr == \"4\":\n",
    "    result = su1 / su2\n",
    "else:\n",
    "    print(\"연산자가 올바르지 않습니다.\")\n",
    "    \n",
    "print(\"결과 = \", result)"
   ]
  },
  {
   "cell_type": "code",
   "execution_count": 10,
   "metadata": {},
   "outputs": [],
   "source": [
    "def twotimes(x):\n",
    "    y = 2 * x  \n",
    "    return y"
   ]
  },
  {
   "cell_type": "code",
   "execution_count": 11,
   "metadata": {},
   "outputs": [
    {
     "data": {
      "text/plain": [
       "4"
      ]
     },
     "execution_count": 11,
     "metadata": {},
     "output_type": "execute_result"
    }
   ],
   "source": [
    "twotimes(2)"
   ]
  },
  {
   "cell_type": "code",
   "execution_count": 12,
   "metadata": {},
   "outputs": [],
   "source": [
    "# 하나의 숫자를 입력받아 짝수인지 홀수인지 판정하는 프로그램\n",
    "# 이때, 짝수와 홀수를 판정하는 식을 함수로 구현할 것\n",
    "\n",
    "def check(x):\n",
    "    if x % 2 == 0:\n",
    "        return \"짝수\"\n",
    "    else:\n",
    "        return \"홀수\""
   ]
  },
  {
   "cell_type": "code",
   "execution_count": 13,
   "metadata": {},
   "outputs": [
    {
     "name": "stdout",
     "output_type": "stream",
     "text": [
      "수 = 5\n",
      "홀수\n"
     ]
    }
   ],
   "source": [
    "n = int(input(\"수 = \"))\n",
    "\n",
    "print(check(n))"
   ]
  },
  {
   "cell_type": "code",
   "execution_count": 14,
   "metadata": {},
   "outputs": [],
   "source": [
    "# 람다함수(lambda) : 함수의 이름을 주지않거나 코드를 짧게 줄여서 쓸때\n",
    "def f(x):\n",
    "    return 2 * x"
   ]
  },
  {
   "cell_type": "code",
   "execution_count": 15,
   "metadata": {},
   "outputs": [
    {
     "data": {
      "text/plain": [
       "4"
      ]
     },
     "execution_count": 15,
     "metadata": {},
     "output_type": "execute_result"
    }
   ],
   "source": [
    "f(2)"
   ]
  },
  {
   "cell_type": "code",
   "execution_count": 16,
   "metadata": {},
   "outputs": [],
   "source": [
    "fin = lambda x : 2 * x"
   ]
  },
  {
   "cell_type": "code",
   "execution_count": 17,
   "metadata": {},
   "outputs": [
    {
     "data": {
      "text/plain": [
       "4"
      ]
     },
     "execution_count": 17,
     "metadata": {},
     "output_type": "execute_result"
    }
   ],
   "source": [
    "fin(2)"
   ]
  },
  {
   "cell_type": "code",
   "execution_count": 18,
   "metadata": {},
   "outputs": [
    {
     "ename": "NameError",
     "evalue": "name 'a' is not defined",
     "output_type": "error",
     "traceback": [
      "\u001b[1;31m---------------------------------------------------------------------------\u001b[0m",
      "\u001b[1;31mNameError\u001b[0m                                 Traceback (most recent call last)",
      "\u001b[1;32m<ipython-input-18-9ddf61c3eb08>\u001b[0m in \u001b[0;36m<module>\u001b[1;34m\u001b[0m\n\u001b[0;32m      1\u001b[0m \u001b[1;31m# 지역변수(local variable)와 전역변수(global)\u001b[0m\u001b[1;33m\u001b[0m\u001b[1;33m\u001b[0m\u001b[1;33m\u001b[0m\u001b[0m\n\u001b[1;32m----> 2\u001b[1;33m \u001b[1;32mdel\u001b[0m \u001b[0ma\u001b[0m\u001b[1;33m\u001b[0m\u001b[1;33m\u001b[0m\u001b[0m\n\u001b[0m",
      "\u001b[1;31mNameError\u001b[0m: name 'a' is not defined"
     ]
    }
   ],
   "source": [
    "# 지역변수(local variable)와 전역변수(global)\n",
    "del a"
   ]
  },
  {
   "cell_type": "code",
   "execution_count": 22,
   "metadata": {},
   "outputs": [],
   "source": [
    "a = 1\n",
    "def func(x):\n",
    "    a = 10 * x\n",
    "    print(\"a = \", a)\n",
    "    return a"
   ]
  },
  {
   "cell_type": "code",
   "execution_count": 23,
   "metadata": {},
   "outputs": [
    {
     "name": "stdout",
     "output_type": "stream",
     "text": [
      "a =  100\n"
     ]
    },
    {
     "data": {
      "text/plain": [
       "100"
      ]
     },
     "execution_count": 23,
     "metadata": {},
     "output_type": "execute_result"
    }
   ],
   "source": [
    "func(10)"
   ]
  },
  {
   "cell_type": "code",
   "execution_count": 24,
   "metadata": {},
   "outputs": [
    {
     "data": {
      "text/plain": [
       "1"
      ]
     },
     "execution_count": 24,
     "metadata": {},
     "output_type": "execute_result"
    }
   ],
   "source": [
    "a"
   ]
  },
  {
   "cell_type": "code",
   "execution_count": 28,
   "metadata": {},
   "outputs": [],
   "source": [
    "def sub1(x, y):\n",
    "    return x+y\n",
    "\n",
    "def sub2(x, y):\n",
    "    print(x+y)\n",
    "    #return"
   ]
  },
  {
   "cell_type": "code",
   "execution_count": 29,
   "metadata": {},
   "outputs": [
    {
     "name": "stdout",
     "output_type": "stream",
     "text": [
      "30\n"
     ]
    }
   ],
   "source": [
    "print(sub1(10, 20))  # print(30)"
   ]
  },
  {
   "cell_type": "code",
   "execution_count": 30,
   "metadata": {},
   "outputs": [
    {
     "name": "stdout",
     "output_type": "stream",
     "text": [
      "30\n",
      "None\n"
     ]
    }
   ],
   "source": [
    "print(sub2(10, 20))  # print(print(30))"
   ]
  },
  {
   "cell_type": "code",
   "execution_count": 31,
   "metadata": {},
   "outputs": [
    {
     "data": {
      "text/plain": [
       "100"
      ]
     },
     "execution_count": 31,
     "metadata": {},
     "output_type": "execute_result"
    }
   ],
   "source": [
    "# 사용자 정의 함수와 내장 함수\n",
    "abs(-100)"
   ]
  },
  {
   "cell_type": "code",
   "execution_count": 32,
   "metadata": {},
   "outputs": [],
   "source": [
    "def my_abs(arg):\n",
    "    if arg < 0:\n",
    "        return arg * -1\n",
    "    else:\n",
    "        return arg\n",
    " "
   ]
  },
  {
   "cell_type": "code",
   "execution_count": 33,
   "metadata": {},
   "outputs": [
    {
     "data": {
      "text/plain": [
       "100"
      ]
     },
     "execution_count": 33,
     "metadata": {},
     "output_type": "execute_result"
    }
   ],
   "source": [
    "my_abs(-100)"
   ]
  },
  {
   "cell_type": "code",
   "execution_count": 34,
   "metadata": {},
   "outputs": [
    {
     "data": {
      "text/plain": [
       "10"
      ]
     },
     "execution_count": 34,
     "metadata": {},
     "output_type": "execute_result"
    }
   ],
   "source": [
    "my_abs(10)\n"
   ]
  },
  {
   "cell_type": "code",
   "execution_count": 46,
   "metadata": {},
   "outputs": [],
   "source": [
    "def print_text(text='감사합니다.', count=1): # default parameter , 디폴트 매개변수, 매개변수의 초기값\n",
    "    for i in range(count):\n",
    "        print(text)"
   ]
  },
  {
   "cell_type": "code",
   "execution_count": 40,
   "metadata": {},
   "outputs": [
    {
     "name": "stdout",
     "output_type": "stream",
     "text": [
      "안녕하세요\n",
      "안녕하세요\n",
      "안녕하세요\n"
     ]
    }
   ],
   "source": [
    "print_text('안녕하세요', 3)"
   ]
  },
  {
   "cell_type": "code",
   "execution_count": 41,
   "metadata": {},
   "outputs": [
    {
     "name": "stdout",
     "output_type": "stream",
     "text": [
      "안녕하세요\n"
     ]
    }
   ],
   "source": [
    "print_text('안녕하세요')"
   ]
  },
  {
   "cell_type": "code",
   "execution_count": 44,
   "metadata": {},
   "outputs": [
    {
     "name": "stdout",
     "output_type": "stream",
     "text": [
      "감사합니다.\n"
     ]
    }
   ],
   "source": [
    "print_text()\n"
   ]
  },
  {
   "cell_type": "code",
   "execution_count": 47,
   "metadata": {},
   "outputs": [
    {
     "name": "stdout",
     "output_type": "stream",
     "text": [
      "10\n"
     ]
    }
   ],
   "source": [
    "print_text(10)"
   ]
  },
  {
   "cell_type": "code",
   "execution_count": 49,
   "metadata": {},
   "outputs": [
    {
     "name": "stdout",
     "output_type": "stream",
     "text": [
      "True\n",
      "False\n",
      "True\n",
      "False\n"
     ]
    }
   ],
   "source": [
    "# all() : 모든 값이 True인지 검사하는 함수 \n",
    "# any() : 어느거 하나라도 True인지 검사하는 함수\n",
    "print(all([1, 2, 3]))\n",
    "print(all([1, 2, 3, 0]))\n",
    "\n",
    "print(any([1, 2, 3]))\n",
    "print(any([0, 0, 0, 0]))"
   ]
  },
  {
   "cell_type": "code",
   "execution_count": 50,
   "metadata": {},
   "outputs": [
    {
     "name": "stdout",
     "output_type": "stream",
     "text": [
      "True\n"
     ]
    }
   ],
   "source": [
    "a = \"hello\"\n",
    "# 문자열일 경우 빈 문자열이면 'False'로 간주한다.\n",
    "if a:\n",
    "    print(\"True\")\n",
    "else:\n",
    "    print(\"False\")"
   ]
  },
  {
   "cell_type": "code",
   "execution_count": 62,
   "metadata": {},
   "outputs": [],
   "source": [
    "# 가변길이 매개변수\n",
    "def texts(*text):\n",
    "    result = ''   # 누적변수는 초기값을 준다.\n",
    "    \n",
    "    print(type(text))\n",
    "    for i in text:\n",
    "        result += i\n",
    "        \n",
    "    return result"
   ]
  },
  {
   "cell_type": "code",
   "execution_count": 63,
   "metadata": {},
   "outputs": [
    {
     "name": "stdout",
     "output_type": "stream",
     "text": [
      "<class 'tuple'>\n"
     ]
    },
    {
     "data": {
      "text/plain": [
       "'아버지가'"
      ]
     },
     "execution_count": 63,
     "metadata": {},
     "output_type": "execute_result"
    }
   ],
   "source": [
    "texts('아버지가')"
   ]
  },
  {
   "cell_type": "code",
   "execution_count": 61,
   "metadata": {},
   "outputs": [
    {
     "data": {
      "text/plain": [
       "'아버지가방에들어가신다'"
      ]
     },
     "execution_count": 61,
     "metadata": {},
     "output_type": "execute_result"
    }
   ],
   "source": [
    "texts('아버지가','방에','들어가신다')"
   ]
  },
  {
   "cell_type": "code",
   "execution_count": 64,
   "metadata": {},
   "outputs": [],
   "source": [
    "def player(**players):   # 딕셔너리 타입의 가변길이\n",
    "    \n",
    "    print(type(players))\n",
    "    for k in players.keys():\n",
    "        print(\"{0} = {1}\".format(k, players[k]))"
   ]
  },
  {
   "cell_type": "code",
   "execution_count": 65,
   "metadata": {},
   "outputs": [
    {
     "name": "stdout",
     "output_type": "stream",
     "text": [
      "<class 'dict'>\n",
      "카시야스 = GK\n",
      "호날두 = FW\n",
      "손흥민 = MF\n"
     ]
    }
   ],
   "source": [
    "player(카시야스 = 'GK', 호날두 = 'FW', 손흥민 = 'MF')"
   ]
  },
  {
   "cell_type": "code",
   "execution_count": null,
   "metadata": {},
   "outputs": [],
   "source": [
    "# dic{key:value, ....}"
   ]
  },
  {
   "cell_type": "code",
   "execution_count": 66,
   "metadata": {},
   "outputs": [],
   "source": [
    "# add_sum(1, 2, 3, 4, 5, 6, 7, 8, 9, 10):\n",
    "# add_sum(1, 2, 3):\n",
    "# add_sum(1, 2):\n",
    "\n",
    "# people(name, age, height):\n",
    "# people(name, age)\n",
    "# people(name)\n",
    "# people()"
   ]
  },
  {
   "cell_type": "code",
   "execution_count": 75,
   "metadata": {},
   "outputs": [],
   "source": [
    "def people(name='강감찬', age=33, height=159.7):\n",
    "    print(\"{0}님 : {1}세 : {2}\".format(name, age, height))\n",
    "    return"
   ]
  },
  {
   "cell_type": "code",
   "execution_count": 76,
   "metadata": {},
   "outputs": [
    {
     "name": "stdout",
     "output_type": "stream",
     "text": [
      "홍길동님 : 19세 : 189.7\n",
      "이순신님 : 29세 : 159.7\n",
      "장보고님 : 33세 : 159.7\n",
      "강감찬님 : 33세 : 159.7\n"
     ]
    }
   ],
   "source": [
    "people('홍길동', 19, 189.7)\n",
    "people('이순신', 29)\n",
    "people('장보고')\n",
    "people()"
   ]
  },
  {
   "cell_type": "code",
   "execution_count": 82,
   "metadata": {},
   "outputs": [],
   "source": [
    "def add_sum(*x):\n",
    "    res = 0\n",
    "    \n",
    "    for i in x:\n",
    "        res += i\n",
    "        \n",
    "    return res"
   ]
  },
  {
   "cell_type": "code",
   "execution_count": 83,
   "metadata": {},
   "outputs": [
    {
     "name": "stdout",
     "output_type": "stream",
     "text": [
      "3\n",
      "6\n",
      "10\n",
      "15\n"
     ]
    }
   ],
   "source": [
    "print(add_sum(1, 2))\n",
    "print(add_sum(1, 2, 3))\n",
    "print(add_sum(1, 2, 3, 4))\n",
    "print(add_sum(1, 2, 3, 4, 5))"
   ]
  },
  {
   "cell_type": "code",
   "execution_count": 77,
   "metadata": {},
   "outputs": [
    {
     "data": {
      "text/plain": [
       "3"
      ]
     },
     "execution_count": 77,
     "metadata": {},
     "output_type": "execute_result"
    }
   ],
   "source": [
    "3"
   ]
  },
  {
   "cell_type": "code",
   "execution_count": 84,
   "metadata": {},
   "outputs": [],
   "source": [
    "def total(x):\n",
    "    res = 0\n",
    "    \n",
    "    for i in x:\n",
    "        res += i\n",
    "        \n",
    "    return res"
   ]
  },
  {
   "cell_type": "code",
   "execution_count": 85,
   "metadata": {},
   "outputs": [
    {
     "name": "stdout",
     "output_type": "stream",
     "text": [
      "15\n"
     ]
    }
   ],
   "source": [
    "print(total([1, 2, 3, 4, 5]))"
   ]
  },
  {
   "cell_type": "code",
   "execution_count": 86,
   "metadata": {},
   "outputs": [
    {
     "data": {
      "text/plain": [
       "(1, 2, 3, 4, 5)"
      ]
     },
     "execution_count": 86,
     "metadata": {},
     "output_type": "execute_result"
    }
   ],
   "source": [
    "a = 1, 2, 3, 4, 5\n",
    "a"
   ]
  },
  {
   "cell_type": "code",
   "execution_count": 87,
   "metadata": {},
   "outputs": [],
   "source": [
    "def add_mul(choice, *args):\n",
    "    if choice == \"add\":\n",
    "        res = 0\n",
    "        for i in args:\n",
    "            res += i\n",
    "    elif choice == \"mul\":\n",
    "        res = 1\n",
    "        for i in args:\n",
    "            res *= i\n",
    "    \n",
    "    return res"
   ]
  },
  {
   "cell_type": "code",
   "execution_count": 90,
   "metadata": {},
   "outputs": [
    {
     "name": "stdout",
     "output_type": "stream",
     "text": [
      "6\n",
      "120\n"
     ]
    }
   ],
   "source": [
    "result = add_mul('add', 1, 2, 3)\n",
    "print(result)\n",
    "\n",
    "result = add_mul('mul', 1, 2, 3, 4, 5)\n",
    "print(result)"
   ]
  },
  {
   "cell_type": "code",
   "execution_count": 91,
   "metadata": {},
   "outputs": [
    {
     "name": "stdout",
     "output_type": "stream",
     "text": [
      "단 = 2\n",
      "2 x 1 = 2\n",
      "2 x 2 = 4\n",
      "2 x 3 = 6\n",
      "2 x 4 = 8\n",
      "2 x 5 = 10\n",
      "2 x 6 = 12\n",
      "2 x 7 = 14\n",
      "2 x 8 = 16\n",
      "2 x 9 = 18\n"
     ]
    }
   ],
   "source": [
    "# 구구단을 출력하는 프로그램을 구현하시오.\n",
    "# 키보드를 통해 단을 입력받아 해당 구구단을 출력하는 프로그램을\n",
    "# 별도의 함수로 구현하시오.(gugudan)\n",
    "\n",
    "dan = int(input(\"단 = \"))\n",
    "\n",
    "for i in range(1, 10):\n",
    "    print(\"{0} x {1} = {2}\".format(dan, i, dan*i))"
   ]
  },
  {
   "cell_type": "code",
   "execution_count": 92,
   "metadata": {},
   "outputs": [],
   "source": [
    "def gugudan(dan):\n",
    "    for i in range(1, 10):\n",
    "        print(\"{0} x {1} = {2}\".format(dan, i, dan*i))"
   ]
  },
  {
   "cell_type": "code",
   "execution_count": 93,
   "metadata": {},
   "outputs": [
    {
     "name": "stdout",
     "output_type": "stream",
     "text": [
      "단 = 5\n",
      "5 x 1 = 5\n",
      "5 x 2 = 10\n",
      "5 x 3 = 15\n",
      "5 x 4 = 20\n",
      "5 x 5 = 25\n",
      "5 x 6 = 30\n",
      "5 x 7 = 35\n",
      "5 x 8 = 40\n",
      "5 x 9 = 45\n"
     ]
    }
   ],
   "source": [
    "dan = int(input(\"단 = \"))\n",
    "gugudan(dan)"
   ]
  },
  {
   "cell_type": "code",
   "execution_count": 99,
   "metadata": {},
   "outputs": [],
   "source": [
    "# 함수 선언 or 정의\n",
    "def say():\n",
    "    a = \"안녕하세요\"\n",
    "    print(a)\n",
    "    #return a"
   ]
  },
  {
   "cell_type": "code",
   "execution_count": 98,
   "metadata": {},
   "outputs": [
    {
     "name": "stdout",
     "output_type": "stream",
     "text": [
      "안녕하세요\n"
     ]
    }
   ],
   "source": [
    "# 함수 호출\n",
    "print(say())"
   ]
  },
  {
   "cell_type": "code",
   "execution_count": 96,
   "metadata": {},
   "outputs": [
    {
     "name": "stdout",
     "output_type": "stream",
     "text": [
      "안녕하세요\n"
     ]
    }
   ],
   "source": [
    "print(\"안녕하세요\")"
   ]
  },
  {
   "cell_type": "code",
   "execution_count": 100,
   "metadata": {},
   "outputs": [
    {
     "name": "stdout",
     "output_type": "stream",
     "text": [
      "안녕하세요\n"
     ]
    }
   ],
   "source": [
    "say()"
   ]
  },
  {
   "cell_type": "code",
   "execution_count": 101,
   "metadata": {},
   "outputs": [],
   "source": [
    "def hello(name):\n",
    "    s = \"Hello, {0}\".format(name) \n",
    "    #print(s)\n",
    "    return s"
   ]
  },
  {
   "cell_type": "code",
   "execution_count": 103,
   "metadata": {},
   "outputs": [
    {
     "data": {
      "text/plain": [
       "'Hello, LEE'"
      ]
     },
     "execution_count": 103,
     "metadata": {},
     "output_type": "execute_result"
    }
   ],
   "source": [
    "hello(\"LEE\")"
   ]
  },
  {
   "cell_type": "code",
   "execution_count": 104,
   "metadata": {},
   "outputs": [],
   "source": [
    "# 파이썬에서는 없음을 뜻하는 키워드 'None'\n",
    "def hello2(name=None):\n",
    "    if name == None:\n",
    "        print(\"이름을 입력하세요.\")\n",
    "        return   # 제어권만 main에 넘겨준다는 의미\n",
    "    \n",
    "    print(\"Hello, \", name)"
   ]
  },
  {
   "cell_type": "code",
   "execution_count": 105,
   "metadata": {},
   "outputs": [
    {
     "name": "stdout",
     "output_type": "stream",
     "text": [
      "Hello,  LEE\n"
     ]
    }
   ],
   "source": [
    "hello2(\"LEE\")"
   ]
  },
  {
   "cell_type": "code",
   "execution_count": 106,
   "metadata": {},
   "outputs": [
    {
     "name": "stdout",
     "output_type": "stream",
     "text": [
      "이름을 입력하세요.\n"
     ]
    }
   ],
   "source": [
    "hello2()"
   ]
  },
  {
   "cell_type": "code",
   "execution_count": 107,
   "metadata": {},
   "outputs": [],
   "source": [
    "def hello3(name='KIM'):\n",
    "    s = \"Hello, {0}\".format(name)\n",
    "    print(s)"
   ]
  },
  {
   "cell_type": "code",
   "execution_count": 108,
   "metadata": {},
   "outputs": [
    {
     "name": "stdout",
     "output_type": "stream",
     "text": [
      "Hello, KIM\n",
      "Hello, LEE\n"
     ]
    }
   ],
   "source": [
    "hello3()\n",
    "hello3(\"LEE\")"
   ]
  },
  {
   "cell_type": "markdown",
   "metadata": {},
   "source": [
    "#### 함수의 유형\n",
    "- 매개변수도 없고 리턴값도 없는 형태\n",
    "- 매개변수는 없고 리턴값은 있는 형태\n",
    "- 매개변수가 있고 리턴값이 없는 형태\n",
    "- 매개변수가 있고 리턴값도 있는 형태"
   ]
  },
  {
   "cell_type": "code",
   "execution_count": 109,
   "metadata": {},
   "outputs": [
    {
     "name": "stdout",
     "output_type": "stream",
     "text": [
      "Hi\n"
     ]
    }
   ],
   "source": [
    "def hi():\n",
    "    print(\"Hi\")\n",
    "    \n",
    "hi()    "
   ]
  },
  {
   "cell_type": "code",
   "execution_count": 110,
   "metadata": {},
   "outputs": [],
   "source": [
    "def hi2():\n",
    "    #s = \"Hi\"\n",
    "    return \"Hi\""
   ]
  },
  {
   "cell_type": "code",
   "execution_count": 111,
   "metadata": {},
   "outputs": [
    {
     "name": "stdout",
     "output_type": "stream",
     "text": [
      "Hi\n",
      "Hi\n"
     ]
    }
   ],
   "source": [
    "print(hi2())\n",
    "s = hi2()\n",
    "print(s)"
   ]
  },
  {
   "cell_type": "code",
   "execution_count": 112,
   "metadata": {},
   "outputs": [],
   "source": [
    "def add(x, y):\n",
    "    print(\"{0}, {1}\".format(x, y))"
   ]
  },
  {
   "cell_type": "code",
   "execution_count": 113,
   "metadata": {},
   "outputs": [
    {
     "name": "stdout",
     "output_type": "stream",
     "text": [
      "10, 20\n"
     ]
    }
   ],
   "source": [
    "add(10, 20)"
   ]
  },
  {
   "cell_type": "code",
   "execution_count": 114,
   "metadata": {},
   "outputs": [],
   "source": [
    "def add2(x, y):\n",
    "    s = \"{0}, {1}\".format(x, y)\n",
    "    return s"
   ]
  },
  {
   "cell_type": "code",
   "execution_count": 115,
   "metadata": {},
   "outputs": [
    {
     "name": "stdout",
     "output_type": "stream",
     "text": [
      "10, 20\n",
      "10, 20\n"
     ]
    }
   ],
   "source": [
    "print(add2(10, 20))\n",
    "s = add2(10, 20)\n",
    "print(s)"
   ]
  },
  {
   "cell_type": "code",
   "execution_count": 117,
   "metadata": {},
   "outputs": [
    {
     "name": "stdout",
     "output_type": "stream",
     "text": [
      "10 + 20 = 30\n"
     ]
    }
   ],
   "source": [
    "def sum(a, b):\n",
    "    print(\"{0} + {1} = {2}\".format(a, b, a+b))\n",
    "    \n",
    "sum(10, 20)"
   ]
  },
  {
   "cell_type": "code",
   "execution_count": 119,
   "metadata": {},
   "outputs": [
    {
     "ename": "TypeError",
     "evalue": "sum() missing 1 required positional argument: 'b'",
     "output_type": "error",
     "traceback": [
      "\u001b[1;31m---------------------------------------------------------------------------\u001b[0m",
      "\u001b[1;31mTypeError\u001b[0m                                 Traceback (most recent call last)",
      "\u001b[1;32m<ipython-input-119-473e79f55330>\u001b[0m in \u001b[0;36m<module>\u001b[1;34m\u001b[0m\n\u001b[1;32m----> 1\u001b[1;33m \u001b[0msum\u001b[0m\u001b[1;33m(\u001b[0m\u001b[1;36m1\u001b[0m\u001b[1;33m)\u001b[0m\u001b[1;33m\u001b[0m\u001b[1;33m\u001b[0m\u001b[0m\n\u001b[0m\u001b[0;32m      2\u001b[0m \u001b[0msum\u001b[0m\u001b[1;33m(\u001b[0m\u001b[1;36m1\u001b[0m\u001b[1;33m,\u001b[0m \u001b[1;36m2\u001b[0m\u001b[1;33m,\u001b[0m \u001b[1;36m3\u001b[0m\u001b[1;33m)\u001b[0m\u001b[1;33m\u001b[0m\u001b[1;33m\u001b[0m\u001b[0m\n",
      "\u001b[1;31mTypeError\u001b[0m: sum() missing 1 required positional argument: 'b'"
     ]
    }
   ],
   "source": [
    "#sum(1)\n",
    "#sum(1, 2, 3)"
   ]
  },
  {
   "cell_type": "code",
   "execution_count": 120,
   "metadata": {},
   "outputs": [
    {
     "name": "stdout",
     "output_type": "stream",
     "text": [
      "<class 'tuple'> (10, 20)\n",
      "30\n",
      "<class 'tuple'> (1, 2, 3, 4, 5)\n",
      "15\n",
      "<class 'tuple'> (100,)\n",
      "100\n"
     ]
    }
   ],
   "source": [
    "def sum2(*x):\n",
    "    print(type(x), x)   # tuple 자료형으로 받아온다.\n",
    "    res = 0   # 누적변수\n",
    "    \n",
    "    for i in x:\n",
    "        res += i\n",
    "        \n",
    "    return res\n",
    "\n",
    "n = sum2(10, 20)\n",
    "print(n)\n",
    "\n",
    "n = sum2(1, 2, 3, 4, 5)\n",
    "print(n)\n",
    "\n",
    "n = sum2(100)\n",
    "print(n)"
   ]
  },
  {
   "cell_type": "code",
   "execution_count": 121,
   "metadata": {},
   "outputs": [
    {
     "name": "stdout",
     "output_type": "stream",
     "text": [
      "<class 'tuple'> (1, 2, 3, 4, 5)\n"
     ]
    }
   ],
   "source": [
    "def a():\n",
    "    return 1, 2, 3, 4, 5\n",
    "\n",
    "val = a()   # val = 1, 2, 3, 4, 5 packing\n",
    "print(type(val), val)"
   ]
  },
  {
   "cell_type": "code",
   "execution_count": 122,
   "metadata": {},
   "outputs": [
    {
     "name": "stdout",
     "output_type": "stream",
     "text": [
      "1 2 3 4 5\n"
     ]
    }
   ],
   "source": [
    "a, b, c, d, e = a()\n",
    "print(a, b, c, d, e)   # unpacking"
   ]
  },
  {
   "cell_type": "code",
   "execution_count": 123,
   "metadata": {},
   "outputs": [
    {
     "name": "stdout",
     "output_type": "stream",
     "text": [
      "지역변수 : 11\n",
      "1\n"
     ]
    }
   ],
   "source": [
    "a = 1  # 전역변수 a\n",
    "\n",
    "def test(a):  # 지역변수 a\n",
    "    a = a + 1   # 지역변수의 a값 변한다.\n",
    "    print(\"지역변수 : {0}\".format(a))\n",
    "    \n",
    "test(10)\n",
    "print(a)   # 전역변수"
   ]
  },
  {
   "cell_type": "code",
   "execution_count": 124,
   "metadata": {},
   "outputs": [
    {
     "name": "stdout",
     "output_type": "stream",
     "text": [
      "a =  2\n",
      "2\n"
     ]
    }
   ],
   "source": [
    "a = 1\n",
    "\n",
    "def test():\n",
    "    global a\n",
    "    a = a + 1\n",
    "    print(\"a = \", a)\n",
    "    \n",
    "test()\n",
    "print(a)"
   ]
  },
  {
   "cell_type": "code",
   "execution_count": null,
   "metadata": {},
   "outputs": [],
   "source": []
  }
 ],
 "metadata": {
  "kernelspec": {
   "display_name": "Python 3",
   "language": "python",
   "name": "python3"
  },
  "language_info": {
   "codemirror_mode": {
    "name": "ipython",
    "version": 3
   },
   "file_extension": ".py",
   "mimetype": "text/x-python",
   "name": "python",
   "nbconvert_exporter": "python",
   "pygments_lexer": "ipython3",
   "version": "3.7.3"
  }
 },
 "nbformat": 4,
 "nbformat_minor": 2
}
