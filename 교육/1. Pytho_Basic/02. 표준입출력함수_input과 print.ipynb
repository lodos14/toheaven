{
 "cells": [
  {
   "cell_type": "code",
   "execution_count": 1,
   "metadata": {},
   "outputs": [
    {
     "name": "stdout",
     "output_type": "stream",
     "text": [
      "Help on method raw_input in module ipykernel.kernelbase:\n",
      "\n",
      "raw_input(prompt='') method of ipykernel.ipkernel.IPythonKernel instance\n",
      "    Forward raw_input to frontends\n",
      "    \n",
      "    Raises\n",
      "    ------\n",
      "    StdinNotImplentedError if active frontend doesn't support stdin.\n",
      "\n"
     ]
    }
   ],
   "source": [
    "# 함수명(), help() - 도움말을 보여주는 함수\n",
    "help(input)"
   ]
  },
  {
   "cell_type": "code",
   "execution_count": 2,
   "metadata": {},
   "outputs": [
    {
     "name": "stdout",
     "output_type": "stream",
     "text": [
      "Help on built-in function print in module builtins:\n",
      "\n",
      "print(...)\n",
      "    print(value, ..., sep=' ', end='\\n', file=sys.stdout, flush=False)\n",
      "    \n",
      "    Prints the values to a stream, or to sys.stdout by default.\n",
      "    Optional keyword arguments:\n",
      "    file:  a file-like object (stream); defaults to the current sys.stdout.\n",
      "    sep:   string inserted between values, default a space.\n",
      "    end:   string appended after the last value, default a newline.\n",
      "    flush: whether to forcibly flush the stream.\n",
      "\n"
     ]
    }
   ],
   "source": [
    "help(print)"
   ]
  },
  {
   "cell_type": "code",
   "execution_count": 3,
   "metadata": {},
   "outputs": [
    {
     "name": "stdout",
     "output_type": "stream",
     "text": [
      "정수 1 : 9\n",
      "정수 2 : 81\n",
      "정수 3 : 4.0\n"
     ]
    }
   ],
   "source": [
    "# printf = print + function or print + format\n",
    "# print, println, printf\n",
    "# print 함수\n",
    "x = 9\n",
    "# 형식화된 문자열.format(출력할 값)\n",
    "print(\"정수 1 : {0}\".format(x))\n",
    "print(\"정수 2 : {0}\".format(3**4))\n",
    "\n",
    "# 형변환(casting) : 자료형을 변환하는 작업\n",
    "print(\"정수 3 : {0}\".format(int(8.3)/int(2.7)))"
   ]
  },
  {
   "cell_type": "code",
   "execution_count": 4,
   "metadata": {},
   "outputs": [
    {
     "name": "stdout",
     "output_type": "stream",
     "text": [
      "a = 10, b = 20\n"
     ]
    }
   ],
   "source": [
    "# 2개 이상의 값을 출력하는 경우\n",
    "a = 10\n",
    "b = 20\n",
    "\n",
    "print(\"a = {0}, b = {1}\".format(a, b))"
   ]
  },
  {
   "cell_type": "code",
   "execution_count": 5,
   "metadata": {},
   "outputs": [
    {
     "name": "stdout",
     "output_type": "stream",
     "text": [
      "a = 10, b = 20\n"
     ]
    }
   ],
   "source": [
    "print(\"a = {1}, b = {0}\".format(b, a))"
   ]
  },
  {
   "cell_type": "code",
   "execution_count": 7,
   "metadata": {},
   "outputs": [
    {
     "name": "stdout",
     "output_type": "stream",
     "text": [
      "실수1 : 3.074\n"
     ]
    }
   ],
   "source": [
    "print(\"실수1 : {0:.3f}\".format(8.3/2.7))"
   ]
  },
  {
   "cell_type": "code",
   "execution_count": 8,
   "metadata": {},
   "outputs": [
    {
     "name": "stdout",
     "output_type": "stream",
     "text": [
      "실수2 : 7.3\n"
     ]
    }
   ],
   "source": [
    "y = 2.5 + 4.8\n",
    "print(\"실수2 : {0:.1f}\".format(y)) # 소수첫째자리까지"
   ]
  },
  {
   "cell_type": "code",
   "execution_count": 9,
   "metadata": {},
   "outputs": [
    {
     "name": "stdout",
     "output_type": "stream",
     "text": [
      "실수3 : 2.67\n",
      "실수3 : 2.6667\n",
      "실수3 :     2.6667\n"
     ]
    }
   ],
   "source": [
    "r = 8 / float(3)  # 정수와 실수 = 실수\n",
    "# 소숫점이하 둘째자리까지 출력\n",
    "print(\"실수3 : {0:.2f}\".format(r))\n",
    "# 소숫점이하 네째자리까지 출력\n",
    "print(\"실수3 : {0:.4f}\".format(r))\n",
    "# 전체 10자리중에서 소숫점이하 네째자리까지 출력\n",
    "print(\"실수3 : {0:10.4f}\".format(8.0/3))"
   ]
  },
  {
   "cell_type": "code",
   "execution_count": 10,
   "metadata": {},
   "outputs": [
    {
     "name": "stdout",
     "output_type": "stream",
     "text": [
      "Hello\n",
      "Python\n"
     ]
    }
   ],
   "source": [
    "# \\n : 개행문자(줄바꿈 문자), 서식문자\n",
    "multiline = \"Hello\\nPython\"\n",
    "print(multiline)"
   ]
  },
  {
   "cell_type": "code",
   "execution_count": 11,
   "metadata": {},
   "outputs": [
    {
     "data": {
      "text/plain": [
       "'\\n    안녕하세요\\n    파이썬\\n    반갑습니다.\\n'"
      ]
     },
     "execution_count": 11,
     "metadata": {},
     "output_type": "execute_result"
    }
   ],
   "source": [
    "multiline = '''\n",
    "    안녕하세요\n",
    "    파이썬\n",
    "    반갑습니다.\n",
    "'''\n",
    "multiline"
   ]
  },
  {
   "cell_type": "code",
   "execution_count": 12,
   "metadata": {},
   "outputs": [
    {
     "data": {
      "text/plain": [
       "'\\n    Hello\\n    Python\\n    World\\n'"
      ]
     },
     "execution_count": 12,
     "metadata": {},
     "output_type": "execute_result"
    }
   ],
   "source": [
    "multiline = \"\"\"\n",
    "    Hello\n",
    "    Python\n",
    "    World\n",
    "\"\"\"\n",
    "multiline"
   ]
  },
  {
   "cell_type": "code",
   "execution_count": 17,
   "metadata": {},
   "outputs": [
    {
     "name": "stdout",
     "output_type": "stream",
     "text": [
      "파이썬은  재미있다.\n",
      "파이썬은 재미있다.\n"
     ]
    }
   ],
   "source": [
    "# '+', 산술연산자와 나열연산자\n",
    "head = \"파이썬은 \"\n",
    "tail = \"재미있다.\"\n",
    "print(head, tail)  # , 열거연산자 한칸의 공백\n",
    "print(head + tail)  # 공백없이 출력된다."
   ]
  },
  {
   "cell_type": "code",
   "execution_count": 19,
   "metadata": {},
   "outputs": [
    {
     "name": "stdout",
     "output_type": "stream",
     "text": [
      "홍길동 33\n",
      "이름 : 홍길동, 나이 : 33\n",
      "이름 : 홍길동, 나이 : 33\n"
     ]
    }
   ],
   "source": [
    "name = \"홍길동\"\n",
    "age = 33\n",
    "\n",
    "print(name, age)\n",
    "# print(name + age), 형이 일치하지 않아 오류발생\n",
    "# str(숫자) : 문자열로 형변환한다.\n",
    "# print(name + str(age))\n",
    "\n",
    "print(\"이름 : {0}, 나이 : {1}\".format(name, age))\n",
    "#print(\"이름 : {1}, 나이 : {0}\".format(name, age))\n",
    "print(\"이름 : {1}, 나이 : {0}\".format(age, name))"
   ]
  },
  {
   "cell_type": "code",
   "execution_count": 20,
   "metadata": {},
   "outputs": [
    {
     "name": "stdout",
     "output_type": "stream",
     "text": [
      "파이썬파이썬\n",
      "파이썬파이썬파이썬\n",
      "==================================================\n",
      "My Python Program\n"
     ]
    }
   ],
   "source": [
    "a = \"파이썬\"\n",
    "print(a * 2)\n",
    "print(a * 3)\n",
    "\n",
    "print(\"=\" * 50)\n",
    "print(\"My Python Program\")"
   ]
  },
  {
   "cell_type": "code",
   "execution_count": 21,
   "metadata": {},
   "outputs": [
    {
     "name": "stdout",
     "output_type": "stream",
     "text": [
      "파이썬파이썬파이썬파이썬파이썬\n"
     ]
    }
   ],
   "source": [
    "print(5*a)"
   ]
  },
  {
   "cell_type": "code",
   "execution_count": 22,
   "metadata": {},
   "outputs": [
    {
     "data": {
      "text/plain": [
       "'life is too short'"
      ]
     },
     "execution_count": 22,
     "metadata": {},
     "output_type": "execute_result"
    }
   ],
   "source": [
    "# 문자열의 인덱싱(indexing), []\n",
    "# 문자열의 슬라이싱(slicing)  처음위치:마지막위치-1\n",
    "a = \"life is too short\"\n",
    "a"
   ]
  },
  {
   "cell_type": "code",
   "execution_count": 23,
   "metadata": {},
   "outputs": [
    {
     "data": {
      "text/plain": [
       "'e'"
      ]
     },
     "execution_count": 23,
     "metadata": {},
     "output_type": "execute_result"
    }
   ],
   "source": [
    "a[3]"
   ]
  },
  {
   "cell_type": "code",
   "execution_count": 24,
   "metadata": {},
   "outputs": [
    {
     "data": {
      "text/plain": [
       "'life'"
      ]
     },
     "execution_count": 24,
     "metadata": {},
     "output_type": "execute_result"
    }
   ],
   "source": [
    "a[0:4]  # 0, 1, 2, 3"
   ]
  },
  {
   "cell_type": "code",
   "execution_count": 25,
   "metadata": {},
   "outputs": [
    {
     "data": {
      "text/plain": [
       "'r'"
      ]
     },
     "execution_count": 25,
     "metadata": {},
     "output_type": "execute_result"
    }
   ],
   "source": [
    "# 역인덱싱\n",
    "a[-2]"
   ]
  },
  {
   "cell_type": "code",
   "execution_count": 26,
   "metadata": {},
   "outputs": [
    {
     "data": {
      "text/plain": [
       "'is too short'"
      ]
     },
     "execution_count": 26,
     "metadata": {},
     "output_type": "execute_result"
    }
   ],
   "source": [
    "a[5:]"
   ]
  },
  {
   "cell_type": "code",
   "execution_count": 27,
   "metadata": {},
   "outputs": [
    {
     "data": {
      "text/plain": [
       "'life is'"
      ]
     },
     "execution_count": 27,
     "metadata": {},
     "output_type": "execute_result"
    }
   ],
   "source": [
    "a[:7]  # 0 ~ 6"
   ]
  },
  {
   "cell_type": "code",
   "execution_count": 28,
   "metadata": {},
   "outputs": [
    {
     "data": {
      "text/plain": [
       "'life is too short'"
      ]
     },
     "execution_count": 28,
     "metadata": {},
     "output_type": "execute_result"
    }
   ],
   "source": [
    "a[:] # all"
   ]
  },
  {
   "cell_type": "code",
   "execution_count": 29,
   "metadata": {},
   "outputs": [
    {
     "name": "stdout",
     "output_type": "stream",
     "text": [
      "True\n",
      "False\n"
     ]
    }
   ],
   "source": [
    "# in과 not in : True or False\n",
    "s = \"Hello world\"\n",
    "print(\"world\" in s)\n",
    "print(\"world\" not in s)"
   ]
  },
  {
   "cell_type": "code",
   "execution_count": 30,
   "metadata": {},
   "outputs": [
    {
     "name": "stdout",
     "output_type": "stream",
     "text": [
      "<class 'int'>\n",
      "나이 : 30세\n",
      "나이2 :    30세\n",
      "좋아하는 과일 : 사과\n",
      "좋아하는 과일 : 사과\n",
      "홍길동님의 나이는 30세 입니다.\n",
      "홍길동님의 나이는 30세 입니다.\n",
      "당첨확률이 98%\n",
      "당첨확률이 98%\n",
      "원주율 :      3.142\n",
      "원주율 :      3.142\n"
     ]
    }
   ],
   "source": [
    "# 출력서식 %기호와 함께\n",
    "# %d(%i)-decimal(integer), %f-float, %s-string\n",
    "age = 30\n",
    "print(type(age))  # integer, %d\n",
    "print(\"나이 : %s세\" % age)\n",
    "print(\"나이2 : {0:5d}세\".format(age))\n",
    "fruit = \"사과\"\n",
    "print(\"좋아하는 과일 : %s\" % fruit)\n",
    "print(\"좋아하는 과일 : {0}\".format(fruit))\n",
    "name = \"홍길동\"\n",
    "print(\"%s님의 나이는 %d세 입니다.\" % (name, age))\n",
    "print(\"{0}님의 나이는 {1}세 입니다.\".format(name, age))\n",
    "\n",
    "rate = 98\n",
    "print(\"당첨확률이 %d%%\" % rate)\n",
    "print(\"당첨확률이 {0}%\".format(rate))\n",
    "\n",
    "pi = 3.141592\n",
    "print(\"원주율 : %10.3f\" % pi)\n",
    "print(\"원주율 : {0:10.3f}\".format(pi))"
   ]
  },
  {
   "cell_type": "code",
   "execution_count": 31,
   "metadata": {},
   "outputs": [
    {
     "name": "stdout",
     "output_type": "stream",
     "text": [
      "3.141592653589793\n"
     ]
    }
   ],
   "source": [
    "# 원주율을 정확히 알고싶을 때\n",
    "# 파이썬에서 수학 관련 함수는  math\n",
    "import math\n",
    "\n",
    "print(math.pi)"
   ]
  },
  {
   "cell_type": "code",
   "execution_count": 36,
   "metadata": {},
   "outputs": [
    {
     "name": "stdout",
     "output_type": "stream",
     "text": [
      "이순신님의 나이가 33입니다.\n"
     ]
    }
   ],
   "source": [
    "# 숫자인덱스 대신 변수명을 이용한 서식\n",
    "result = \"{name}님의 나이가 {age}입니다.\"\\\n",
    ".format(name='이순신', age=33)\n",
    "\n",
    "print(result)"
   ]
  },
  {
   "cell_type": "code",
   "execution_count": 42,
   "metadata": {},
   "outputs": [
    {
     "name": "stdout",
     "output_type": "stream",
     "text": [
      "hi        \n",
      "hi        \n",
      "        hi\n",
      "    hi    \n",
      "====hi====\n",
      "----hi----\n"
     ]
    }
   ],
   "source": [
    "result = \"{0:10}\".format(\"hi\")  # 왼쪽정렬(기본값)\n",
    "print(result)\n",
    "result = \"{0:<10}\".format(\"hi\")  # 왼쪽정렬 \n",
    "print(result)\n",
    "result = \"{0:>10}\".format(\"hi\")  # 오른쪽정렬 \n",
    "print(result)\n",
    "result = \"{0:^10}\".format(\"hi\")  # 가운데정렬 \n",
    "print(result)\n",
    "result = \"{0:=^10}\".format(\"hi\")  # 공백표시(=)\n",
    "print(result)\n",
    "result = \"{0:-^10}\".format(\"hi\")  # 공백표시(=)\n",
    "print(result)"
   ]
  },
  {
   "cell_type": "code",
   "execution_count": 43,
   "metadata": {},
   "outputs": [
    {
     "name": "stdout",
     "output_type": "stream",
     "text": [
      "hobby\n",
      "2\n"
     ]
    }
   ],
   "source": [
    "a = \"hobby\"\n",
    "print(a)\n",
    "print(a.count('b'))"
   ]
  },
  {
   "cell_type": "code",
   "execution_count": 44,
   "metadata": {},
   "outputs": [
    {
     "name": "stdout",
     "output_type": "stream",
     "text": [
      "Have a nice today\n",
      "7\n",
      "-1\n"
     ]
    }
   ],
   "source": [
    "a = 'Have a nice today'\n",
    "print(a)\n",
    "print(a.find(\"nice\"))  # nice문자열의 시작위치, 7\n",
    "print(a.find(\"have\"))  # 못찾으면 -1 반환"
   ]
  },
  {
   "cell_type": "code",
   "execution_count": 45,
   "metadata": {},
   "outputs": [
    {
     "name": "stdout",
     "output_type": "stream",
     "text": [
      "8\n"
     ]
    },
    {
     "ename": "ValueError",
     "evalue": "substring not found",
     "output_type": "error",
     "traceback": [
      "\u001b[1;31m---------------------------------------------------------------------------\u001b[0m",
      "\u001b[1;31mValueError\u001b[0m                                Traceback (most recent call last)",
      "\u001b[1;32m<ipython-input-45-0b4b54855605>\u001b[0m in \u001b[0;36m<module>\u001b[1;34m\u001b[0m\n\u001b[0;32m      1\u001b[0m \u001b[0ma\u001b[0m \u001b[1;33m=\u001b[0m \u001b[1;34m\"Life is too short\"\u001b[0m\u001b[1;33m\u001b[0m\u001b[1;33m\u001b[0m\u001b[0m\n\u001b[0;32m      2\u001b[0m \u001b[0mprint\u001b[0m\u001b[1;33m(\u001b[0m\u001b[0ma\u001b[0m\u001b[1;33m.\u001b[0m\u001b[0mindex\u001b[0m\u001b[1;33m(\u001b[0m\u001b[1;34m\"too\"\u001b[0m\u001b[1;33m)\u001b[0m\u001b[1;33m)\u001b[0m  \u001b[1;31m# 8\u001b[0m\u001b[1;33m\u001b[0m\u001b[1;33m\u001b[0m\u001b[0m\n\u001b[1;32m----> 3\u001b[1;33m \u001b[0mprint\u001b[0m\u001b[1;33m(\u001b[0m\u001b[0ma\u001b[0m\u001b[1;33m.\u001b[0m\u001b[0mindex\u001b[0m\u001b[1;33m(\u001b[0m\u001b[1;34m\"kind\"\u001b[0m\u001b[1;33m)\u001b[0m\u001b[1;33m)\u001b[0m  \u001b[1;31m#  못찾으면 에러발생\u001b[0m\u001b[1;33m\u001b[0m\u001b[1;33m\u001b[0m\u001b[0m\n\u001b[0m",
      "\u001b[1;31mValueError\u001b[0m: substring not found"
     ]
    }
   ],
   "source": [
    "a = \"Life is too short\"\n",
    "print(a.index(\"too\"))  # 8\n",
    "print(a.index(\"kind\"))  #  못찾으면 에러발생"
   ]
  },
  {
   "cell_type": "code",
   "execution_count": 46,
   "metadata": {},
   "outputs": [
    {
     "data": {
      "text/plain": [
       "'a,b,c,d,e,f,g'"
      ]
     },
     "execution_count": 46,
     "metadata": {},
     "output_type": "execute_result"
    }
   ],
   "source": [
    "a =\",\" \n",
    "result = a.join(\"abcdefg\")  # 구분자.join(\"문자열\")\n",
    "result"
   ]
  },
  {
   "cell_type": "code",
   "execution_count": 49,
   "metadata": {},
   "outputs": [
    {
     "name": "stdout",
     "output_type": "stream",
     "text": [
      "HELLO\n",
      "hello\n",
      "Python programming\n"
     ]
    }
   ],
   "source": [
    "# upper, lower\n",
    "a = \"hello\"\n",
    "result = a.upper() # 대문자로\n",
    "print(result)\n",
    "result = a.lower() # 소문자로\n",
    "print(result)\n",
    "\n",
    "a = \"python programming\"\n",
    "result = a.capitalize()  # 첫글자만 대문자로\n",
    "print(result)"
   ]
  },
  {
   "cell_type": "code",
   "execution_count": 50,
   "metadata": {},
   "outputs": [
    {
     "data": {
      "text/plain": [
       "'경력 개발자'"
      ]
     },
     "execution_count": 50,
     "metadata": {},
     "output_type": "execute_result"
    }
   ],
   "source": [
    "# replace(A, B) A를 B로 변경\n",
    "a = \"신입 개발자\"\n",
    "result = a.replace(\"신입\", \"경력\")\n",
    "result"
   ]
  },
  {
   "cell_type": "code",
   "execution_count": 51,
   "metadata": {},
   "outputs": [
    {
     "data": {
      "text/plain": [
       "['신입', '개발자', '자바', '파이썬', '가능자']"
      ]
     },
     "execution_count": 51,
     "metadata": {},
     "output_type": "execute_result"
    }
   ],
   "source": [
    "a = \"신입 개발자 자바 파이썬 가능자\"\n",
    "result = a.split()   # 공백을 기준으로 분리 - 리스트\n",
    "result"
   ]
  },
  {
   "cell_type": "code",
   "execution_count": 52,
   "metadata": {},
   "outputs": [
    {
     "data": {
      "text/plain": [
       "['A', 'B', 'C', 'D', 'E']"
      ]
     },
     "execution_count": 52,
     "metadata": {},
     "output_type": "execute_result"
    }
   ],
   "source": [
    "b = \"A:B:C:D:E\"\n",
    "result = b.split(\":\")\n",
    "result"
   ]
  },
  {
   "cell_type": "code",
   "execution_count": null,
   "metadata": {},
   "outputs": [],
   "source": []
  }
 ],
 "metadata": {
  "kernelspec": {
   "display_name": "Python 3",
   "language": "python",
   "name": "python3"
  },
  "language_info": {
   "codemirror_mode": {
    "name": "ipython",
    "version": 3
   },
   "file_extension": ".py",
   "mimetype": "text/x-python",
   "name": "python",
   "nbconvert_exporter": "python",
   "pygments_lexer": "ipython3",
   "version": "3.7.3"
  }
 },
 "nbformat": 4,
 "nbformat_minor": 2
}
