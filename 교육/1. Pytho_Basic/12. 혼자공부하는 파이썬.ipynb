{
 "cells": [
  {
   "cell_type": "markdown",
   "metadata": {},
   "source": [
    "#### 0. 표현식( v = c)\n",
    "- 생성규칙 : 명명법(변수명, 함수명, 클래스명, 모듈.....)"
   ]
  },
  {
   "cell_type": "code",
   "execution_count": 1,
   "metadata": {},
   "outputs": [
    {
     "name": "stdout",
     "output_type": "stream",
     "text": [
      "['False', 'None', 'True', 'and', 'as', 'assert', 'async', 'await', 'break', 'class', 'continue', 'def', 'del', 'elif', 'else', 'except', 'finally', 'for', 'from', 'global', 'if', 'import', 'in', 'is', 'lambda', 'nonlocal', 'not', 'or', 'pass', 'raise', 'return', 'try', 'while', 'with', 'yield']\n",
      "35\n"
     ]
    }
   ],
   "source": [
    "import keyword\n",
    "# 모듈명.함수 or 모듈명.변수\n",
    "print(keyword.kwlist)\n",
    "print(len(keyword.kwlist))"
   ]
  },
  {
   "cell_type": "code",
   "execution_count": 2,
   "metadata": {},
   "outputs": [
    {
     "data": {
      "text/plain": [
       "True"
      ]
     },
     "execution_count": 2,
     "metadata": {},
     "output_type": "execute_result"
    }
   ],
   "source": [
    "10 > 6 "
   ]
  },
  {
   "cell_type": "code",
   "execution_count": null,
   "metadata": {},
   "outputs": [],
   "source": [
    "# 다중주석 : 영역지정후 ctrl + '/'\n",
    "# print, printf, println == print\n",
    "# end = end of line"
   ]
  },
  {
   "cell_type": "code",
   "execution_count": 3,
   "metadata": {},
   "outputs": [
    {
     "name": "stdout",
     "output_type": "stream",
     "text": [
      "3\n",
      "123456789\n",
      "123456789123456789123456789123456789123456789123456789123456789\n"
     ]
    }
   ],
   "source": [
    "# 정수 : 양의정수, 0, 음의정수\n",
    "a = 3\n",
    "b = 123456789\n",
    "c = 123456789123456789123456789123456789123456789123456789123456789\n",
    "print(a)\n",
    "print(b)\n",
    "print(c)"
   ]
  },
  {
   "cell_type": "code",
   "execution_count": 4,
   "metadata": {},
   "outputs": [
    {
     "name": "stdout",
     "output_type": "stream",
     "text": [
      "-3\n",
      "-123456789\n",
      "-123456789123456789123456789123456789123456789123456789123456789\n"
     ]
    }
   ],
   "source": [
    "a = -3\n",
    "b = -123456789\n",
    "c = -123456789123456789123456789123456789123456789123456789123456789\n",
    "print(a)\n",
    "print(b)\n",
    "print(c)"
   ]
  },
  {
   "cell_type": "code",
   "execution_count": 5,
   "metadata": {},
   "outputs": [
    {
     "data": {
      "text/plain": [
       "int"
      ]
     },
     "execution_count": 5,
     "metadata": {},
     "output_type": "execute_result"
    }
   ],
   "source": [
    "# 자료형 확인 : type\n",
    "f = -3\n",
    "type(f)"
   ]
  },
  {
   "cell_type": "code",
   "execution_count": null,
   "metadata": {},
   "outputs": [],
   "source": [
    "#[] 조건식, start:end(end-1), [:]"
   ]
  },
  {
   "cell_type": "code",
   "execution_count": null,
   "metadata": {},
   "outputs": [],
   "source": [
    "# 배정대입연산자, a = a + 1 == a += 1 == a++ or ++a 사용불가\n",
    "a = 10\n",
    "a = a + 1  # a += 1\n",
    "a = a - 2  # a -= 2\n",
    "a = a * 3  # a *= 3\n",
    "a = a / 5  # a /= 5"
   ]
  },
  {
   "cell_type": "code",
   "execution_count": null,
   "metadata": {},
   "outputs": [],
   "source": [
    "# eval()"
   ]
  },
  {
   "cell_type": "code",
   "execution_count": 7,
   "metadata": {},
   "outputs": [
    {
     "name": "stdout",
     "output_type": "stream",
     "text": [
      "첫번째수 = 10\n",
      "두번째수 = 2\n",
      "10 + 2 = 12\n",
      "10 - 2 = 8\n",
      "10 * 2 = 20\n",
      "10 / 2 = 5.0\n"
     ]
    }
   ],
   "source": [
    "# 계산기 프로그램\n",
    "# 두 개의 정수를 입력받아 사칙연산을 수행한 후 결과를 출력하는\n",
    "# 프로그램을 구현하시오.\n",
    "# 출력형식\n",
    "# 첫번째수 =\n",
    "# 두번째수 =\n",
    "\n",
    "first = int(input(\"첫번째수 = \"))\n",
    "second = int(input(\"두번째수 = \"))\n",
    "#print(type(first))\n",
    "\n",
    "add = first + second\n",
    "sub = first - second\n",
    "mul = first * second\n",
    "div = first / second # //(정수몫), %(나머지), **(거듭제곱)\n",
    "\n",
    "print(\"{0} + {1} = {2}\".format(first, second, add))\n",
    "print(\"{0} - {1} = {2}\".format(first, second, sub))\n",
    "print(\"{0} * {1} = {2}\".format(first, second, mul))\n",
    "print(\"{0} / {1} = {2}\".format(first, second, div))"
   ]
  },
  {
   "cell_type": "code",
   "execution_count": 11,
   "metadata": {},
   "outputs": [],
   "source": [
    "# 함수 선언과 정의\n",
    "def adder(a, b):\n",
    "    return a + b\n",
    "\n",
    "def substr(a, b):\n",
    "    return a - b\n",
    "\n",
    "def multi(a, b):\n",
    "    return a * b\n",
    "\n",
    "def divide(a, b):\n",
    "    return a / b"
   ]
  },
  {
   "cell_type": "code",
   "execution_count": 13,
   "metadata": {},
   "outputs": [
    {
     "name": "stdout",
     "output_type": "stream",
     "text": [
      "첫번째수 = 10\n",
      "연산자(+, -, *, /) = -\n",
      "두번째수 = 6\n",
      "10 - 6 = 4\n",
      "프로그램을 종료합니다.\n"
     ]
    }
   ],
   "source": [
    "# 첫번째수 =\n",
    "# 연산자(+, -, *, /) =\n",
    "# 두번째수 =\n",
    "\n",
    "first = int(input(\"첫번째수 = \"))\n",
    "opper = input(\"연산자(+, -, *, /) = \")\n",
    "second = int(input(\"두번째수 = \"))\n",
    "\n",
    "if opper == \"+\":\n",
    "    result = adder(first, second)  # 함수호출\n",
    "    #print(\"{0} + {1} = {2}\".format(first, second, add))\n",
    "elif opper == \"-\":\n",
    "    result = substr(first, second)\n",
    "    #print(\"{0} - {1} = {2}\".format(first, second, sub))\n",
    "elif opper == \"*\":\n",
    "    result = multi(first, second)\n",
    "    #print(\"{0} * {1} = {2}\".format(first, second, mul))\n",
    "elif opper == \"/\":\n",
    "    result = divide(first, second)\n",
    "    #print(\"{0} / {1} = {2}\".format(first, second, div))\n",
    "else:\n",
    "    print(\"올바른 연산자가 아닙니다.\")\n",
    "    \n",
    "print(\"{0} {1} {2} = {3}\".format(first, opper, second, result))\n",
    "\n",
    "print(\"프로그램을 종료합니다.\")"
   ]
  },
  {
   "cell_type": "code",
   "execution_count": 32,
   "metadata": {},
   "outputs": [
    {
     "name": "stdout",
     "output_type": "stream",
     "text": [
      "첫번째수 = 10\n",
      "연산자(+, -, *, /) = -\n",
      "두번째수 = 2\n",
      "10 - 2 = 8\n",
      "프로그램을 종료합니다.\n"
     ]
    }
   ],
   "source": [
    "#first = int(input(\"첫번째수 = \"))\n",
    "#opper = input(\"연산자(+, -, *, /) = \")\n",
    "#second = int(input(\"두번째수 = \"))\n",
    "\n",
    "# Calculator 클래스의 인스턴스 객체를 생성\n",
    "cal = Calculator()\n",
    "cal.init()\n",
    "#cal.compute()\n",
    "cal.disp()\n",
    "# if opper == \"+\":\n",
    "#     result =  cal.adder()\n",
    "# elif opper == \"-\":\n",
    "#     result =  cal.substr()  \n",
    "# elif opper == \"*\":\n",
    "#     result =  cal.multi() \n",
    "# elif opper == \"/\":\n",
    "#     result =  cal.divide()  \n",
    "# else:\n",
    "#     print(\"올바른 연산자가 아닙니다.\")\n",
    "    \n",
    "# print(\"{0} {1} {2} = {3}\".format(first, opper, second, result))\n",
    "\n",
    "print(\"프로그램을 종료합니다.\")"
   ]
  },
  {
   "cell_type": "code",
   "execution_count": 35,
   "metadata": {},
   "outputs": [],
   "source": [
    "class Calculator:\n",
    "    # 프로퍼티 or 멤버필드 or 멤버변수\n",
    "    \n",
    "    # 생성자(Constructor) 메서드 : 객체가 생성시 자동호출\n",
    "    def __init__(self):\n",
    "        self.a = int(input(\"첫번째수 = \"))\n",
    "        self.op = input(\"연산자(+, -, *, /) = \")\n",
    "        self.b = int(input(\"두번째수 = \"))\n",
    "        self.compute()  # 클래스 내부에서 자신의 메서드 호출시\n",
    "        \n",
    "    # 멤버메서드 or 멤버함수\n",
    "    def init(self):\n",
    "        self.a = int(input(\"첫번째수 = \"))\n",
    "        self.op = input(\"연산자(+, -, *, /) = \")\n",
    "        self.b = int(input(\"두번째수 = \"))\n",
    "        self.compute()  # 클래스 내부에서 자신의 메서드 호출시\n",
    "        \n",
    "    def compute(self):\n",
    "        if self.op == \"+\":\n",
    "            self.result = self.adder()\n",
    "        elif self.op == \"-\":\n",
    "            self.result = self.substr()  \n",
    "        elif self.op == \"*\":\n",
    "            self.result = self.multi() \n",
    "        elif self.op == \"/\":\n",
    "            self.result = self.divide()  \n",
    "        else:\n",
    "            print(\"올바른 연산자가 아닙니다.\")\n",
    "        \n",
    "    def adder(self):       \n",
    "        return self.a + self.b\n",
    "\n",
    "    def substr(self):        \n",
    "        return self.a - self.b\n",
    "\n",
    "    def multi(self):        \n",
    "        return self.a * self.b\n",
    "\n",
    "    def divide(self):        \n",
    "        return self.a / self.b\n",
    "    \n",
    "    def disp(self):\n",
    "        print(\"{0} {1} {2} = {3}\".format(self.a, self.op, self.b, self.result))"
   ]
  },
  {
   "cell_type": "code",
   "execution_count": 36,
   "metadata": {},
   "outputs": [
    {
     "name": "stdout",
     "output_type": "stream",
     "text": [
      "첫번째수 = 10\n",
      "연산자(+, -, *, /) = -\n",
      "두번째수 = 5\n",
      "10 - 5 = 5\n"
     ]
    }
   ],
   "source": [
    "cal = Calculator()  # 객체(instance)를 생성\n",
    "#cal.init()\n",
    "#cal.compute()\n",
    "cal.disp()"
   ]
  },
  {
   "cell_type": "code",
   "execution_count": 43,
   "metadata": {},
   "outputs": [
    {
     "name": "stdout",
     "output_type": "stream",
     "text": [
      "<class 'str'>\n",
      "12.35\n"
     ]
    }
   ],
   "source": [
    "a = \"{:.2f}\".format(12.34567)\n",
    "print(type(a))\n",
    "print(a)"
   ]
  },
  {
   "cell_type": "code",
   "execution_count": null,
   "metadata": {},
   "outputs": [],
   "source": [
    "# trim"
   ]
  },
  {
   "cell_type": "code",
   "execution_count": null,
   "metadata": {},
   "outputs": [],
   "source": [
    "# is : ~이다, True or False\n",
    "# isalnum()"
   ]
  },
  {
   "cell_type": "code",
   "execution_count": 44,
   "metadata": {},
   "outputs": [
    {
     "data": {
      "text/plain": [
       "['10', '20', '30', '40', '50']"
      ]
     },
     "execution_count": 44,
     "metadata": {},
     "output_type": "execute_result"
    }
   ],
   "source": [
    "a = \"10 20 30 40 50\".split(\" \")\n",
    "a"
   ]
  },
  {
   "cell_type": "code",
   "execution_count": 47,
   "metadata": {},
   "outputs": [
    {
     "name": "stdout",
     "output_type": "stream",
     "text": [
      "수1 = 5\n",
      "수2 = 9\n",
      "큰수 = 9\n"
     ]
    }
   ],
   "source": [
    "# 입력받은 두 수중 큰 수를 리턴시켜주는 함수\n",
    "def large(a, b):\n",
    "    if a > b:\n",
    "        return a\n",
    "    else:\n",
    "        return b\n",
    "    \n",
    "# 두 개의 정수를 입력받아 큰수를 출력하는 프로그램을 구현하시오.\n",
    "\n",
    "num1 = int(input(\"수1 = \"))\n",
    "num2 = int(input(\"수2 = \"))\n",
    "\n",
    "# if num1 > num2:\n",
    "#     # 조건식이 참일 때\n",
    "#     max = num1\n",
    "# else: # 조건식이 거짓일 때\n",
    "#     max = num2\n",
    "\n",
    "#max = large(num1, num2)\n",
    "    \n",
    "print(\"큰수 = {}\".format(large(num1, num2)))"
   ]
  },
  {
   "cell_type": "code",
   "execution_count": 50,
   "metadata": {},
   "outputs": [
    {
     "name": "stdout",
     "output_type": "stream",
     "text": [
      "수1 = 5\n",
      "수2 = 2\n",
      "수3 = 7\n",
      "큰수 = 7\n"
     ]
    }
   ],
   "source": [
    "# 세 개의 수를 입력받아 큰 수를 출력하는 프로그램을 구현하시오.\n",
    "num1 = int(input(\"수1 = \"))\n",
    "num2 = int(input(\"수2 = \"))\n",
    "num3 = int(input(\"수3 = \"))\n",
    "\n",
    "# 비교연산자(관계연산자) : >, >=, <, <=, ==, !=\n",
    "# 논리연산자 : and, or, not\n",
    "\n",
    "if num1 > num2 and num1 > num3:\n",
    "    max = num1\n",
    "elif num2 > num1 and num2 > num3:\n",
    "    max = num2\n",
    "else:\n",
    "    max = num3\n",
    "\n",
    "print(\"큰수 = {}\".format(max))"
   ]
  },
  {
   "cell_type": "code",
   "execution_count": 51,
   "metadata": {},
   "outputs": [
    {
     "name": "stdout",
     "output_type": "stream",
     "text": [
      "국어 = 100\n",
      "영어 = 90\n",
      "수학 = 77\n",
      "총점 = 267, 평균 = 89.00\n"
     ]
    }
   ],
   "source": [
    "# 성적프로그램 1단계\n",
    "# 국어, 영어, 수학점수를 입력받아 총점과 평균을 계산한 후 출력하는\n",
    "# 프로그램\n",
    "kor = int(input(\"국어 = \"))\n",
    "eng = int(input(\"영어 = \"))\n",
    "math = int(input(\"수학 = \"))\n",
    "\n",
    "tot = kor + eng + math\n",
    "avg = tot / 3\n",
    "\n",
    "print(\"총점 = {}, 평균 = {:.2f}\".format(tot, avg))\n"
   ]
  },
  {
   "cell_type": "code",
   "execution_count": 52,
   "metadata": {},
   "outputs": [
    {
     "name": "stdout",
     "output_type": "stream",
     "text": [
      "국어 = 80\n",
      "영어 = 90\n",
      "수학 = 88\n",
      "총점 = 258, 평균 = 86.00, 학점 = B\n"
     ]
    }
   ],
   "source": [
    "# 성적프로그램 2단계\n",
    "# 평균을 이용하여 학점을 계산하여 출력하는 프로그램을 구현하시오.\n",
    "# 학점은 'A', 'B', 'C', 'D', 'F'로 표현한다.\n",
    "# 평균이 90점 이상이면 'A', 80점 이상이면 'B', 70점 이상이면 'C',\n",
    "# 60점 이상이면 'D', 그외 'F'로 처리할 것\n",
    "\n",
    "kor = int(input(\"국어 = \"))\n",
    "eng = int(input(\"영어 = \"))\n",
    "math = int(input(\"수학 = \"))\n",
    "\n",
    "tot = kor + eng + math\n",
    "avg = tot / 3\n",
    "\n",
    "if avg >= 90:\n",
    "    grade = 'A'\n",
    "elif avg >= 80:\n",
    "    grade = 'B'\n",
    "elif avg >= 70:\n",
    "    grade = 'C'\n",
    "elif avg >= 60:\n",
    "    grade = 'D'\n",
    "else:\n",
    "    grade = 'F'\n",
    "\n",
    "print(\"총점 = {}, 평균 = {:.2f}, 학점 = {}\".format(tot, avg, grade))"
   ]
  },
  {
   "cell_type": "code",
   "execution_count": 53,
   "metadata": {},
   "outputs": [
    {
     "name": "stdout",
     "output_type": "stream",
     "text": [
      "1\n",
      "2\n",
      "3\n",
      "4\n",
      "5\n",
      "6\n",
      "7\n",
      "8\n",
      "9\n",
      "10\n"
     ]
    }
   ],
   "source": [
    "# 반복문 : 동일하거나 유사한문장(규칙을 가지고 있는 문장)\n",
    "# while : 사용자의 행위에 의해 반복을 제어할 때 사용하는 문장   \n",
    "# 무한Loop => while True:\n",
    "# for : 횟수를 제어할 때\n",
    "\n",
    "# 1부터 10까지의 자연수를 출력하는 프로그램\n",
    "i = 1\n",
    "while i <= 10:\n",
    "    print(i)\n",
    "    i += 1   # i = i + 1"
   ]
  },
  {
   "cell_type": "code",
   "execution_count": 54,
   "metadata": {},
   "outputs": [
    {
     "name": "stdout",
     "output_type": "stream",
     "text": [
      "1\n",
      "2\n",
      "3\n",
      "4\n",
      "5\n",
      "6\n",
      "7\n",
      "8\n",
      "9\n",
      "10\n"
     ]
    }
   ],
   "source": [
    "# 기타제어문 : break, continue\n",
    "i = 1\n",
    "while True:\n",
    "    #if i > 10: break        \n",
    "    print(i)\n",
    "    #if i == 10: break        \n",
    "    i += 1   # i = i + 1\n",
    "    if i > 10: break"
   ]
  },
  {
   "cell_type": "code",
   "execution_count": 55,
   "metadata": {},
   "outputs": [
    {
     "name": "stdout",
     "output_type": "stream",
     "text": [
      "비밀번호 = java\n",
      "java\n",
      "비밀번호 = c\n",
      "c\n",
      "비밀번호 = c++\n",
      "c++\n",
      "비밀번호 = Python\n",
      "Python\n",
      "비밀번호 = python\n"
     ]
    }
   ],
   "source": [
    "# 비밀번호가 일치하면 않으면 프로그램을 종료하도록 구현하시오.\n",
    "password = \"python\"\n",
    "\n",
    "while True:\n",
    "    word = input(\"비밀번호 = \")\n",
    "    if password == word: break\n",
    "    print(word)    "
   ]
  },
  {
   "cell_type": "code",
   "execution_count": 56,
   "metadata": {},
   "outputs": [
    {
     "name": "stdout",
     "output_type": "stream",
     "text": [
      "JAVA\n",
      "C\n",
      "ORACLE\n",
      "R\n",
      "PYTHON\n"
     ]
    }
   ],
   "source": [
    "# for 개별변수 in 집합변수(튜플, 리스트, 딕셔너리, 세트, 문자열):\n",
    "for word in ['JAVA', 'C', 'ORACLE', 'R', 'PYTHON']:\n",
    "    print(word)"
   ]
  },
  {
   "cell_type": "code",
   "execution_count": 57,
   "metadata": {},
   "outputs": [
    {
     "name": "stdout",
     "output_type": "stream",
     "text": [
      "JAVA\n",
      "C\n",
      "ORACLE\n",
      "R\n",
      "PYTHON\n"
     ]
    }
   ],
   "source": [
    "subject = ['JAVA', 'C', 'ORACLE', 'R', 'PYTHON']\n",
    "for word in subject:\n",
    "    print(word)"
   ]
  },
  {
   "cell_type": "code",
   "execution_count": 59,
   "metadata": {},
   "outputs": [
    {
     "name": "stdout",
     "output_type": "stream",
     "text": [
      "1 2\n",
      "3 4\n",
      "5 6\n"
     ]
    }
   ],
   "source": [
    "# 리스트의 요소로 튜플을 가지고 있을 때\n",
    "a = [(1, 2), (3, 4), (5, 6)]\n",
    "#b = (1, 2, 3, 4, 5)\n",
    "#i, j = (1, 2)\n",
    "for i, j in a:\n",
    "    print(i, j)"
   ]
  },
  {
   "cell_type": "code",
   "execution_count": 65,
   "metadata": {},
   "outputs": [
    {
     "name": "stdout",
     "output_type": "stream",
     "text": [
      "첫번째수 = 1\n",
      "두번째수 = 10\n",
      "사이합 = 55\n"
     ]
    }
   ],
   "source": [
    "# 두 개의 정수를 입력받아 두 수 사이의 자연수의 합을 누적해서 \n",
    "# 출력하는 프로그램을 구현하시오.\n",
    "# 첫번째수 = 5\n",
    "# 두번째수 = 1\n",
    "# 사이합 = 15\n",
    "\n",
    "first = int(input(\"첫번째수 = \"))\n",
    "second = int(input(\"두번째수 = \"))\n",
    "sum = 0\n",
    "\n",
    "# 입력받은 두 수의 대소관계를 비교\n",
    "if first > second:\n",
    "    first, second = second, first\n",
    "\n",
    "for i in range(first, second+1):\n",
    "    sum = sum + i\n",
    "    \n",
    "print(\"사이합 = {}\".format(sum))"
   ]
  },
  {
   "cell_type": "code",
   "execution_count": 66,
   "metadata": {},
   "outputs": [
    {
     "name": "stdout",
     "output_type": "stream",
     "text": [
      "[3, 6, 9, 12, 15]\n"
     ]
    }
   ],
   "source": [
    "# 리스트 내포(List comprehension) : 리스트내에 for문을 포함하는 문장\n",
    "a = [1, 2, 3, 4, 5]\n",
    "result = [] # 비어있는 리스트 자료형 생성\n",
    "\n",
    "for i in a:\n",
    "    result.append(i * 3)\n",
    "    \n",
    "print(result)"
   ]
  },
  {
   "cell_type": "code",
   "execution_count": 67,
   "metadata": {},
   "outputs": [
    {
     "name": "stdout",
     "output_type": "stream",
     "text": [
      "[3, 6, 9, 12, 15]\n"
     ]
    }
   ],
   "source": [
    "a = [1, 2, 3, 4, 5]\n",
    "\n",
    "result = [i*3 for i in a]\n",
    "print(result)"
   ]
  },
  {
   "cell_type": "code",
   "execution_count": 68,
   "metadata": {},
   "outputs": [
    {
     "name": "stdout",
     "output_type": "stream",
     "text": [
      "[6, 12]\n"
     ]
    }
   ],
   "source": [
    "# 리스트 요소중 짝수값만 3을 곱하여 리스트에 담아서 출력\n",
    "a = [1, 2, 3, 4, 5]\n",
    "result = []\n",
    "\n",
    "for i in a:\n",
    "    if i % 2 == 0:\n",
    "        result.append(i*3)\n",
    "        \n",
    "print(result)"
   ]
  },
  {
   "cell_type": "code",
   "execution_count": 69,
   "metadata": {},
   "outputs": [
    {
     "name": "stdout",
     "output_type": "stream",
     "text": [
      "[6, 12]\n"
     ]
    }
   ],
   "source": [
    "a = [1, 2, 3, 4, 5]\n",
    "#[표현식 for 개별변수 in 집합변수 if 조건식]\n",
    "result = [i*3 for i in a if i % 2 == 0]\n",
    "print(result)"
   ]
  },
  {
   "cell_type": "code",
   "execution_count": 70,
   "metadata": {},
   "outputs": [
    {
     "name": "stdout",
     "output_type": "stream",
     "text": [
      "2 x 1 = 2\n",
      "2 x 2 = 4\n",
      "2 x 3 = 6\n",
      "2 x 4 = 8\n",
      "2 x 5 = 10\n",
      "2 x 6 = 12\n",
      "2 x 7 = 14\n",
      "2 x 8 = 16\n",
      "2 x 9 = 18\n",
      "3 x 1 = 3\n",
      "3 x 2 = 6\n",
      "3 x 3 = 9\n",
      "3 x 4 = 12\n",
      "3 x 5 = 15\n",
      "3 x 6 = 18\n",
      "3 x 7 = 21\n",
      "3 x 8 = 24\n",
      "3 x 9 = 27\n",
      "4 x 1 = 4\n",
      "4 x 2 = 8\n",
      "4 x 3 = 12\n",
      "4 x 4 = 16\n",
      "4 x 5 = 20\n",
      "4 x 6 = 24\n",
      "4 x 7 = 28\n",
      "4 x 8 = 32\n",
      "4 x 9 = 36\n",
      "5 x 1 = 5\n",
      "5 x 2 = 10\n",
      "5 x 3 = 15\n",
      "5 x 4 = 20\n",
      "5 x 5 = 25\n",
      "5 x 6 = 30\n",
      "5 x 7 = 35\n",
      "5 x 8 = 40\n",
      "5 x 9 = 45\n",
      "6 x 1 = 6\n",
      "6 x 2 = 12\n",
      "6 x 3 = 18\n",
      "6 x 4 = 24\n",
      "6 x 5 = 30\n",
      "6 x 6 = 36\n",
      "6 x 7 = 42\n",
      "6 x 8 = 48\n",
      "6 x 9 = 54\n",
      "7 x 1 = 7\n",
      "7 x 2 = 14\n",
      "7 x 3 = 21\n",
      "7 x 4 = 28\n",
      "7 x 5 = 35\n",
      "7 x 6 = 42\n",
      "7 x 7 = 49\n",
      "7 x 8 = 56\n",
      "7 x 9 = 63\n",
      "8 x 1 = 8\n",
      "8 x 2 = 16\n",
      "8 x 3 = 24\n",
      "8 x 4 = 32\n",
      "8 x 5 = 40\n",
      "8 x 6 = 48\n",
      "8 x 7 = 56\n",
      "8 x 8 = 64\n",
      "8 x 9 = 72\n",
      "9 x 1 = 9\n",
      "9 x 2 = 18\n",
      "9 x 3 = 27\n",
      "9 x 4 = 36\n",
      "9 x 5 = 45\n",
      "9 x 6 = 54\n",
      "9 x 7 = 63\n",
      "9 x 8 = 72\n",
      "9 x 9 = 81\n"
     ]
    }
   ],
   "source": [
    "for dan in range(2, 10):\n",
    "    for num in range(1, 10):\n",
    "        print(\"{} x {} = {}\".format(dan, num, dan*num))"
   ]
  },
  {
   "cell_type": "code",
   "execution_count": 71,
   "metadata": {},
   "outputs": [
    {
     "name": "stdout",
     "output_type": "stream",
     "text": [
      "[2, 4, 6, 8, 10, 12, 14, 16, 18, 3, 6, 9, 12, 15, 18, 21, 24, 27, 4, 8, 12, 16, 20, 24, 28, 32, 36, 5, 10, 15, 20, 25, 30, 35, 40, 45, 6, 12, 18, 24, 30, 36, 42, 48, 54, 7, 14, 21, 28, 35, 42, 49, 56, 63, 8, 16, 24, 32, 40, 48, 56, 64, 72, 9, 18, 27, 36, 45, 54, 63, 72, 81]\n"
     ]
    }
   ],
   "source": [
    "result = []\n",
    "\n",
    "for dan in range(2, 10):\n",
    "    for num in range(1, 10):\n",
    "        result.append(dan*num)\n",
    "        \n",
    "print(result)"
   ]
  },
  {
   "cell_type": "code",
   "execution_count": 72,
   "metadata": {},
   "outputs": [
    {
     "name": "stdout",
     "output_type": "stream",
     "text": [
      "[2, 4, 6, 8, 10, 12, 14, 16, 18, 3, 6, 9, 12, 15, 18, 21, 24, 27, 4, 8, 12, 16, 20, 24, 28, 32, 36, 5, 10, 15, 20, 25, 30, 35, 40, 45, 6, 12, 18, 24, 30, 36, 42, 48, 54, 7, 14, 21, 28, 35, 42, 49, 56, 63, 8, 16, 24, 32, 40, 48, 56, 64, 72, 9, 18, 27, 36, 45, 54, 63, 72, 81]\n"
     ]
    }
   ],
   "source": [
    "result = [dan*num for dan in range(2, 10) for num in range(1, 10)]\n",
    "print(result)"
   ]
  },
  {
   "cell_type": "code",
   "execution_count": 75,
   "metadata": {},
   "outputs": [
    {
     "name": "stdout",
     "output_type": "stream",
     "text": [
      "['a', 'b', 'c']\n",
      "b\n"
     ]
    }
   ],
   "source": [
    "a = [1, 2, ['a', 'b', 'c']]\n",
    "#b = list()\n",
    "#c = int()\n",
    "\n",
    "# indexing : 요소위치값을 이용해서 특정 요소를 검색\n",
    "print(a[2])\n",
    "print(a[2][1])"
   ]
  },
  {
   "cell_type": "code",
   "execution_count": 76,
   "metadata": {},
   "outputs": [
    {
     "data": {
      "text/plain": [
       "{'name': '장보고'}"
      ]
     },
     "execution_count": 76,
     "metadata": {},
     "output_type": "execute_result"
    }
   ],
   "source": [
    "# 딕셔너리 자료형\n",
    "# key:value\n",
    "# key는 중복을 허용하지 않는다. => set\n",
    "# value는 중복을 허용\n",
    "# 사전.keys(), 사전.values(), 사전.items()\n",
    "# 생성 : 중괄호{}\n",
    "people = {'name':'장보고'}\n",
    "people"
   ]
  },
  {
   "cell_type": "code",
   "execution_count": 77,
   "metadata": {},
   "outputs": [
    {
     "data": {
      "text/plain": [
       "{'name': '장보고', 'age': 13}"
      ]
     },
     "execution_count": 77,
     "metadata": {},
     "output_type": "execute_result"
    }
   ],
   "source": [
    "people['age'] = 13\n",
    "people"
   ]
  },
  {
   "cell_type": "code",
   "execution_count": 78,
   "metadata": {},
   "outputs": [
    {
     "data": {
      "text/plain": [
       "{'name': '장보고', 'age': 13, 'hobby': '잠'}"
      ]
     },
     "execution_count": 78,
     "metadata": {},
     "output_type": "execute_result"
    }
   ],
   "source": [
    "people['hobby'] = '잠'\n",
    "people"
   ]
  },
  {
   "cell_type": "code",
   "execution_count": 79,
   "metadata": {},
   "outputs": [
    {
     "data": {
      "text/plain": [
       "dict_keys(['name', 'age', 'hobby'])"
      ]
     },
     "execution_count": 79,
     "metadata": {},
     "output_type": "execute_result"
    }
   ],
   "source": [
    "people.keys()"
   ]
  },
  {
   "cell_type": "code",
   "execution_count": 80,
   "metadata": {},
   "outputs": [
    {
     "data": {
      "text/plain": [
       "dict_values(['장보고', 13, '잠'])"
      ]
     },
     "execution_count": 80,
     "metadata": {},
     "output_type": "execute_result"
    }
   ],
   "source": [
    "people.values()"
   ]
  },
  {
   "cell_type": "code",
   "execution_count": 81,
   "metadata": {},
   "outputs": [
    {
     "data": {
      "text/plain": [
       "dict_items([('name', '장보고'), ('age', 13), ('hobby', '잠')])"
      ]
     },
     "execution_count": 81,
     "metadata": {},
     "output_type": "execute_result"
    }
   ],
   "source": [
    "people.items()"
   ]
  },
  {
   "cell_type": "code",
   "execution_count": 82,
   "metadata": {},
   "outputs": [
    {
     "name": "stdout",
     "output_type": "stream",
     "text": [
      "name\n",
      "age\n",
      "hobby\n"
     ]
    }
   ],
   "source": [
    "for i in people:\n",
    "    print(i)"
   ]
  },
  {
   "cell_type": "code",
   "execution_count": 83,
   "metadata": {},
   "outputs": [
    {
     "name": "stdout",
     "output_type": "stream",
     "text": [
      "장보고\n",
      "13\n",
      "잠\n"
     ]
    }
   ],
   "source": [
    "for i in people:\n",
    "    print(people[i])  # people.get(i)"
   ]
  },
  {
   "cell_type": "code",
   "execution_count": 85,
   "metadata": {},
   "outputs": [
    {
     "name": "stdout",
     "output_type": "stream",
     "text": [
      "name : 장보고\n",
      "age : 13\n",
      "hobby : 잠\n"
     ]
    }
   ],
   "source": [
    "for key, value in people.items():\n",
    "    print(key, \":\", value)"
   ]
  },
  {
   "cell_type": "code",
   "execution_count": 86,
   "metadata": {},
   "outputs": [
    {
     "data": {
      "text/plain": [
       "{'name': '장보고', 'age': 13}"
      ]
     },
     "execution_count": 86,
     "metadata": {},
     "output_type": "execute_result"
    }
   ],
   "source": [
    "del people['hobby']\n",
    "people"
   ]
  },
  {
   "cell_type": "code",
   "execution_count": null,
   "metadata": {},
   "outputs": [],
   "source": [
    "# 성적처리프로그램 3단계\n",
    "# 3명의 국어, 영어, 수학점수를 입력받아 총점과 평균을 출력하는\n",
    "# 프로그램을 구현하시오.\n",
    "# 평균은 소숫점이하 둘째자리까지 추출할 것\n"
   ]
  },
  {
   "cell_type": "code",
   "execution_count": null,
   "metadata": {},
   "outputs": [],
   "source": [
    "# https://wikidocs.net/7014"
   ]
  },
  {
   "cell_type": "code",
   "execution_count": 89,
   "metadata": {},
   "outputs": [],
   "source": [
    "class Person:\n",
    "    def __init__(self, num):\n",
    "        self.num = num\n",
    "        self.scores = {'국어': 0, '영어': 0, '수학': 0}\n",
    "        for sub in self.scores:\n",
    "            score = input('{}점수 입력 : '.format(sub))\n",
    "            self.scores[sub] = int(score)\n",
    "        \n",
    "    def total(self):\n",
    "        self.result = 0\n",
    "        for score in self.scores.values():\n",
    "            self.result += score\n",
    "        return self.result\n",
    "    \n",
    "    def avg(self):\n",
    "        return self.result / len(self.scores)\n",
    "    \n",
    "    def disp(self):\n",
    "        print(self.num, '번')\n",
    "        for sub, score in self.scores.items():\n",
    "            print('{0}점수: {1}'.format(sub, score), end = '\\t')\n",
    "        print()\n",
    "        print('총점: {0}, 평균: {1:.2f}'.format(self.total(),\n",
    "                                            self.avg()))"
   ]
  },
  {
   "cell_type": "code",
   "execution_count": 90,
   "metadata": {},
   "outputs": [
    {
     "name": "stdout",
     "output_type": "stream",
     "text": [
      "1 번째 사람\n",
      "국어점수 입력 : 10\n",
      "영어점수 입력 : 20\n",
      "수학점수 입력 : 30\n",
      "2 번째 사람\n",
      "국어점수 입력 : 40\n",
      "영어점수 입력 : 50\n",
      "수학점수 입력 : 60\n",
      "3 번째 사람\n",
      "국어점수 입력 : 70\n",
      "영어점수 입력 : 80\n",
      "수학점수 입력 : 90\n",
      "1 번\n",
      "국어점수: 10\t영어점수: 20\t수학점수: 30\t\n",
      "총점: 60, 평균: 20.00\n",
      "2 번\n",
      "국어점수: 40\t영어점수: 50\t수학점수: 60\t\n",
      "총점: 150, 평균: 50.00\n",
      "3 번\n",
      "국어점수: 70\t영어점수: 80\t수학점수: 90\t\n",
      "총점: 240, 평균: 80.00\n"
     ]
    }
   ],
   "source": [
    "people = []\n",
    "for i in range(3):\n",
    "    print(i+1, '번째 사람')\n",
    "    people.append(Person(i+1))\n",
    "    \n",
    "for person in people:\n",
    "    person.disp()"
   ]
  },
  {
   "cell_type": "code",
   "execution_count": null,
   "metadata": {},
   "outputs": [],
   "source": []
  }
 ],
 "metadata": {
  "kernelspec": {
   "display_name": "Python 3",
   "language": "python",
   "name": "python3"
  },
  "language_info": {
   "codemirror_mode": {
    "name": "ipython",
    "version": 3
   },
   "file_extension": ".py",
   "mimetype": "text/x-python",
   "name": "python",
   "nbconvert_exporter": "python",
   "pygments_lexer": "ipython3",
   "version": "3.7.3"
  }
 },
 "nbformat": 4,
 "nbformat_minor": 2
}
