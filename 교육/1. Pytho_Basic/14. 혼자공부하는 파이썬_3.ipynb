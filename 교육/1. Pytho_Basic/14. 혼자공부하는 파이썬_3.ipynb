{
 "cells": [
  {
   "cell_type": "code",
   "execution_count": 4,
   "metadata": {},
   "outputs": [],
   "source": [
    "# 클래스 선언\n",
    "class A:  # 클래스명의 첫글자는 대문자로 작성하는 것을 권장한다.\n",
    "    # 멤버변수(필드, field) : 인스턴스 변수 or 클래스 변수\n",
    "    ## 클래스변수(공통적으로 갖는 값)\n",
    "    name = \"홍길동\"\n",
    "    age = 20\n",
    "    \n",
    "    # 멤버메서드\n",
    "    def disp(self):\n",
    "        ## 인스턴스 변수(개별적으로 갖는 값)\n",
    "        self.message = \"hello\"\n",
    "        print(self.message)"
   ]
  },
  {
   "cell_type": "code",
   "execution_count": 7,
   "metadata": {},
   "outputs": [
    {
     "name": "stdout",
     "output_type": "stream",
     "text": [
      "hello\n"
     ]
    },
    {
     "ename": "AttributeError",
     "evalue": "type object 'A' has no attribute 'message'",
     "output_type": "error",
     "traceback": [
      "\u001b[1;31m---------------------------------------------------------------------------\u001b[0m",
      "\u001b[1;31mAttributeError\u001b[0m                            Traceback (most recent call last)",
      "\u001b[1;32m<ipython-input-7-b554d396857c>\u001b[0m in \u001b[0;36m<module>\u001b[1;34m\u001b[0m\n\u001b[0;32m      3\u001b[0m \u001b[0mb\u001b[0m \u001b[1;33m=\u001b[0m \u001b[0mA\u001b[0m\u001b[1;33m(\u001b[0m\u001b[1;33m)\u001b[0m\u001b[1;33m\u001b[0m\u001b[1;33m\u001b[0m\u001b[0m\n\u001b[0;32m      4\u001b[0m \u001b[0ma\u001b[0m\u001b[1;33m.\u001b[0m\u001b[0mdisp\u001b[0m\u001b[1;33m(\u001b[0m\u001b[1;33m)\u001b[0m\u001b[1;33m\u001b[0m\u001b[1;33m\u001b[0m\u001b[0m\n\u001b[1;32m----> 5\u001b[1;33m \u001b[0mprint\u001b[0m\u001b[1;33m(\u001b[0m\u001b[0mA\u001b[0m\u001b[1;33m.\u001b[0m\u001b[0mmessage\u001b[0m\u001b[1;33m)\u001b[0m\u001b[1;33m\u001b[0m\u001b[1;33m\u001b[0m\u001b[0m\n\u001b[0m\u001b[0;32m      6\u001b[0m \u001b[0mprint\u001b[0m\u001b[1;33m(\u001b[0m\u001b[0mA\u001b[0m\u001b[1;33m.\u001b[0m\u001b[0mname\u001b[0m\u001b[1;33m)\u001b[0m\u001b[1;33m\u001b[0m\u001b[1;33m\u001b[0m\u001b[0m\n\u001b[0;32m      7\u001b[0m \u001b[0mprint\u001b[0m\u001b[1;33m(\u001b[0m\u001b[0mA\u001b[0m\u001b[1;33m.\u001b[0m\u001b[0mage\u001b[0m\u001b[1;33m)\u001b[0m\u001b[1;33m\u001b[0m\u001b[1;33m\u001b[0m\u001b[0m\n",
      "\u001b[1;31mAttributeError\u001b[0m: type object 'A' has no attribute 'message'"
     ]
    }
   ],
   "source": [
    "# 클래스 변수는 클래스명으로 접근하는 변수\n",
    "a = A()  # 생성자메서드를 호출한다. 디폴트생성자\n",
    "b = A()\n",
    "a.disp()\n",
    "print(a.message)\n",
    "print(A.name)\n",
    "print(A.age)\n",
    "print(A.name)\n",
    "print(A.age)"
   ]
  },
  {
   "cell_type": "code",
   "execution_count": 8,
   "metadata": {},
   "outputs": [],
   "source": [
    "class Person:\n",
    "    # 클래스 변수\n",
    "    nation = \"한국\"\n",
    "    name = str()  # \"\"\n",
    "    age = int()   # 0\n",
    "    height = float()  # 0.0\n",
    "    weight = float()\n",
    "    \n",
    "    def display(self): # 첫번째 매개변수가 self    \n",
    "        print(\"국적 : \", self.nation)\n",
    "        print(\"이름 : \", self.name)\n",
    "        print(\"나이 : \", self.age)\n",
    "        print(\"신장 : \", self.height)\n",
    "        print(\"체중 : \", self.weight)"
   ]
  },
  {
   "cell_type": "code",
   "execution_count": 9,
   "metadata": {},
   "outputs": [
    {
     "name": "stdout",
     "output_type": "stream",
     "text": [
      "['__class__', '__delattr__', '__dict__', '__dir__', '__doc__', '__eq__', '__format__', '__ge__', '__getattribute__', '__gt__', '__hash__', '__init__', '__init_subclass__', '__le__', '__lt__', '__module__', '__ne__', '__new__', '__reduce__', '__reduce_ex__', '__repr__', '__setattr__', '__sizeof__', '__str__', '__subclasshook__', '__weakref__', 'age', 'display', 'height', 'name', 'nation', 'weight']\n"
     ]
    }
   ],
   "source": [
    "# dir : 객체의 목록(변수 or 함수)을 확인하는 함수\n",
    "print(dir(Person))  # 클래스의 모든 멤버 확인"
   ]
  },
  {
   "cell_type": "code",
   "execution_count": 13,
   "metadata": {},
   "outputs": [
    {
     "name": "stdout",
     "output_type": "stream",
     "text": [
      "국적 :  한국\n",
      "이름 :  \n",
      "나이 :  0\n",
      "신장 :  0.0\n",
      "체중 :  0.0\n"
     ]
    }
   ],
   "source": [
    "p1 = Person()\n",
    "\n",
    "p1.display()"
   ]
  },
  {
   "cell_type": "code",
   "execution_count": 12,
   "metadata": {},
   "outputs": [
    {
     "name": "stdout",
     "output_type": "stream",
     "text": [
      "국적 :  한국\n",
      "이름 :  김철수\n",
      "나이 :  20\n",
      "신장 :  170.5\n",
      "체중 :  7.3\n"
     ]
    }
   ],
   "source": [
    "p2 = Person()\n",
    "p2.name = \"김철수\"\n",
    "p2.age = 20\n",
    "p2.height = 170.5\n",
    "p2.weight = 7.3\n",
    "p2.display()"
   ]
  },
  {
   "cell_type": "code",
   "execution_count": 14,
   "metadata": {},
   "outputs": [
    {
     "name": "stdout",
     "output_type": "stream",
     "text": [
      "함수1\n",
      "1462686113184\n",
      "인스턴스의 주소값 :  1462686113184\n",
      "함수2\n",
      "함수3\n"
     ]
    }
   ],
   "source": [
    "class B:\n",
    "    def func1(self):\n",
    "        print(\"함수1\")\n",
    "        \n",
    "    def func2(self):\n",
    "        print(\"인스턴스의 주소값 : \", id(self))\n",
    "        print(\"함수2\")\n",
    "        \n",
    "    def func3():  # 클래스 메서드\n",
    "        print(\"함수3\")\n",
    "\n",
    "# Object(객체)-설계도, instance(객체)-제품 \n",
    "b = B()  # 인스턴스 객체 생성\n",
    "b.func1()\n",
    "print(id(b))\n",
    "b.func2() # b가 가르키는 주소와 self가 가리키는 주소가 같다\n",
    "\n",
    "#b.func3()\n",
    "B.func3()"
   ]
  },
  {
   "cell_type": "code",
   "execution_count": 17,
   "metadata": {},
   "outputs": [],
   "source": [
    "# 매개변수를 초기화, default parameter\n",
    "class Person2:\n",
    "    # 생성자 메서드 : 인스턴스가 생성될 때 자동으로 호출\n",
    "    def __init__(self, name=None, age=None, height=None, weight=None):\n",
    "        self.name = name\n",
    "        self.age = age\n",
    "        self.height = height\n",
    "        self.weight = weight\n",
    "        \n",
    "    def display(self): # 첫번째 매개변수가 self         \n",
    "        print(\"이름 : \", self.name)\n",
    "        print(\"나이 : \", self.age)\n",
    "        print(\"신장 : \", self.height)\n",
    "        print(\"체중 : \", self.weight)\n",
    "        \n",
    "    # 소멸자 메서드 : 인스턴스가 소멸될 때 자동으로 호출\n",
    "    def __del__(self):\n",
    "        print(\"소멸자 호출\")"
   ]
  },
  {
   "cell_type": "code",
   "execution_count": 18,
   "metadata": {},
   "outputs": [
    {
     "name": "stdout",
     "output_type": "stream",
     "text": [
      "이름 :  aaa\n",
      "나이 :  20\n",
      "신장 :  170.1\n",
      "체중 :  73.2\n",
      "이름 :  None\n",
      "나이 :  None\n",
      "신장 :  None\n",
      "체중 :  None\n"
     ]
    }
   ],
   "source": [
    "p2 = Person2('aaa', 20, 170.1, 73.2)\n",
    "p2.display()\n",
    "\n",
    "p3 = Person2()\n",
    "p3.display()"
   ]
  },
  {
   "cell_type": "code",
   "execution_count": 19,
   "metadata": {},
   "outputs": [
    {
     "name": "stdout",
     "output_type": "stream",
     "text": [
      "None\n"
     ]
    }
   ],
   "source": [
    "print(p3.name)"
   ]
  },
  {
   "cell_type": "code",
   "execution_count": null,
   "metadata": {},
   "outputs": [],
   "source": []
  }
 ],
 "metadata": {
  "kernelspec": {
   "display_name": "Python 3",
   "language": "python",
   "name": "python3"
  },
  "language_info": {
   "codemirror_mode": {
    "name": "ipython",
    "version": 3
   },
   "file_extension": ".py",
   "mimetype": "text/x-python",
   "name": "python",
   "nbconvert_exporter": "python",
   "pygments_lexer": "ipython3",
   "version": "3.7.3"
  }
 },
 "nbformat": 4,
 "nbformat_minor": 2
}
