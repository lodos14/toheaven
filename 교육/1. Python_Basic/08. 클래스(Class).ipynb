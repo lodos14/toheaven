{
 "cells": [
  {
   "cell_type": "markdown",
   "metadata": {},
   "source": [
    "### 0. 모듈(Module) vs 클래스(Class) vs 인스턴스(instance)\n",
    "- 모듈(Module) : py로 끝나는 파이썬 파일\n",
    "- 클래스(Class) : 객체를 디자인하는 틀, 사용자 정의 자료형\n",
    "- 인스턴스(Instance) : 클래스로 부터 만들어내는 객체"
   ]
  },
  {
   "cell_type": "code",
   "execution_count": null,
   "metadata": {},
   "outputs": [],
   "source": [
    "# 객체(Object) : 속성과 행위를 가지고 있는 것"
   ]
  },
  {
   "cell_type": "markdown",
   "metadata": {},
   "source": [
    "### 1. 클래스 형식\n",
    "- class 클래스명:\n",
    "      proparties => 속성이나 특성, 멤버변수\n",
    "         nation = \"한국\"\n",
    "         name = str()\n",
    "         age = int()\n",
    "      method or function => 행위, 멤버함수(메서드)\n",
    "         def display(self):\n",
    "             print(\"국적 : \", self.nation)\n",
    "             print(\"이름 : \", self.name)\n",
    "             print(\"나이 : \", self.age)"
   ]
  },
  {
   "cell_type": "markdown",
   "metadata": {},
   "source": [
    "### 2. 주요기능\n",
    "- 클래스 내부에 method 선언 : def 키워드 사용\n",
    "  일반 함수와 달리 첫번째 인수(매개변수)로 self 사용\n",
    "  self : 인스턴스 자신의 주소값을 가리킨다.\n",
    "  각 인스턴스들은 self를 이용해서 자신의 이름공간에 접근\n",
    "  \n",
    "- class method : self를 가지고 있지 않은 메서드(함수)\n",
    "  인스턴스와 무관하게 클래스 내부에 기술하는 메서드\n",
    "  클래스이름으로 호출해서 사용한다.\n",
    "  \n",
    "- 생성자(Constructor) 메서드 : __init__(self)  \n",
    "  인스턴스를 생성할 때 자동으로 호출되는 메서드\n",
    "  \n",
    "- 소멸자(Destructor) 메서드 : __del__(self)\n",
    "  인스턴스가 소멸될 때 자동으로 호출되는 메서드\n",
    "  생략가능\n",
    "  \n",
    "- 상속(Inheritance) : 코드의 재사용\n",
    "  부모클래스와 자녀클래스 그대로 사용할 수 있도록 하는 기능\n",
    "  다중상속가능\n",
    "  \n",
    "- 오버라이드(Override)\n",
    "  부모클래스의 메서드를 자식 클래스에서 재정의하는 것\n",
    "  \n",
    "- 다형성(Polymorphism)\n",
    "  같은 멤버 함수를 호출할 때 각각 다르게 반응하도록 하는 것\n",
    "  코드의 가독성을 향상시키는 목적\n",
    "  작은 코딩으로 다양한 인스턴스들에게 유사한 작업을 수행시킬 수 있다"
   ]
  },
  {
   "cell_type": "code",
   "execution_count": 5,
   "metadata": {},
   "outputs": [],
   "source": [
    "# 클래스 선언\n",
    "class Person:\n",
    "    # 특성이나 속성(프로퍼티) - 멤버변수\n",
    "    #name = \"\"\n",
    "    #age = 0\n",
    "    #height = 0.0\n",
    "    \n",
    "    # 행위나 동작 - 멤버함수(메서드)\n",
    "    def put(self): # self - 현재 객체의 시작주소를 가르킨다.\n",
    "        print(\"이름 : \" + self.name)\n",
    "        print(\"나이 : \" + str(self.age))\n",
    "        print(\"신장 : \" + str(self.height))"
   ]
  },
  {
   "cell_type": "code",
   "execution_count": 7,
   "metadata": {},
   "outputs": [
    {
     "name": "stdout",
     "output_type": "stream",
     "text": [
      "이름 : 홍길동\n",
      "나이 : 20\n",
      "신장 : 180.7\n"
     ]
    }
   ],
   "source": [
    "# 인스턴스 객체를 생성해야 한다.\n",
    "# 클래스 내부의 멤버에 접근하기 위해서\n",
    "p1 = Person()   # p1 = new Person()\n",
    "\n",
    "p1.name = \"홍길동\"\n",
    "p1.age = 20\n",
    "p1.height = 180.7\n",
    "\n",
    "# 인스턴스명.멤버변수 or 인스턴스명.멤버함수\n",
    "p1.put()"
   ]
  },
  {
   "cell_type": "code",
   "execution_count": 8,
   "metadata": {},
   "outputs": [
    {
     "name": "stdout",
     "output_type": "stream",
     "text": [
      "이름 : 장보고\n",
      "나이 : 18\n",
      "신장 : 160.3\n"
     ]
    }
   ],
   "source": [
    "p2 = Person()\n",
    "p2.name = \"장보고\"\n",
    "p2.age = 18\n",
    "p2.height = 160.3\n",
    "\n",
    "p2.put()"
   ]
  },
  {
   "cell_type": "code",
   "execution_count": 9,
   "metadata": {},
   "outputs": [
    {
     "ename": "AttributeError",
     "evalue": "'Person' object has no attribute 'name'",
     "output_type": "error",
     "traceback": [
      "\u001b[1;31m---------------------------------------------------------------------------\u001b[0m",
      "\u001b[1;31mAttributeError\u001b[0m                            Traceback (most recent call last)",
      "\u001b[1;32m<ipython-input-9-8cc854a5bb66>\u001b[0m in \u001b[0;36m<module>\u001b[1;34m\u001b[0m\n\u001b[0;32m      1\u001b[0m \u001b[0mp3\u001b[0m \u001b[1;33m=\u001b[0m \u001b[0mPerson\u001b[0m\u001b[1;33m(\u001b[0m\u001b[1;33m)\u001b[0m\u001b[1;33m\u001b[0m\u001b[1;33m\u001b[0m\u001b[0m\n\u001b[0;32m      2\u001b[0m \u001b[1;33m\u001b[0m\u001b[0m\n\u001b[1;32m----> 3\u001b[1;33m \u001b[0mp3\u001b[0m\u001b[1;33m.\u001b[0m\u001b[0mput\u001b[0m\u001b[1;33m(\u001b[0m\u001b[1;33m)\u001b[0m\u001b[1;33m\u001b[0m\u001b[1;33m\u001b[0m\u001b[0m\n\u001b[0m",
      "\u001b[1;32m<ipython-input-5-fd090792aa5a>\u001b[0m in \u001b[0;36mput\u001b[1;34m(self)\u001b[0m\n\u001b[0;32m      8\u001b[0m     \u001b[1;31m# 행위나 동작 - 멤버함수(메서드)\u001b[0m\u001b[1;33m\u001b[0m\u001b[1;33m\u001b[0m\u001b[1;33m\u001b[0m\u001b[0m\n\u001b[0;32m      9\u001b[0m     \u001b[1;32mdef\u001b[0m \u001b[0mput\u001b[0m\u001b[1;33m(\u001b[0m\u001b[0mself\u001b[0m\u001b[1;33m)\u001b[0m\u001b[1;33m:\u001b[0m \u001b[1;31m# self - 현재 객체의 시작주소를 가르킨다.\u001b[0m\u001b[1;33m\u001b[0m\u001b[1;33m\u001b[0m\u001b[0m\n\u001b[1;32m---> 10\u001b[1;33m         \u001b[0mprint\u001b[0m\u001b[1;33m(\u001b[0m\u001b[1;34m\"이름 : \"\u001b[0m \u001b[1;33m+\u001b[0m \u001b[0mself\u001b[0m\u001b[1;33m.\u001b[0m\u001b[0mname\u001b[0m\u001b[1;33m)\u001b[0m\u001b[1;33m\u001b[0m\u001b[1;33m\u001b[0m\u001b[0m\n\u001b[0m\u001b[0;32m     11\u001b[0m         \u001b[0mprint\u001b[0m\u001b[1;33m(\u001b[0m\u001b[1;34m\"나이 : \"\u001b[0m \u001b[1;33m+\u001b[0m \u001b[0mstr\u001b[0m\u001b[1;33m(\u001b[0m\u001b[0mself\u001b[0m\u001b[1;33m.\u001b[0m\u001b[0mage\u001b[0m\u001b[1;33m)\u001b[0m\u001b[1;33m)\u001b[0m\u001b[1;33m\u001b[0m\u001b[1;33m\u001b[0m\u001b[0m\n\u001b[0;32m     12\u001b[0m         \u001b[0mprint\u001b[0m\u001b[1;33m(\u001b[0m\u001b[1;34m\"신장 : \"\u001b[0m \u001b[1;33m+\u001b[0m \u001b[0mstr\u001b[0m\u001b[1;33m(\u001b[0m\u001b[0mself\u001b[0m\u001b[1;33m.\u001b[0m\u001b[0mheight\u001b[0m\u001b[1;33m)\u001b[0m\u001b[1;33m)\u001b[0m\u001b[1;33m\u001b[0m\u001b[1;33m\u001b[0m\u001b[0m\n",
      "\u001b[1;31mAttributeError\u001b[0m: 'Person' object has no attribute 'name'"
     ]
    }
   ],
   "source": [
    "p3 = Person()\n",
    "\n",
    "p3.put()"
   ]
  },
  {
   "cell_type": "code",
   "execution_count": 12,
   "metadata": {},
   "outputs": [],
   "source": [
    "class Person:\n",
    "    # 생성자 메서드 : 멤버 필드(변수)를 초기화하는 역할\n",
    "    def __init__(self, name, age, height):\n",
    "        self.name = name   # self == this\n",
    "        self.age = age\n",
    "        self.height = height\n",
    "        \n",
    "     # 행위나 동작 - 멤버함수(메서드)\n",
    "    def put(self): # self - 현재 객체의 시작주소를 가르킨다.\n",
    "        print(\"이름 : \" + self.name)\n",
    "        print(\"나이 : \" + str(self.age))\n",
    "        print(\"신장 : \" + str(self.height))       "
   ]
  },
  {
   "cell_type": "code",
   "execution_count": 13,
   "metadata": {},
   "outputs": [
    {
     "name": "stdout",
     "output_type": "stream",
     "text": [
      "이름 : 이순신\n",
      "나이 : 25\n",
      "신장 : 177.9\n"
     ]
    }
   ],
   "source": [
    "# 생성자 메서드가 존재한다면 반드시 인스턴스 객체를 생성할 때\n",
    "# 생성자 메서드를 이용해야 한다.\n",
    "p3 = Person(\"이순신\", 25, 177.9)\n",
    "p3.put()"
   ]
  },
  {
   "cell_type": "code",
   "execution_count": 17,
   "metadata": {},
   "outputs": [],
   "source": [
    "class Person:\n",
    "    # 멤버필드(변수) or 프로퍼티 \n",
    "    name = \"kim\"\n",
    "    age = 20\n",
    "    height = 180.5\n",
    "    \n",
    "    # 멤버메서드(함수)\n",
    "    def put(self):\n",
    "        #self.변수 => 인스턴스 변수(개별적인 값)\n",
    "        print(\"이름 : \" + self.name, end = \" \")\n",
    "        print(\"나이 : \" + str(self.age), end = \" \")\n",
    "        print(\"신장 : \" + str(self.height))   \n",
    "        #클래스명.변수 => 클래스 변수(공통적인 값, 초기화한 값)\n",
    "        #print(\"이름 : \" + Person.name, end = \" \")\n",
    "        #print(\"나이 : \" + str(Person.age), end = \" \")\n",
    "        #print(\"신장 : \" + str(Person.height))      "
   ]
  },
  {
   "cell_type": "code",
   "execution_count": 18,
   "metadata": {},
   "outputs": [
    {
     "name": "stdout",
     "output_type": "stream",
     "text": [
      "이름 : kim 나이 : 20 신장 : 180.5\n"
     ]
    }
   ],
   "source": [
    "p4 = Person()\n",
    "p4.put()"
   ]
  },
  {
   "cell_type": "code",
   "execution_count": 19,
   "metadata": {},
   "outputs": [
    {
     "name": "stdout",
     "output_type": "stream",
     "text": [
      "이름 : kim 나이 : 20 신장 : 180.5\n"
     ]
    }
   ],
   "source": [
    "p5 = Person()\n",
    "p5.name = \"김유신\"\n",
    "p5.age = 44\n",
    "p5.height = 160.2\n",
    "p5.put()"
   ]
  },
  {
   "cell_type": "code",
   "execution_count": 23,
   "metadata": {},
   "outputs": [],
   "source": [
    "# 회원관리를 목적을 클래스 생성\n",
    "class Member:\n",
    "    def info(self):\n",
    "        print(\"아이디 : \" + self.id, end = \" \")\n",
    "        print(\"비밀번호 : \" + self.pw, end = \" \")\n",
    "        print(\"회원이름 : \" + self.name, end = \" \")\n",
    "        print(\"회원주소 : \" + self.addr)"
   ]
  },
  {
   "cell_type": "code",
   "execution_count": 24,
   "metadata": {},
   "outputs": [
    {
     "ename": "AttributeError",
     "evalue": "'Member' object has no attribute 'id'",
     "output_type": "error",
     "traceback": [
      "\u001b[1;31m---------------------------------------------------------------------------\u001b[0m",
      "\u001b[1;31mAttributeError\u001b[0m                            Traceback (most recent call last)",
      "\u001b[1;32m<ipython-input-24-d9ed4500e62a>\u001b[0m in \u001b[0;36m<module>\u001b[1;34m\u001b[0m\n\u001b[0;32m      3\u001b[0m \u001b[1;33m\u001b[0m\u001b[0m\n\u001b[0;32m      4\u001b[0m \u001b[1;31m# 인스턴스 변수를 통해 멤버 접근(. direct 연산자)\u001b[0m\u001b[1;33m\u001b[0m\u001b[1;33m\u001b[0m\u001b[1;33m\u001b[0m\u001b[0m\n\u001b[1;32m----> 5\u001b[1;33m \u001b[0mm1\u001b[0m\u001b[1;33m.\u001b[0m\u001b[0minfo\u001b[0m\u001b[1;33m(\u001b[0m\u001b[1;33m)\u001b[0m\u001b[1;33m\u001b[0m\u001b[1;33m\u001b[0m\u001b[0m\n\u001b[0m",
      "\u001b[1;32m<ipython-input-23-8b59ab2e74e4>\u001b[0m in \u001b[0;36minfo\u001b[1;34m(self)\u001b[0m\n\u001b[0;32m      2\u001b[0m \u001b[1;32mclass\u001b[0m \u001b[0mMember\u001b[0m\u001b[1;33m:\u001b[0m\u001b[1;33m\u001b[0m\u001b[1;33m\u001b[0m\u001b[0m\n\u001b[0;32m      3\u001b[0m     \u001b[1;32mdef\u001b[0m \u001b[0minfo\u001b[0m\u001b[1;33m(\u001b[0m\u001b[0mself\u001b[0m\u001b[1;33m)\u001b[0m\u001b[1;33m:\u001b[0m\u001b[1;33m\u001b[0m\u001b[1;33m\u001b[0m\u001b[0m\n\u001b[1;32m----> 4\u001b[1;33m         \u001b[0mprint\u001b[0m\u001b[1;33m(\u001b[0m\u001b[1;34m\"아이디 : \"\u001b[0m \u001b[1;33m+\u001b[0m \u001b[0mself\u001b[0m\u001b[1;33m.\u001b[0m\u001b[0mid\u001b[0m\u001b[1;33m,\u001b[0m \u001b[0mend\u001b[0m \u001b[1;33m=\u001b[0m \u001b[1;34m\" \"\u001b[0m\u001b[1;33m)\u001b[0m\u001b[1;33m\u001b[0m\u001b[1;33m\u001b[0m\u001b[0m\n\u001b[0m\u001b[0;32m      5\u001b[0m         \u001b[0mprint\u001b[0m\u001b[1;33m(\u001b[0m\u001b[1;34m\"비밀번호 : \"\u001b[0m \u001b[1;33m+\u001b[0m \u001b[0mself\u001b[0m\u001b[1;33m.\u001b[0m\u001b[0mpw\u001b[0m\u001b[1;33m,\u001b[0m \u001b[0mend\u001b[0m \u001b[1;33m=\u001b[0m \u001b[1;34m\" \"\u001b[0m\u001b[1;33m)\u001b[0m\u001b[1;33m\u001b[0m\u001b[1;33m\u001b[0m\u001b[0m\n\u001b[0;32m      6\u001b[0m         \u001b[0mprint\u001b[0m\u001b[1;33m(\u001b[0m\u001b[1;34m\"회원이름 : \"\u001b[0m \u001b[1;33m+\u001b[0m \u001b[0mself\u001b[0m\u001b[1;33m.\u001b[0m\u001b[0mname\u001b[0m\u001b[1;33m,\u001b[0m \u001b[0mend\u001b[0m \u001b[1;33m=\u001b[0m \u001b[1;34m\" \"\u001b[0m\u001b[1;33m)\u001b[0m\u001b[1;33m\u001b[0m\u001b[1;33m\u001b[0m\u001b[0m\n",
      "\u001b[1;31mAttributeError\u001b[0m: 'Member' object has no attribute 'id'"
     ]
    }
   ],
   "source": [
    "# instance 변수 생성\n",
    "m1 = Member()\n",
    "\n",
    "# 인스턴스 변수를 통해 멤버 접근(. direct 연산자)\n",
    "m1.info()"
   ]
  },
  {
   "cell_type": "code",
   "execution_count": 25,
   "metadata": {},
   "outputs": [
    {
     "name": "stdout",
     "output_type": "stream",
     "text": [
      "아이디 : kkk 비밀번호 : 1234 회원이름 : 홍두깨 회원주소 : 대전시\n"
     ]
    }
   ],
   "source": [
    "m2 = Member()\n",
    "\n",
    "m2.id = \"kkk\"\n",
    "m2.pw = \"1234\"\n",
    "m2.name = \"홍두깨\"\n",
    "m2.addr = \"대전시\"\n",
    "\n",
    "m2.info()"
   ]
  },
  {
   "cell_type": "code",
   "execution_count": 31,
   "metadata": {},
   "outputs": [],
   "source": [
    "# 회원관리를 목적을 클래스 생성\n",
    "class Member:\n",
    "    # 생성자 메서드\n",
    "    def __init__(self, userid, pw, name=\"\", addr=\"대전시\"):\n",
    "        self.userid = userid\n",
    "        self.pw = pw\n",
    "        self.name = name\n",
    "        self.addr = addr\n",
    "        \n",
    "    def info(self):\n",
    "        print(\"아이디 : \" + self.userid, end = \" \")\n",
    "        print(\"비밀번호 : \" + self.pw, end = \" \")\n",
    "        print(\"회원이름 : \" + self.name, end = \" \")\n",
    "        print(\"회원주소 : \" + self.addr)"
   ]
  },
  {
   "cell_type": "code",
   "execution_count": 27,
   "metadata": {},
   "outputs": [
    {
     "name": "stdout",
     "output_type": "stream",
     "text": [
      "아이디 : lee 비밀번호 : 1234 회원이름 : 이순신 회원주소 : 서울시\n"
     ]
    }
   ],
   "source": [
    "m3 = Member(\"lee\", \"1234\", \"이순신\", \"서울시\")\n",
    "m3.info()"
   ]
  },
  {
   "cell_type": "code",
   "execution_count": 30,
   "metadata": {},
   "outputs": [
    {
     "name": "stdout",
     "output_type": "stream",
     "text": [
      "아이디 : park 비밀번호 : 1234 회원이름 : 박둘리 회원주소 : 대전시\n"
     ]
    }
   ],
   "source": [
    "# default parameter, 함수의 매개변수의 초기값\n",
    "m4 = Member(\"park\", \"1234\", \"박둘리\")\n",
    "m4.info()"
   ]
  },
  {
   "cell_type": "code",
   "execution_count": 32,
   "metadata": {},
   "outputs": [
    {
     "name": "stdout",
     "output_type": "stream",
     "text": [
      "아이디 : kim 비밀번호 : 1234 회원이름 :  회원주소 : 대전시\n"
     ]
    }
   ],
   "source": [
    "m5 = Member(\"kim\", \"1234\")\n",
    "m5.info()"
   ]
  },
  {
   "cell_type": "markdown",
   "metadata": {},
   "source": [
    "##### 상속(Inheritance)"
   ]
  },
  {
   "cell_type": "code",
   "execution_count": 33,
   "metadata": {},
   "outputs": [],
   "source": [
    "# class 자녀클래스명(상위클래스명):\n",
    "class Person:   # 상위클래스 == 부모클래스 == 기반클래스\n",
    "    def __init__(self, name, age, height):\n",
    "        self.name = name\n",
    "        self.age = age\n",
    "        self.height = height\n",
    "        \n",
    "    def disp(self):\n",
    "        print(\"이름 : \" + self.name, end = \" \")\n",
    "        print(\"나이 : \" + str(self.age), end = \" \")\n",
    "        print(\"신장 : \" + str(self.height), end = \" \")"
   ]
  },
  {
   "cell_type": "code",
   "execution_count": 34,
   "metadata": {},
   "outputs": [],
   "source": [
    "# 하위클래스 == 자녀클래스 == 파생클래스\n",
    "class PersonInfo(Person):\n",
    "    def disp(self):\n",
    "        print(\"체중 : \" + str(self.weight), end = \" \")\n",
    "        print(\"시력(좌) : \" + str(self.left_eye), end = \" \")\n",
    "        print(\"시력(우) : \" + str(self.right_eye))"
   ]
  },
  {
   "cell_type": "code",
   "execution_count": 35,
   "metadata": {},
   "outputs": [
    {
     "name": "stdout",
     "output_type": "stream",
     "text": [
      "이름 : aaa 나이 : 34 신장 : 172.4 "
     ]
    }
   ],
   "source": [
    "p1 = Person(\"aaa\", 34, 172.4)\n",
    "p1.disp()"
   ]
  },
  {
   "cell_type": "code",
   "execution_count": 37,
   "metadata": {},
   "outputs": [
    {
     "name": "stdout",
     "output_type": "stream",
     "text": [
      "체중 : 70.5 시력(좌) : 1.5 시력(우) : 1.5\n"
     ]
    }
   ],
   "source": [
    "p2 = PersonInfo(\"bbb\", 25, 180.9)\n",
    "p2.weight = 70.5\n",
    "p2.left_eye = 1.5\n",
    "p2.right_eye = 1.5\n",
    "p2.disp()"
   ]
  },
  {
   "cell_type": "code",
   "execution_count": 39,
   "metadata": {},
   "outputs": [],
   "source": [
    "class PersonInfo(Person):\n",
    "    # 생성자 메서드\n",
    "    def __init__(self, name, age, height, weight, left_eye, right_eye):\n",
    "        #self.name = name\n",
    "        #self.age = age\n",
    "        #self.height = height\n",
    "        Person.__init__(self, name, age, height)\n",
    "        self.weight = weight\n",
    "        self.left_eye = left_eye\n",
    "        self.right_eye = right_eye\n",
    "        \n",
    "    def disp(self):\n",
    "        Person.disp(self)\n",
    "        print(\"체중 : \" + str(self.weight), end = \" \")\n",
    "        print(\"시력(좌) : \" + str(self.left_eye), end = \" \")\n",
    "        print(\"시력(우) : \" + str(self.right_eye))"
   ]
  },
  {
   "cell_type": "code",
   "execution_count": 40,
   "metadata": {},
   "outputs": [
    {
     "name": "stdout",
     "output_type": "stream",
     "text": [
      "이름 : ccc 나이 : 19 신장 : 169.2 체중 : 52.7 시력(좌) : 0.9 시력(우) : 0.9\n"
     ]
    }
   ],
   "source": [
    "p3 = PersonInfo(\"ccc\", 19, 169.2, 52.7, 0.9, 0.9)\n",
    "p3.disp()"
   ]
  },
  {
   "cell_type": "code",
   "execution_count": 41,
   "metadata": {},
   "outputs": [
    {
     "name": "stdout",
     "output_type": "stream",
     "text": [
      "3\n",
      "10\n"
     ]
    }
   ],
   "source": [
    "result = 0\n",
    "\n",
    "def add(num):\n",
    "    global result\n",
    "    result += num\n",
    "    return result\n",
    "\n",
    "print(add(3))\n",
    "print(add(7))"
   ]
  },
  {
   "cell_type": "code",
   "execution_count": 42,
   "metadata": {},
   "outputs": [
    {
     "name": "stdout",
     "output_type": "stream",
     "text": [
      "3\n",
      "7\n",
      "3\n",
      "10\n"
     ]
    }
   ],
   "source": [
    "result1 = 0\n",
    "result2 = 0\n",
    "\n",
    "def add1(num):\n",
    "    global result1\n",
    "    result1 += num\n",
    "    return result1\n",
    "\n",
    "def add2(num):\n",
    "    global result2\n",
    "    result2 += num\n",
    "    return result2\n",
    "\n",
    "print(add1(3))\n",
    "print(add1(4))\n",
    "print(add2(3))\n",
    "print(add2(7))"
   ]
  },
  {
   "cell_type": "code",
   "execution_count": 46,
   "metadata": {},
   "outputs": [],
   "source": [
    "del result"
   ]
  },
  {
   "cell_type": "code",
   "execution_count": 47,
   "metadata": {},
   "outputs": [
    {
     "ename": "NameError",
     "evalue": "name 'result' is not defined",
     "output_type": "error",
     "traceback": [
      "\u001b[1;31m---------------------------------------------------------------------------\u001b[0m",
      "\u001b[1;31mNameError\u001b[0m                                 Traceback (most recent call last)",
      "\u001b[1;32m<ipython-input-47-0ac921c19f1a>\u001b[0m in \u001b[0;36m<module>\u001b[1;34m\u001b[0m\n\u001b[1;32m----> 1\u001b[1;33m \u001b[0mresult\u001b[0m\u001b[1;33m\u001b[0m\u001b[1;33m\u001b[0m\u001b[0m\n\u001b[0m",
      "\u001b[1;31mNameError\u001b[0m: name 'result' is not defined"
     ]
    }
   ],
   "source": [
    "result"
   ]
  },
  {
   "cell_type": "code",
   "execution_count": 50,
   "metadata": {},
   "outputs": [],
   "source": [
    "class Calculator:\n",
    "    def __init__(self):\n",
    "        self.result = 0\n",
    "        \n",
    "    def add(self, num):\n",
    "        self.result += num\n",
    "        return self.result"
   ]
  },
  {
   "cell_type": "code",
   "execution_count": 51,
   "metadata": {},
   "outputs": [
    {
     "name": "stdout",
     "output_type": "stream",
     "text": [
      "3\n",
      "7\n",
      "3\n",
      "10\n"
     ]
    }
   ],
   "source": [
    "cal1 = Calculator()\n",
    "cal2 = Calculator()\n",
    "\n",
    "print(cal1.add(3))\n",
    "print(cal1.add(4))\n",
    "print(cal2.add(3))\n",
    "print(cal2.add(7))"
   ]
  },
  {
   "cell_type": "code",
   "execution_count": 52,
   "metadata": {},
   "outputs": [],
   "source": [
    "# 부모클래스\n",
    "class Member:\n",
    "    def __init__(self, userid=\"\", pwd = \"\", name = \"\", age = 0):\n",
    "        self.userid = userid\n",
    "        self.pwd = pwd\n",
    "        self.name = name\n",
    "        self.age = age\n",
    "        \n",
    "    def info(self):\n",
    "        print(\"아이디 : \" + self.userid, end = \" \")\n",
    "        print(\"비밀번호 : \" + self.pwd, end = \" \")\n",
    "        print(\"이름 : \" + self.name, end = \" \")\n",
    "        print(\"나이 : \" + str(self.age))"
   ]
  },
  {
   "cell_type": "code",
   "execution_count": 53,
   "metadata": {},
   "outputs": [],
   "source": [
    "# 파생클래스\n",
    "class MemberInfo(Member):   # 상속관계 정의\n",
    "    # 상속시 반드시 부모객체의 멤버를 초기화시켜줄 의무가 있다.\n",
    "    def __init__(self, userid, pwd, name, age, job, hobby):\n",
    "        Member.__init__(self, userid, pwd, name, age)\n",
    "        self.job = job\n",
    "        self.hobby = hobby\n",
    "        \n",
    "    def info(self):\n",
    "        Member.info(self)\n",
    "        print(\"직업 : \" + self.job, end = \" \")\n",
    "        print(\"취미 : \" + self.hobby)"
   ]
  },
  {
   "cell_type": "code",
   "execution_count": 54,
   "metadata": {},
   "outputs": [
    {
     "name": "stdout",
     "output_type": "stream",
     "text": [
      "아이디 : aaa 비밀번호 : 1234 이름 : 장보고 나이 : 33\n",
      "직업 : 개발자 취미 : 코딩\n"
     ]
    }
   ],
   "source": [
    "# 자식객체를 통해 부모멤버에 접근이 허용\n",
    "m1 = MemberInfo(\"aaa\", \"1234\", \"장보고\", 33, \"개발자\", \"코딩\")\n",
    "m1.info()"
   ]
  },
  {
   "cell_type": "code",
   "execution_count": 55,
   "metadata": {},
   "outputs": [],
   "source": [
    "class Salary:\n",
    "    def __init__(self, name, job, bonus, rate):\n",
    "        self.name = name\n",
    "        self.job = job\n",
    "        self.bonus = bonus\n",
    "        self.rate = rate\n",
    "        \n",
    "    def calc(self):\n",
    "        # 직급에 따른 기본급\n",
    "        if self.job == \"사원\":\n",
    "            self.sal = 150\n",
    "        elif self.job == \"주임\":\n",
    "            self.sal = 170\n",
    "        elif self.job == \"대리\":\n",
    "            self.sal = 190\n",
    "        elif self.job == \"과장\":\n",
    "            self.sal = 220\n",
    "        elif self.job == \"부장\":\n",
    "            self.sal = 250\n",
    "            \n",
    "        # 수령액 = 기본급 + 보너스\n",
    "        self.total = self.sal + self.bonus\n",
    "        # 세액 = 수령액 * 세율 / 100\n",
    "        self.tax = self.total * self.rate/100\n",
    "        # 실수령액 = 수령액 - 세액\n",
    "        self.pay = self.total - self.tax\n",
    "        \n",
    "    def info(self):\n",
    "        print(\"\"\"\n",
    "이  름 : {0}\n",
    "기본급 : {1}\n",
    "보너스 : {2}\n",
    "수령액 : {3}\n",
    "세  액 : {4}\n",
    "실수령액 : {5:.1f}\"\"\".format(self.name, self.sal, self.bonus, \n",
    "                         self.total, self.tax, self.pay))"
   ]
  },
  {
   "cell_type": "code",
   "execution_count": 56,
   "metadata": {},
   "outputs": [
    {
     "name": "stdout",
     "output_type": "stream",
     "text": [
      "\n",
      "이  름 : 홍길동\n",
      "기본급 : 190\n",
      "보너스 : 500\n",
      "수령액 : 690\n",
      "세  액 : 20.7\n",
      "실수령액 : 669.3\n"
     ]
    }
   ],
   "source": [
    "s1 = Salary(\"홍길동\", \"대리\", 500, 3)\n",
    "s1.calc()\n",
    "s1.info()"
   ]
  },
  {
   "cell_type": "code",
   "execution_count": 99,
   "metadata": {},
   "outputs": [],
   "source": [
    "# 클래스변수와 인스턴스변수\n",
    "class AAA:\n",
    "    # 클래스변수(공통적인 값)\n",
    "    name = \"홍길동\"\n",
    "    age = 20\n",
    "    \n",
    "    def test(self):\n",
    "        # 인스턴스변수(개별적인 값)\n",
    "        #self.message = \"안녕하세요\"\n",
    "        print(self.message)\n",
    "        \n",
    "    def setMessage(self, message):\n",
    "        self.message = message"
   ]
  },
  {
   "cell_type": "code",
   "execution_count": 100,
   "metadata": {},
   "outputs": [
    {
     "name": "stdout",
     "output_type": "stream",
     "text": [
      "안녕하세요\n"
     ]
    }
   ],
   "source": [
    "# 인스턴스 객체 생성\n",
    "ap = AAA()\n",
    "ap.test()"
   ]
  },
  {
   "cell_type": "code",
   "execution_count": 101,
   "metadata": {},
   "outputs": [
    {
     "name": "stdout",
     "output_type": "stream",
     "text": [
      "홍길동\n",
      "20\n"
     ]
    }
   ],
   "source": [
    "print(AAA.name)\n",
    "print(AAA.age)"
   ]
  },
  {
   "cell_type": "code",
   "execution_count": 102,
   "metadata": {},
   "outputs": [
    {
     "name": "stdout",
     "output_type": "stream",
     "text": [
      "안녕하세요\n"
     ]
    }
   ],
   "source": [
    "print(ap.message)"
   ]
  },
  {
   "cell_type": "code",
   "execution_count": 103,
   "metadata": {},
   "outputs": [
    {
     "ename": "AttributeError",
     "evalue": "type object 'AAA' has no attribute 'message'",
     "output_type": "error",
     "traceback": [
      "\u001b[1;31m---------------------------------------------------------------------------\u001b[0m",
      "\u001b[1;31mAttributeError\u001b[0m                            Traceback (most recent call last)",
      "\u001b[1;32m<ipython-input-103-bbd4ee4d92b9>\u001b[0m in \u001b[0;36m<module>\u001b[1;34m\u001b[0m\n\u001b[1;32m----> 1\u001b[1;33m \u001b[0mprint\u001b[0m\u001b[1;33m(\u001b[0m\u001b[0mAAA\u001b[0m\u001b[1;33m.\u001b[0m\u001b[0mmessage\u001b[0m\u001b[1;33m)\u001b[0m\u001b[1;33m\u001b[0m\u001b[1;33m\u001b[0m\u001b[0m\n\u001b[0m",
      "\u001b[1;31mAttributeError\u001b[0m: type object 'AAA' has no attribute 'message'"
     ]
    }
   ],
   "source": [
    "print(AAA.message)"
   ]
  },
  {
   "cell_type": "code",
   "execution_count": 104,
   "metadata": {},
   "outputs": [
    {
     "name": "stdout",
     "output_type": "stream",
     "text": [
      "안녕하세요\n"
     ]
    }
   ],
   "source": [
    "ap.message = \"반갑습니다.\"\n",
    "ap.test()"
   ]
  },
  {
   "cell_type": "code",
   "execution_count": 106,
   "metadata": {},
   "outputs": [
    {
     "name": "stdout",
     "output_type": "stream",
     "text": [
      "안녕하세요\n"
     ]
    }
   ],
   "source": [
    "ap.setMessage(\"반갑습니다.\")\n",
    "ap.test()"
   ]
  },
  {
   "cell_type": "code",
   "execution_count": 64,
   "metadata": {},
   "outputs": [
    {
     "name": "stdout",
     "output_type": "stream",
     "text": [
      "장보고\n"
     ]
    }
   ],
   "source": [
    "AAA.name = \"장보고\"\n",
    "print(AAA.name)"
   ]
  },
  {
   "cell_type": "code",
   "execution_count": 110,
   "metadata": {},
   "outputs": [],
   "source": [
    "# 다중상속\n",
    "class Phone:\n",
    "    def call(self):\n",
    "        print(\"통화가능\")\n",
    "        \n",
    "class Camera:\n",
    "    def call(self):\n",
    "        print(\"촬영가능\")\n",
    "        \n",
    "class SmartPhone(Phone, Camera):\n",
    "    def call(self):\n",
    "        Phone.call(self)\n",
    "        print(\"영상통화가능\")"
   ]
  },
  {
   "cell_type": "code",
   "execution_count": 108,
   "metadata": {},
   "outputs": [
    {
     "name": "stdout",
     "output_type": "stream",
     "text": [
      "통화가능\n",
      "촬영가능\n"
     ]
    }
   ],
   "source": [
    "p = Phone()\n",
    "p.call()\n",
    "\n",
    "c = Camera()\n",
    "c.call()"
   ]
  },
  {
   "cell_type": "code",
   "execution_count": 111,
   "metadata": {},
   "outputs": [
    {
     "name": "stdout",
     "output_type": "stream",
     "text": [
      "통화가능\n",
      "영상통화가능\n"
     ]
    }
   ],
   "source": [
    "s = SmartPhone()\n",
    "s.call()\n",
    "#s.picture()\n",
    "#s.pictureCall()"
   ]
  },
  {
   "cell_type": "code",
   "execution_count": 91,
   "metadata": {},
   "outputs": [],
   "source": [
    "class BBB:\n",
    "    item = \"자전거\"\n",
    "    \n",
    "    def init(self, data):\n",
    "        self.data = data\n",
    "        \n",
    "    def disp(self):\n",
    "        print(self.data)"
   ]
  },
  {
   "cell_type": "code",
   "execution_count": 79,
   "metadata": {},
   "outputs": [],
   "source": [
    "bp = BBB()\n"
   ]
  },
  {
   "cell_type": "code",
   "execution_count": 80,
   "metadata": {},
   "outputs": [
    {
     "data": {
      "text/plain": [
       "'자전거'"
      ]
     },
     "execution_count": 80,
     "metadata": {},
     "output_type": "execute_result"
    }
   ],
   "source": [
    "bp.item"
   ]
  },
  {
   "cell_type": "code",
   "execution_count": 81,
   "metadata": {},
   "outputs": [],
   "source": [
    "bp.item = \"자동차\""
   ]
  },
  {
   "cell_type": "code",
   "execution_count": 82,
   "metadata": {},
   "outputs": [
    {
     "data": {
      "text/plain": [
       "'자동차'"
      ]
     },
     "execution_count": 82,
     "metadata": {},
     "output_type": "execute_result"
    }
   ],
   "source": [
    "bp.item"
   ]
  },
  {
   "cell_type": "code",
   "execution_count": 94,
   "metadata": {},
   "outputs": [],
   "source": [
    "ap = BBB()\n",
    "bp = BBB()\n",
    "\n",
    "#ap.disp()\n",
    "#bp.disp()"
   ]
  },
  {
   "cell_type": "code",
   "execution_count": 95,
   "metadata": {},
   "outputs": [],
   "source": [
    "BBB.item = \"자동차\""
   ]
  },
  {
   "cell_type": "code",
   "execution_count": 96,
   "metadata": {},
   "outputs": [
    {
     "ename": "AttributeError",
     "evalue": "'BBB' object has no attribute 'data'",
     "output_type": "error",
     "traceback": [
      "\u001b[1;31m---------------------------------------------------------------------------\u001b[0m",
      "\u001b[1;31mAttributeError\u001b[0m                            Traceback (most recent call last)",
      "\u001b[1;32m<ipython-input-96-e6c8aec7a7d6>\u001b[0m in \u001b[0;36m<module>\u001b[1;34m\u001b[0m\n\u001b[1;32m----> 1\u001b[1;33m \u001b[0map\u001b[0m\u001b[1;33m.\u001b[0m\u001b[0mdisp\u001b[0m\u001b[1;33m(\u001b[0m\u001b[1;33m)\u001b[0m\u001b[1;33m\u001b[0m\u001b[1;33m\u001b[0m\u001b[0m\n\u001b[0m\u001b[0;32m      2\u001b[0m \u001b[0mbp\u001b[0m\u001b[1;33m.\u001b[0m\u001b[0mdisp\u001b[0m\u001b[1;33m(\u001b[0m\u001b[1;33m)\u001b[0m\u001b[1;33m\u001b[0m\u001b[1;33m\u001b[0m\u001b[0m\n",
      "\u001b[1;32m<ipython-input-91-616129144793>\u001b[0m in \u001b[0;36mdisp\u001b[1;34m(self)\u001b[0m\n\u001b[0;32m      6\u001b[0m \u001b[1;33m\u001b[0m\u001b[0m\n\u001b[0;32m      7\u001b[0m     \u001b[1;32mdef\u001b[0m \u001b[0mdisp\u001b[0m\u001b[1;33m(\u001b[0m\u001b[0mself\u001b[0m\u001b[1;33m)\u001b[0m\u001b[1;33m:\u001b[0m\u001b[1;33m\u001b[0m\u001b[1;33m\u001b[0m\u001b[0m\n\u001b[1;32m----> 8\u001b[1;33m         \u001b[0mprint\u001b[0m\u001b[1;33m(\u001b[0m\u001b[0mself\u001b[0m\u001b[1;33m.\u001b[0m\u001b[0mdata\u001b[0m\u001b[1;33m)\u001b[0m\u001b[1;33m\u001b[0m\u001b[1;33m\u001b[0m\u001b[0m\n\u001b[0m",
      "\u001b[1;31mAttributeError\u001b[0m: 'BBB' object has no attribute 'data'"
     ]
    }
   ],
   "source": [
    "#ap.disp()\n",
    "#bp.disp()"
   ]
  },
  {
   "cell_type": "code",
   "execution_count": 97,
   "metadata": {},
   "outputs": [
    {
     "name": "stdout",
     "output_type": "stream",
     "text": [
      "호랑이\n"
     ]
    }
   ],
   "source": [
    "ap.init('호랑이')\n",
    "ap.disp()"
   ]
  },
  {
   "cell_type": "code",
   "execution_count": 98,
   "metadata": {},
   "outputs": [
    {
     "ename": "AttributeError",
     "evalue": "'BBB' object has no attribute 'data'",
     "output_type": "error",
     "traceback": [
      "\u001b[1;31m---------------------------------------------------------------------------\u001b[0m",
      "\u001b[1;31mAttributeError\u001b[0m                            Traceback (most recent call last)",
      "\u001b[1;32m<ipython-input-98-8ab798a75595>\u001b[0m in \u001b[0;36m<module>\u001b[1;34m\u001b[0m\n\u001b[1;32m----> 1\u001b[1;33m \u001b[0mbp\u001b[0m\u001b[1;33m.\u001b[0m\u001b[0mdisp\u001b[0m\u001b[1;33m(\u001b[0m\u001b[1;33m)\u001b[0m\u001b[1;33m\u001b[0m\u001b[1;33m\u001b[0m\u001b[0m\n\u001b[0m",
      "\u001b[1;32m<ipython-input-91-616129144793>\u001b[0m in \u001b[0;36mdisp\u001b[1;34m(self)\u001b[0m\n\u001b[0;32m      6\u001b[0m \u001b[1;33m\u001b[0m\u001b[0m\n\u001b[0;32m      7\u001b[0m     \u001b[1;32mdef\u001b[0m \u001b[0mdisp\u001b[0m\u001b[1;33m(\u001b[0m\u001b[0mself\u001b[0m\u001b[1;33m)\u001b[0m\u001b[1;33m:\u001b[0m\u001b[1;33m\u001b[0m\u001b[1;33m\u001b[0m\u001b[0m\n\u001b[1;32m----> 8\u001b[1;33m         \u001b[0mprint\u001b[0m\u001b[1;33m(\u001b[0m\u001b[0mself\u001b[0m\u001b[1;33m.\u001b[0m\u001b[0mdata\u001b[0m\u001b[1;33m)\u001b[0m\u001b[1;33m\u001b[0m\u001b[1;33m\u001b[0m\u001b[0m\n\u001b[0m",
      "\u001b[1;31mAttributeError\u001b[0m: 'BBB' object has no attribute 'data'"
     ]
    }
   ],
   "source": [
    "bp.disp()"
   ]
  },
  {
   "cell_type": "code",
   "execution_count": null,
   "metadata": {},
   "outputs": [],
   "source": []
  }
 ],
 "metadata": {
  "kernelspec": {
   "display_name": "Python 3",
   "language": "python",
   "name": "python3"
  },
  "language_info": {
   "codemirror_mode": {
    "name": "ipython",
    "version": 3
   },
   "file_extension": ".py",
   "mimetype": "text/x-python",
   "name": "python",
   "nbconvert_exporter": "python",
   "pygments_lexer": "ipython3",
   "version": "3.7.3"
  }
 },
 "nbformat": 4,
 "nbformat_minor": 2
}
