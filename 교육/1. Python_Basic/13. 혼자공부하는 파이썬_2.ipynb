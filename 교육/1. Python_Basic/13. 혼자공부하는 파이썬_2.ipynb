{
 "cells": [
  {
   "cell_type": "code",
   "execution_count": 1,
   "metadata": {},
   "outputs": [],
   "source": [
    "# 하나의 정수를 입력받아 1부터 입력받은 정수까지의 자연수들의 합을 계산 후 반환\n",
    "def sumcount(n):  # 10 : 1 ~ 10\n",
    "    total = 0\n",
    "    \n",
    "    while n > 0:\n",
    "        total += n\n",
    "        n -= 1\n",
    "        \n",
    "    return total        "
   ]
  },
  {
   "cell_type": "code",
   "execution_count": 2,
   "metadata": {},
   "outputs": [
    {
     "data": {
      "text/plain": [
       "55"
      ]
     },
     "execution_count": 2,
     "metadata": {},
     "output_type": "execute_result"
    }
   ],
   "source": [
    "# 함수호출\n",
    "a = sumcount(10)\n",
    "a"
   ]
  },
  {
   "cell_type": "code",
   "execution_count": 3,
   "metadata": {},
   "outputs": [
    {
     "data": {
      "text/plain": [
       "5050"
      ]
     },
     "execution_count": 3,
     "metadata": {},
     "output_type": "execute_result"
    }
   ],
   "source": [
    "a = sumcount(100)\n",
    "a"
   ]
  },
  {
   "cell_type": "code",
   "execution_count": 4,
   "metadata": {},
   "outputs": [
    {
     "data": {
      "text/plain": [
       "3.1622776601683795"
      ]
     },
     "execution_count": 4,
     "metadata": {},
     "output_type": "execute_result"
    }
   ],
   "source": [
    "import math\n",
    "# 모듈명.변수 or 모듈명.함수()\n",
    "x = math.sqrt(10)\n",
    "x"
   ]
  },
  {
   "cell_type": "code",
   "execution_count": 3,
   "metadata": {},
   "outputs": [
    {
     "name": "stdout",
     "output_type": "stream",
     "text": [
      "[1.정수합  2.사이합  3.최대값  4.계산기  5.종료] = 5\n",
      "프로그램을 종료합니다.\n"
     ]
    }
   ],
   "source": [
    "# 다양한 기능을 수행하는 프로그램을 구현하시오.\n",
    "# 계산기, 사이합, 최대값, 정수합을 수행하는 프로그램을 구현하시오. \n",
    "# 단, 사용할 기능을 사용자가 선택하여 수행할 수 있도록 구현하시오.\n",
    "# 프로그램은 언제든지 종료될 수 있도록 구현하시오.\n",
    "# 각 기능은 별도의 함수로 구현하시오.\n",
    "# [입출력형식]\n",
    "# [1.정수합  2.사이합  3.최대값  4.계산기  5.종료] = \n",
    "# 정수합은 하나의 정수를 입력받아 1부터 해당 정수까지의 합\n",
    "# 사이합은 두 개의 정수를 입력받아 두 수 사이의 자연수의 합\n",
    "# 최대값은 세개의 정수를 입력받아 큰 수를 추출\n",
    "# 계산기는 두 개의 정수와 하나의 연산자를 입력받아 계산결과를 추출\n",
    "\n",
    "def intsum(a): # 정수합\n",
    "    return sum(list(range(1,a+1)))\n",
    "def sumcount(a,b): # 사이합\n",
    "    return sum(list(range(min(a,b), max(a,b)+1)))\n",
    "def maxnum(a,b,c): # 최댓값\n",
    "    return max(a,b,c)\n",
    "def calc(a,b,c): # 계산기\n",
    "    if b==\"+\": result = a+c\n",
    "    elif b==\"-\": result = a-c\n",
    "    elif b==\"*\": result = a*c\n",
    "    elif b==\"/\": result = a/c\n",
    "    return result\n",
    "        \n",
    "while True:\n",
    "    message = \"[1.정수합  2.사이합  3.최대값  4.계산기  5.종료] = \"\n",
    "    check = input(message)\n",
    "    \n",
    "    if check == \"1\": # 정수합\n",
    "        a = int(input(\"숫자 입력: \"))\n",
    "        print(\"1부터 {}까지의 합 = {}\".format(a, intsum(a)))\n",
    "    elif check == \"2\": # 사이합\n",
    "        a = int(input(\"숫자 입력: \"))\n",
    "        b = int(input(\"숫자 입력: \"))\n",
    "        print(\"{}부터 {}까지의 합 = {}\".format(min(a,b),max(a,b),sumcount(a,b)))\n",
    "    elif check == \"3\": # 최댓값\n",
    "        a = int(input(\"숫자 입력: \"))\n",
    "        b = int(input(\"숫자 입력: \"))\n",
    "        c = int(input(\"숫자 입력: \"))\n",
    "        print(\"{},{},{} 중 최댓값 = {}\".format(a,b,c,maxnum(a,b,c)))\n",
    "    elif check == \"4\": # 계산기\n",
    "        a = int(input(\"숫자 입력: \"))\n",
    "        b = input(\"연산입력[+,-,*,/]: \")\n",
    "        c = int(input(\"숫자 입력: \"))\n",
    "        \n",
    "        if b!=\"+\" and b!=\"-\" and b!=\"*\" and b!=\"/\":\n",
    "              print(\"연산이 잘못 입력되었습니다.\")\n",
    "        elif b==\"/\" and c==0:\n",
    "              print(\"0으로 나눌 수 없습니다.\")\n",
    "        else:\n",
    "            print(\"{} {} {} = {}\".format(a,b,c,calc(a,b,c)))\n",
    "    elif check == \"5\":\n",
    "        break\n",
    "        \n",
    "    else:\n",
    "        print(\"올바른 선택이 아닙니다.\")\n",
    "        \n",
    "print(\"프로그램을 종료합니다.\")"
   ]
  },
  {
   "cell_type": "code",
   "execution_count": 4,
   "metadata": {},
   "outputs": [],
   "source": [
    "def hello():\n",
    "    print(\"hello\")"
   ]
  },
  {
   "cell_type": "code",
   "execution_count": 5,
   "metadata": {},
   "outputs": [
    {
     "name": "stdout",
     "output_type": "stream",
     "text": [
      "hello\n"
     ]
    }
   ],
   "source": [
    "hello()"
   ]
  },
  {
   "cell_type": "code",
   "execution_count": 6,
   "metadata": {},
   "outputs": [
    {
     "data": {
      "text/plain": [
       "2210006041872"
      ]
     },
     "execution_count": 6,
     "metadata": {},
     "output_type": "execute_result"
    }
   ],
   "source": [
    "# id() : 객체의 주소를 반환해주는 함수\n",
    "id(hello)"
   ]
  },
  {
   "cell_type": "code",
   "execution_count": 7,
   "metadata": {},
   "outputs": [],
   "source": [
    "f = hello"
   ]
  },
  {
   "cell_type": "code",
   "execution_count": 8,
   "metadata": {},
   "outputs": [
    {
     "name": "stdout",
     "output_type": "stream",
     "text": [
      "hello\n"
     ]
    }
   ],
   "source": [
    "f()"
   ]
  },
  {
   "cell_type": "code",
   "execution_count": 9,
   "metadata": {},
   "outputs": [],
   "source": [
    "class Func:\n",
    "    def __init__(self):\n",
    "        print(\"생성됨\")\n",
    "        \n",
    "    def __call__(self):\n",
    "        print(\"호출됨\")"
   ]
  },
  {
   "cell_type": "code",
   "execution_count": 10,
   "metadata": {},
   "outputs": [
    {
     "name": "stdout",
     "output_type": "stream",
     "text": [
      "생성됨\n"
     ]
    }
   ],
   "source": [
    "f = Func()"
   ]
  },
  {
   "cell_type": "code",
   "execution_count": 11,
   "metadata": {},
   "outputs": [
    {
     "name": "stdout",
     "output_type": "stream",
     "text": [
      "호출됨\n"
     ]
    }
   ],
   "source": [
    "f()"
   ]
  },
  {
   "cell_type": "code",
   "execution_count": 12,
   "metadata": {},
   "outputs": [
    {
     "name": "stdout",
     "output_type": "stream",
     "text": [
      "(1,)\n",
      "(1, 2)\n",
      "(1, 2, 3)\n"
     ]
    }
   ],
   "source": [
    "## 가변길이 매개변수 : *args, *변수, 튜플에 저장된 후 반환\n",
    "def aaa(*args):\n",
    "    print(args)\n",
    "    \n",
    "aaa(1)\n",
    "aaa(1, 2)\n",
    "aaa(1, 2, 3)"
   ]
  },
  {
   "cell_type": "code",
   "execution_count": 13,
   "metadata": {},
   "outputs": [
    {
     "name": "stdout",
     "output_type": "stream",
     "text": [
      "{'a': 1}\n",
      "{'a': 1, 'b': 2}\n",
      "{'a': 1, 'b': 2, 'c': 3}\n"
     ]
    }
   ],
   "source": [
    "## 키워드 가변길이 매개변수, 딕셔너리 형태로 처리하는 매개변수\n",
    "# {key:value}\n",
    "def bbb(**kwargs):\n",
    "    print(kwargs)\n",
    "    \n",
    "bbb(a=1)\n",
    "bbb(a=1, b=2)\n",
    "bbb(a=1, b=2, c=3)"
   ]
  },
  {
   "cell_type": "code",
   "execution_count": 14,
   "metadata": {},
   "outputs": [
    {
     "name": "stdout",
     "output_type": "stream",
     "text": [
      "(1, 2, 3)\n",
      "{'a': 1, 'b': 2, 'c': 3}\n"
     ]
    }
   ],
   "source": [
    "def ccc(*a, **b):\n",
    "    print(a)\n",
    "    print(b)\n",
    "    \n",
    "ccc(1, 2, 3, a=1,b=2,c=3)"
   ]
  },
  {
   "cell_type": "code",
   "execution_count": 16,
   "metadata": {},
   "outputs": [
    {
     "data": {
      "text/plain": [
       "15"
      ]
     },
     "execution_count": 16,
     "metadata": {},
     "output_type": "execute_result"
    }
   ],
   "source": [
    "# lambda 함수\n",
    "def mul5(x):\n",
    "    return 5 * x\n",
    "\n",
    "a = mul5(3)\n",
    "a"
   ]
  },
  {
   "cell_type": "code",
   "execution_count": 17,
   "metadata": {},
   "outputs": [
    {
     "data": {
      "text/plain": [
       "10"
      ]
     },
     "execution_count": 17,
     "metadata": {},
     "output_type": "execute_result"
    }
   ],
   "source": [
    "# lambda 입력값 : 출력값\n",
    "mul5 = lambda x : 5 * x\n",
    "mul5(2)"
   ]
  },
  {
   "cell_type": "code",
   "execution_count": 19,
   "metadata": {},
   "outputs": [
    {
     "name": "stdout",
     "output_type": "stream",
     "text": [
      "20\n",
      "20\n"
     ]
    }
   ],
   "source": [
    "# 지역변수와 전역변수\n",
    "a = 10   # 전역변수\n",
    "\n",
    "def test():\n",
    "    global a\n",
    "    a = 20   # 지역변수\n",
    "    print(a)\n",
    "    \n",
    "test()\n",
    "print(a)"
   ]
  },
  {
   "cell_type": "code",
   "execution_count": 20,
   "metadata": {},
   "outputs": [
    {
     "name": "stdout",
     "output_type": "stream",
     "text": [
      "inner\n"
     ]
    }
   ],
   "source": [
    "# 함수 안에 함수\n",
    "def outer():\n",
    "    \n",
    "    def inner():\n",
    "        print(\"inner\")\n",
    "        \n",
    "    return inner\n",
    "\n",
    "f = outer()\n",
    "f()"
   ]
  },
  {
   "cell_type": "code",
   "execution_count": 21,
   "metadata": {},
   "outputs": [
    {
     "name": "stdout",
     "output_type": "stream",
     "text": [
      "3\n"
     ]
    }
   ],
   "source": [
    "def outer():\n",
    "    num = 3\n",
    "    def inner():\n",
    "        print(num)\n",
    "    return inner\n",
    "\n",
    "f = outer()\n",
    "f()"
   ]
  },
  {
   "cell_type": "markdown",
   "metadata": {},
   "source": [
    "#### 재귀함수\n",
    "- 자기 안에서 자신을 호출하는 함수\n",
    "10! = 10 x 9 x 8 x 7 x 6 x 5 x 4 x 3 x 2 x 1\n",
    "    = 10 x 9!\n",
    "    = 10 x 9 x 8!\n",
    "    \n",
    "n! = n x (n-1)!"
   ]
  },
  {
   "cell_type": "code",
   "execution_count": 23,
   "metadata": {},
   "outputs": [
    {
     "name": "stdout",
     "output_type": "stream",
     "text": [
      "6\n",
      "120\n"
     ]
    }
   ],
   "source": [
    "def fact1(x):   # 5\n",
    "    out = 1\n",
    "    \n",
    "    while x > 0: # x = 5, 4, 3, 2, 1, 0\n",
    "        out *= x   # out = out * x\n",
    "        x -= 1     # x = x - 1\n",
    "        \n",
    "    return out    \n",
    "\n",
    "print(fact1(3))  # 3 x 2 x 1\n",
    "print(fact1(5))  # 5 x 4 x 3 x 2 x 1"
   ]
  },
  {
   "cell_type": "code",
   "execution_count": 24,
   "metadata": {},
   "outputs": [
    {
     "data": {
      "text/plain": [
       "6"
      ]
     },
     "execution_count": 24,
     "metadata": {},
     "output_type": "execute_result"
    }
   ],
   "source": [
    "def fact2(x):\n",
    "    if x == 0:\n",
    "        return 1\n",
    "    else:\n",
    "        return x * fact2(x-1)  # 3 x 2!\n",
    "    \n",
    "fact2(3)"
   ]
  },
  {
   "cell_type": "code",
   "execution_count": null,
   "metadata": {},
   "outputs": [],
   "source": [
    "# 1부터 10까지의 합을 계산하는 프로그램을 구현하시오.\n",
    "# 단, 재귀함수를 이용하시오.\n",
    "# 10 + 9 + 8 + 7 ....."
   ]
  },
  {
   "cell_type": "code",
   "execution_count": 31,
   "metadata": {},
   "outputs": [
    {
     "name": "stdout",
     "output_type": "stream",
     "text": [
      "r\n",
      "r a\n",
      "a\n",
      "ore\n",
      "ko\n",
      "ea\n",
      "korea\n"
     ]
    }
   ],
   "source": [
    "a = \"korea\"  # ['k', 'o', 'r', 'e', 'a']\n",
    "print(a[2])\n",
    "print(a[2], a[4])\n",
    "print(a[-1])\n",
    "# [start:end], end-1번째값\n",
    "print(a[1:4])\n",
    "print(a[:2])\n",
    "print(a[3:])\n",
    "print(a[:])"
   ]
  },
  {
   "cell_type": "code",
   "execution_count": 33,
   "metadata": {},
   "outputs": [
    {
     "name": "stdout",
     "output_type": "stream",
     "text": [
      "teamlab\n",
      "teamteamteam\n"
     ]
    }
   ],
   "source": [
    "# 문자열연산 : +, *\n",
    "a = \"team\"\n",
    "b = \"lab\"\n",
    "print(a+b)\n",
    "print(a*3)"
   ]
  },
  {
   "cell_type": "code",
   "execution_count": 34,
   "metadata": {},
   "outputs": [],
   "source": [
    "# 단어카운팅 문제\n",
    "# 'Yesterday'라는 단어가 몇 번 나오는지 추출하는 프로그램\n",
    "# 단, 파일을 통해 처리하시오.\n",
    "# mode : r, w, a\n",
    "f = open(\"D:/python3/study/yesterday.txt\", \"r\")\n",
    "\n",
    "# readlines()-문장전체를 읽어오는 함수\n",
    "# readline() - 줄단위로 읽어오는 함수\n",
    "contents = f.readlines()\n",
    "\n",
    "# upper():대문자, lower():소문자\n",
    "# count(문자열) : 문자열의 빈도수\n",
    "\n",
    "f.close()"
   ]
  },
  {
   "cell_type": "code",
   "execution_count": 35,
   "metadata": {},
   "outputs": [
    {
     "name": "stdout",
     "output_type": "stream",
     "text": [
      "yesterday의 단어출현 수  9\n"
     ]
    }
   ],
   "source": [
    "text = \"\"\n",
    "for line in contents:\n",
    "    text += line.strip() + \"\\n\"\n",
    "    \n",
    "cnt = text.upper().count(\"YESTERDAY\")\n",
    "print(\"yesterday의 단어출현 수 \", cnt)"
   ]
  },
  {
   "cell_type": "code",
   "execution_count": 36,
   "metadata": {},
   "outputs": [
    {
     "data": {
      "text/plain": [
       "(1, 2, 3, 4, 5)"
      ]
     },
     "execution_count": 36,
     "metadata": {},
     "output_type": "execute_result"
    }
   ],
   "source": [
    "a = 1, 2, 3, 4, 5\n",
    "a"
   ]
  },
  {
   "cell_type": "code",
   "execution_count": 37,
   "metadata": {},
   "outputs": [
    {
     "name": "stdout",
     "output_type": "stream",
     "text": [
      "20 10\n"
     ]
    }
   ],
   "source": [
    "a = 10\n",
    "b = 20\n",
    "a, b = b, a\n",
    "print(a, b)"
   ]
  },
  {
   "cell_type": "code",
   "execution_count": 38,
   "metadata": {},
   "outputs": [
    {
     "name": "stdout",
     "output_type": "stream",
     "text": [
      "10 20\n"
     ]
    }
   ],
   "source": [
    "def aaa():\n",
    "    return (10, 20)\n",
    "\n",
    "a, b = aaa()\n",
    "print(a, b)"
   ]
  },
  {
   "cell_type": "code",
   "execution_count": 41,
   "metadata": {},
   "outputs": [
    {
     "name": "stdout",
     "output_type": "stream",
     "text": [
      "0 1\n",
      "1 2\n",
      "2 3\n",
      "3 4\n",
      "4 5\n"
     ]
    }
   ],
   "source": [
    "a = [1, 2, 3, 4, 5]\n",
    "index = -1\n",
    "for i in a:\n",
    "    print(index+i, i)"
   ]
  },
  {
   "cell_type": "code",
   "execution_count": 42,
   "metadata": {},
   "outputs": [
    {
     "name": "stdout",
     "output_type": "stream",
     "text": [
      "0번째 요소는 1입니다.\n",
      "1번째 요소는 2입니다.\n",
      "2번째 요소는 3입니다.\n",
      "3번째 요소는 4입니다.\n",
      "4번째 요소는 5입니다.\n"
     ]
    }
   ],
   "source": [
    "for i, value in enumerate([1, 2, 3, 4, 5]):\n",
    "    print(\"{}번째 요소는 {}입니다.\".format(i, value))"
   ]
  },
  {
   "cell_type": "code",
   "execution_count": 65,
   "metadata": {},
   "outputs": [],
   "source": [
    "# 최대속도는 200을 초과할 수 없다.\n",
    "# 브레이크패달을 밟을 때 -10의 속도가 준다.\n",
    "# 악셀패달을 밟을 때 +10의 속도가 증가한다.\n",
    "# 연료는 악셀패달을 밟을 때 소모되며 소모값은 5이다.\n",
    "\n",
    "class Car:  # 객체(Object)를 표현할 목적으로 구현하는 틀\n",
    "    # 멤버필드 : 속성이나 특성\n",
    "#     self.name = \"\"\n",
    "#     self.speed = 0\n",
    "#     self.fuel = 100\n",
    "    count = 0   # 클래스 변수, 클래스명으로 접근하는 변수\n",
    "\n",
    "    # 생성자메서드 : 객체가 생성될 때 자동으로 호출, 멤버필드를 초기화\n",
    "    def __init__(self, name, speed, fuel):\n",
    "        # self.* : 인스턴스 변수\n",
    "        self.name = name\n",
    "        self.speed = speed\n",
    "        self.fuel = fuel\n",
    "        Car.count += 1\n",
    "        \n",
    "    # 멤버메서드 : 행위나 동작\n",
    "    def carBreak(self): # 브레이크 패달을 밟는 행위를 제어하는 함수\n",
    "        if self.speed < 10:\n",
    "            self.speed = 0\n",
    "            #return\n",
    "        else:\n",
    "            self.speed -= 10    \n",
    "    def carExcel(self): # 악셀 패달을 밟는 행위를 제어하는 함수\n",
    "        if self.fuel < 5:\n",
    "            print(\"연료가 부족합니다.\")\n",
    "        else:\n",
    "            self.fuel -= 5\n",
    "            if self.speed >= 200:\n",
    "                self.speed = 200\n",
    "            else:\n",
    "                self.speed += 10\n",
    "    \n",
    "    def carState(self): # 자동차의 상태를 표시하는 행위를 제어하는 함수\n",
    "        print(\"사용자 : \", self.name)\n",
    "        print(\"현재속도 : \", self.speed)\n",
    "        print(\"연료량 : \", self.fuel)"
   ]
  },
  {
   "cell_type": "code",
   "execution_count": 66,
   "metadata": {},
   "outputs": [
    {
     "name": "stdout",
     "output_type": "stream",
     "text": [
      "사용자 :  aaa\n",
      "현재속도 :  0\n",
      "연료량 :  50\n",
      "사용자 :  aaa\n",
      "현재속도 :  0\n",
      "연료량 :  50\n",
      "사용자 :  aaa\n",
      "현재속도 :  10\n",
      "연료량 :  45\n"
     ]
    }
   ],
   "source": [
    "aaa = Car(\"aaa\", 0, 50)\n",
    "# aaa.name = \"aaa\"\n",
    "# aaa.speed = 0\n",
    "# aaa.fuel = 50\n",
    "aaa.carState()\n",
    "\n",
    "aaa.carBreak()\n",
    "aaa.carState()\n",
    "\n",
    "aaa.carExcel()\n",
    "aaa.carState()"
   ]
  },
  {
   "cell_type": "code",
   "execution_count": 67,
   "metadata": {},
   "outputs": [
    {
     "name": "stdout",
     "output_type": "stream",
     "text": [
      "사용자 :  bbb\n",
      "현재속도 :  180\n",
      "연료량 :  20\n",
      "사용자 :  bbb\n",
      "현재속도 :  170\n",
      "연료량 :  20\n",
      "사용자 :  bbb\n",
      "현재속도 :  180\n",
      "연료량 :  15\n",
      "사용자 :  bbb\n",
      "현재속도 :  190\n",
      "연료량 :  10\n",
      "사용자 :  bbb\n",
      "현재속도 :  200\n",
      "연료량 :  5\n",
      "사용자 :  bbb\n",
      "현재속도 :  200\n",
      "연료량 :  0\n"
     ]
    }
   ],
   "source": [
    "bbb = Car(\"bbb\", 180, 20)\n",
    "# bbb.name = \"bbb\"\n",
    "# bbb.speed = 180\n",
    "# bbb.fuel = 20\n",
    "bbb.carState()\n",
    "\n",
    "bbb.carBreak()\n",
    "bbb.carState()\n",
    "\n",
    "bbb.carExcel()\n",
    "bbb.carState()\n",
    "bbb.carExcel()\n",
    "bbb.carState()\n",
    "bbb.carExcel()\n",
    "bbb.carState()\n",
    "bbb.carExcel()\n",
    "bbb.carState()"
   ]
  },
  {
   "cell_type": "code",
   "execution_count": 64,
   "metadata": {},
   "outputs": [
    {
     "name": "stdout",
     "output_type": "stream",
     "text": [
      "사용자 :  aaa\n",
      "현재속도 :  10\n",
      "연료량 :  45\n",
      "사용자 :  bbb\n",
      "현재속도 :  200\n",
      "연료량 :  0\n"
     ]
    }
   ],
   "source": [
    "aaa.carState()\n",
    "bbb.carState()"
   ]
  },
  {
   "cell_type": "code",
   "execution_count": null,
   "metadata": {},
   "outputs": [],
   "source": [
    "# 접근제한자 : public, protected, private\n",
    "# 파이썬은 모든 멤버가 public이다"
   ]
  },
  {
   "cell_type": "code",
   "execution_count": 71,
   "metadata": {},
   "outputs": [],
   "source": [
    "# 상속(Inheritance) : 부모클래스의 멤버를 자녀클래스가 물려받는것\n",
    "# 평면위의 한 점을 나타내는 객체를 디자인한 클래스\n",
    "class Point:\n",
    "    \n",
    "    def __init__(self):\n",
    "        self.xpos = int(input(\"x = \"))\n",
    "        self.ypos = int(input(\"y = \"))\n",
    "        \n",
    "    def disp(self):\n",
    "        print(\"점(x, y)=({}, {})\".format(self.xpos, self.ypos))\n",
    "        \n",
    "# 원이라는 객체를 디자인한 클래스\n",
    "class Circle(Point):\n",
    "    \n",
    "    def __init__(self):\n",
    "        # 상속받은 자녀클래스는 반드시 부모클래스의 멤버를 초기화\n",
    "        Point.__init__(self)\n",
    "        #self.xpos = int(input(\"x = \"))\n",
    "        #self.ypos = int(input(\"y = \"))\n",
    "        self.r = int(input(\"r = \")) \n",
    "   \n",
    "    def getArea(self):\n",
    "        return self.r * self.r * 3.14\n",
    "    \n",
    "    def disp(self):  # 오버라이딩(재정의)\n",
    "        Point.disp(self)\n",
    "        #print(\"점(x, y)=({}, {})\".format(self.xpos, self.ypos))\n",
    "        print(\"반지름(r) = {}\".format(self.r))"
   ]
  },
  {
   "cell_type": "code",
   "execution_count": 72,
   "metadata": {},
   "outputs": [
    {
     "name": "stdout",
     "output_type": "stream",
     "text": [
      "x = 3\n",
      "y = 3\n",
      "점(x, y)=(3, 3)\n"
     ]
    }
   ],
   "source": [
    "ap = Point()\n",
    "ap.disp()"
   ]
  },
  {
   "cell_type": "code",
   "execution_count": 73,
   "metadata": {},
   "outputs": [
    {
     "name": "stdout",
     "output_type": "stream",
     "text": [
      "x = 5\n",
      "y = 5\n",
      "r = 7\n",
      "점(x, y)=(5, 5)\n",
      "반지름(r) = 7\n"
     ]
    }
   ],
   "source": [
    "cp = Circle()\n",
    "cp.disp()"
   ]
  },
  {
   "cell_type": "code",
   "execution_count": null,
   "metadata": {},
   "outputs": [],
   "source": [
    "# 사각형이라는 객체를 클래스로 구현하시오.\n",
    "# 멤버필드는 좌표값(x, y)과 너비와 높이(width, height)를 갖도록 구현\n",
    "# 생성자 메서드와 출력을 나타내는 disp메서드를 구현하시오."
   ]
  },
  {
   "cell_type": "code",
   "execution_count": 81,
   "metadata": {},
   "outputs": [],
   "source": [
    "class Person:\n",
    "    def __init__(self, name, age, address, wallet):\n",
    "        self.greet = \"안녕하세요\"\n",
    "        self.name = name\n",
    "        self.age = age\n",
    "        self.address = address\n",
    "        self.__wallet = wallet  # private 속성\n",
    "        \n",
    "    def pay(self, money):\n",
    "        self.__wallet -= money\n",
    "        print(\"잔액이 {} 입니다.\".format(self.__wallet))"
   ]
  },
  {
   "cell_type": "code",
   "execution_count": 82,
   "metadata": {},
   "outputs": [
    {
     "data": {
      "text/plain": [
       "'마리아'"
      ]
     },
     "execution_count": 82,
     "metadata": {},
     "output_type": "execute_result"
    }
   ],
   "source": [
    "maria = Person('마리아', 11, '대전광역시 서구 둔산동', 10000)\n",
    "maria.name"
   ]
  },
  {
   "cell_type": "code",
   "execution_count": 83,
   "metadata": {},
   "outputs": [
    {
     "name": "stdout",
     "output_type": "stream",
     "text": [
      "잔액이 9000 입니다.\n"
     ]
    }
   ],
   "source": [
    "# maria.__wallet -= 1000\n",
    "# maria.__wallet\n",
    "maria.pay(1000)"
   ]
  },
  {
   "cell_type": "code",
   "execution_count": 4,
   "metadata": {},
   "outputs": [],
   "source": [
    "# 은행계좌관리 프로그램을 구현하시오.\n",
    "# 처리기능 : 고객등록, 입금처리, 출금처리, 잔액조회, 작업종료\n",
    "# 고객등록은 고객이름, 계좌번호, 예금금액을 입력받아 처리한다.\n",
    "# 입금처리는 계좌번호가 일치할 때 해당 고객의 금액에 입금금액 누적\n",
    "# 출금처리는 계좌번호가 일치할 때 해당 고객의 금액에 출금금액 차감\n",
    "# 잔액조회는 해당고객의 현재 잔액을 확인 or 전체 거래고객 잔액 확인\n",
    "# 사용자가 원하는 작업을 선택할 수 있도록 구현한다.\n",
    "# 2명 이상의 고객에 대한 정보를 처리할 수 있도록 구현할 것\n",
    "# 주어진 클래스를 기반으로 구현할 것.\n",
    "\n",
    "class Account:\n",
    "    \n",
    "    def __init__(self, name, num, money):\n",
    "        self.name = name\n",
    "        self.num = num\n",
    "        self.money = money\n",
    "        \n",
    "    def inMoney(self, money):\n",
    "        # 계좌번호의 일치여부\n",
    "        self.money += money\n",
    "        \n",
    "    def outMoney(self, money):\n",
    "        if self.money < money:\n",
    "            return 0\n",
    "        else:\n",
    "            self.money -= money\n",
    "            return money\n",
    "        \n",
    "    def disp(self):\n",
    "        print(self.name + \" : \" + self.num + \" : \" + str(self.money))"
   ]
  },
  {
   "cell_type": "code",
   "execution_count": 5,
   "metadata": {},
   "outputs": [],
   "source": [
    "# 함수선언과 정의\n",
    "def mainMenu():\n",
    "    print(\"[1.계좌개설]\")\n",
    "    print(\"[2.입금처리]\")\n",
    "    print(\"[3.출금처리]\")\n",
    "    print(\"[4.계좌잔액]\")\n",
    "    print(\"[5.작업종료]\")\n",
    "    print(\"============\")\n",
    "    menu = int(input(\"메뉴 = \"))\n",
    "    return menu\n",
    "\n",
    "def makeAccount():\n",
    "    print(\"== 계좌개설 ==\")\n",
    "    name = input(\"고객이름 = \")\n",
    "    num = input(\"계좌번호 = \")\n",
    "    money = int(input(\"예금금액 = \"))    \n",
    "    bankList.append(Account(name, num, money))\n",
    "    print(\"계좌개설이 완료되었습니다.\")\n",
    "    \n",
    "def inAccount():\n",
    "    print(\"== 입금처리 ==\")\n",
    "    num = input(\"계좌번호 = \")\n",
    "    \n",
    "    for i in bankList:\n",
    "        if i.num == num:\n",
    "            money = int(input(\"입금금액 = \"))\n",
    "            i.inMoney(money)\n",
    "            print(\"입금처리가 완료되었습니다.\")\n",
    "            return\n",
    "        \n",
    "    print(\"입력한 계좌번호가 존재하지 않습니다.\")    \n",
    "\n",
    "def outAccount():\n",
    "    print(\"== 출금처리 ==\")\n",
    "    num = input(\"계좌번호 = \")\n",
    "    \n",
    "    for i in bankList:\n",
    "        if i.num == num:\n",
    "            money = int(input(\"출금금액 = \"))\n",
    "            if i.outMoney(money) == 0:\n",
    "                print(\"잔액이 부족합니다.\")\n",
    "                return\n",
    "            else:\n",
    "                print(\"출금처리가 완료되었습니다.\")\n",
    "                return\n",
    "        \n",
    "    print(\"입력한 계좌번호가 존재하지 않습니다.\")    \n",
    "    \n",
    "def showAccount():\n",
    "    print(\"== 전체고객 잔액조회 ==\")\n",
    "    for i in bankList:\n",
    "        i.disp()"
   ]
  },
  {
   "cell_type": "code",
   "execution_count": 6,
   "metadata": {},
   "outputs": [
    {
     "name": "stdout",
     "output_type": "stream",
     "text": [
      "==== 은행계좌관리 프로그램 ====\n",
      "[1.계좌개설]\n",
      "[2.입금처리]\n",
      "[3.출금처리]\n",
      "[4.계좌잔액]\n",
      "[5.작업종료]\n",
      "============\n",
      "메뉴 = 1\n",
      "== 계좌개설 ==\n",
      "고객이름 = aaa\n",
      "계좌번호 = 111\n",
      "예금금액 = 10000\n",
      "계좌개설이 완료되었습니다.\n",
      "[1.계좌개설]\n",
      "[2.입금처리]\n",
      "[3.출금처리]\n",
      "[4.계좌잔액]\n",
      "[5.작업종료]\n",
      "============\n",
      "메뉴 = 4\n",
      "== 전체고객 잔액조회 ==\n",
      "aaa : 111 : 10000\n",
      "[1.계좌개설]\n",
      "[2.입금처리]\n",
      "[3.출금처리]\n",
      "[4.계좌잔액]\n",
      "[5.작업종료]\n",
      "============\n",
      "메뉴 = 3\n",
      "== 출금처리 ==\n",
      "계좌번호 = 111\n",
      "출금금액 = 50000\n",
      "잔액이 부족합니다.\n",
      "[1.계좌개설]\n",
      "[2.입금처리]\n",
      "[3.출금처리]\n",
      "[4.계좌잔액]\n",
      "[5.작업종료]\n",
      "============\n",
      "메뉴 = 3\n",
      "== 출금처리 ==\n",
      "계좌번호 = 111\n",
      "출금금액 = 3000\n",
      "출금처리가 완료되었습니다.\n",
      "[1.계좌개설]\n",
      "[2.입금처리]\n",
      "[3.출금처리]\n",
      "[4.계좌잔액]\n",
      "[5.작업종료]\n",
      "============\n",
      "메뉴 = 4\n",
      "== 전체고객 잔액조회 ==\n",
      "aaa : 111 : 7000\n",
      "[1.계좌개설]\n",
      "[2.입금처리]\n",
      "[3.출금처리]\n",
      "[4.계좌잔액]\n",
      "[5.작업종료]\n",
      "============\n",
      "메뉴 = 5\n",
      "프로그램을 종료합니다.\n"
     ]
    }
   ],
   "source": [
    "#import bank\n",
    "\n",
    "# 자료구조를 선언\n",
    "bankList = []\n",
    "\n",
    "print(\"==== 은행계좌관리 프로그램 ====\")\n",
    "\n",
    "while True:\n",
    "    # 메뉴출력\n",
    "    menu = mainMenu()\n",
    "    \n",
    "    if menu == 1:\n",
    "        makeAccount()\n",
    "    elif menu == 2:\n",
    "        inAccount()\n",
    "    elif menu == 3:\n",
    "        outAccount()\n",
    "    elif menu == 4:\n",
    "        showAccount()\n",
    "    elif menu == 5:\n",
    "        break\n",
    "    else:\n",
    "        print(\"메뉴의 선택이 올바르지 않습니다.\")\n",
    "\n",
    "print(\"프로그램을 종료합니다.\")"
   ]
  },
  {
   "cell_type": "code",
   "execution_count": 23,
   "metadata": {},
   "outputs": [],
   "source": [
    "class AAA:\n",
    "    \n",
    "    def __init__(self):\n",
    "        self.a = 0\n",
    "        self.__b = 0\n",
    "        \n",
    "    def getB(self):\n",
    "        return self.__b\n",
    "    \n",
    "    def setB(self, b):\n",
    "        self.__b = b"
   ]
  },
  {
   "cell_type": "code",
   "execution_count": 24,
   "metadata": {},
   "outputs": [
    {
     "name": "stdout",
     "output_type": "stream",
     "text": [
      "0\n",
      "10\n"
     ]
    }
   ],
   "source": [
    "ap = AAA()\n",
    "print(ap.a)\n",
    "ap.a = 10\n",
    "print(ap.a)"
   ]
  },
  {
   "cell_type": "code",
   "execution_count": 25,
   "metadata": {},
   "outputs": [
    {
     "data": {
      "text/plain": [
       "0"
      ]
     },
     "execution_count": 25,
     "metadata": {},
     "output_type": "execute_result"
    }
   ],
   "source": [
    "ap.getB()"
   ]
  },
  {
   "cell_type": "code",
   "execution_count": 26,
   "metadata": {},
   "outputs": [],
   "source": [
    "ap.setB(100)"
   ]
  },
  {
   "cell_type": "code",
   "execution_count": 27,
   "metadata": {},
   "outputs": [
    {
     "data": {
      "text/plain": [
       "100"
      ]
     },
     "execution_count": 27,
     "metadata": {},
     "output_type": "execute_result"
    }
   ],
   "source": [
    "ap.getB()"
   ]
  },
  {
   "cell_type": "code",
   "execution_count": 29,
   "metadata": {},
   "outputs": [
    {
     "name": "stdout",
     "output_type": "stream",
     "text": [
      "안녕하세요\n"
     ]
    },
    {
     "data": {
      "text/plain": [
       "True"
      ]
     },
     "execution_count": 29,
     "metadata": {},
     "output_type": "execute_result"
    }
   ],
   "source": [
    "class Person:\n",
    "    def greeting(self):\n",
    "        print(\"안녕하세요\")\n",
    "        \n",
    "    def hello(self):\n",
    "        #self.메서드()\n",
    "        self.greeting()\n",
    "        \n",
    "kkk = Person()\n",
    "kkk.hello()\n",
    "\n",
    "# is~ : ~입니까?  True or False\n",
    "# isinstance(인스턴스, 클래스)\n",
    "isinstance(kkk, Person)"
   ]
  },
  {
   "cell_type": "code",
   "execution_count": 43,
   "metadata": {},
   "outputs": [],
   "source": [
    "def factorial(n):\n",
    "    # n이 정수가 아니거나 음수이면 함수를 끝낸다\n",
    "    if not isinstance(n, int) or n < 0:\n",
    "        return None\n",
    "    \n",
    "    if n == 1:\n",
    "        return 1\n",
    "    else:\n",
    "        return n * factorial(n-1)"
   ]
  },
  {
   "cell_type": "code",
   "execution_count": 44,
   "metadata": {},
   "outputs": [
    {
     "name": "stdout",
     "output_type": "stream",
     "text": [
      "['책', '열쇠']\n"
     ]
    }
   ],
   "source": [
    "# 클래스 변수와 정적(static), 클래스 메서드\n",
    "class Person:\n",
    "    # class 변수 : 공통으로 갖는값\n",
    "    bag = []\n",
    "    \n",
    "    def put_bag(self, stuff):\n",
    "        Person.bag.append(stuff)\n",
    "        \n",
    "aaa = Person()\n",
    "aaa.put_bag('책')\n",
    "\n",
    "bbb = Person()\n",
    "bbb.put_bag('열쇠')\n",
    "\n",
    "print(Person.bag)\n"
   ]
  },
  {
   "cell_type": "code",
   "execution_count": 40,
   "metadata": {},
   "outputs": [],
   "source": [
    "class JBank:\n",
    "    rate = 0  # 클래스변수, 클래스명으로 접근하는 변수\n",
    "    \n",
    "    def __init__(self, name, money, rate):\n",
    "        self.name = name\n",
    "        self.money = money\n",
    "        JBank.rate = rate\n",
    "        \n",
    "    def disp(self):\n",
    "        print(self.name, self.money, JBank.rate)"
   ]
  },
  {
   "cell_type": "code",
   "execution_count": 41,
   "metadata": {},
   "outputs": [
    {
     "name": "stdout",
     "output_type": "stream",
     "text": [
      "aaa 10000 7\n",
      "-----------------------\n",
      "aaa 10000 3\n",
      "bbb 10000 3\n",
      "-----------------------\n",
      "aaa 10000 5\n",
      "bbb 10000 5\n",
      "ccc 10000 5\n"
     ]
    }
   ],
   "source": [
    "# 초기에 은행 7\n",
    "aaa = JBank('aaa', 10000, 7)\n",
    "aaa.disp()\n",
    "print(\"-----------------------\")\n",
    "# 중기에\n",
    "bbb = JBank('bbb', 10000, 3)\n",
    "aaa.disp()\n",
    "bbb.disp()\n",
    "print(\"-----------------------\")\n",
    "# 후기에\n",
    "ccc = JBank('ccc', 10000, 5)\n",
    "aaa.disp()\n",
    "bbb.disp()\n",
    "ccc.disp()"
   ]
  },
  {
   "cell_type": "code",
   "execution_count": 45,
   "metadata": {},
   "outputs": [
    {
     "name": "stdout",
     "output_type": "stream",
     "text": [
      "['책']\n",
      "['열쇠']\n"
     ]
    }
   ],
   "source": [
    "class Person:\n",
    "    \n",
    "    def __init__(self):\n",
    "        self.bag = []\n",
    "        \n",
    "    def put_bag(self, stuff):\n",
    "        self.bag.append(stuff)\n",
    "        \n",
    "aaa = Person()\n",
    "aaa.put_bag('책')\n",
    "\n",
    "bbb = Person()\n",
    "bbb.put_bag('열쇠')\n",
    "\n",
    "print(aaa.bag)\n",
    "print(bbb.bag)"
   ]
  },
  {
   "cell_type": "code",
   "execution_count": 49,
   "metadata": {},
   "outputs": [
    {
     "name": "stdout",
     "output_type": "stream",
     "text": [
      "2830528530704\n",
      "2830528530576\n"
     ]
    }
   ],
   "source": [
    "a = 257\n",
    "b = 257\n",
    "\n",
    "print(id(a))\n",
    "print(id(b))"
   ]
  },
  {
   "cell_type": "code",
   "execution_count": 60,
   "metadata": {},
   "outputs": [
    {
     "name": "stdout",
     "output_type": "stream",
     "text": [
      "30\n",
      "14\n"
     ]
    }
   ],
   "source": [
    "class Calc:\n",
    "    \n",
    "    def add(self, a, b):\n",
    "        print(a+b)\n",
    "        \n",
    "    def mul(self, a, b):\n",
    "        print(a*b)\n",
    "        \n",
    "a = Calc()\n",
    "a.add(10, 20)\n",
    "a.mul(2, 7)"
   ]
  },
  {
   "cell_type": "code",
   "execution_count": 62,
   "metadata": {},
   "outputs": [
    {
     "name": "stdout",
     "output_type": "stream",
     "text": [
      "30\n"
     ]
    }
   ],
   "source": [
    "# 정적메서드\n",
    "class Calc:\n",
    "    \n",
    "    @staticmethod    \n",
    "    def add(a, b):\n",
    "        print(a+b)\n",
    "      \n",
    "    @staticmethod\n",
    "    def mul(a, b):\n",
    "        print(a*b)\n",
    "        \n",
    "# a = Calc()\n",
    "# a.add(10, 20)\n",
    "Calc.add(10, 20)"
   ]
  },
  {
   "cell_type": "code",
   "execution_count": null,
   "metadata": {},
   "outputs": [],
   "source": []
  }
 ],
 "metadata": {
  "kernelspec": {
   "display_name": "Python 3",
   "language": "python",
   "name": "python3"
  },
  "language_info": {
   "codemirror_mode": {
    "name": "ipython",
    "version": 3
   },
   "file_extension": ".py",
   "mimetype": "text/x-python",
   "name": "python",
   "nbconvert_exporter": "python",
   "pygments_lexer": "ipython3",
   "version": "3.7.3"
  }
 },
 "nbformat": 4,
 "nbformat_minor": 2
}
