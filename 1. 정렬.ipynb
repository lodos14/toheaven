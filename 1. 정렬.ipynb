{
 "cells": [
  {
   "cell_type": "markdown",
   "metadata": {},
   "source": [
    "### 0. 정렬\n",
    "- 어떤 데이터가 주어졌을 때 이를 순서대로 나열하는것\n",
    "- 정렬은 프로그램 작성시 빈번하게 사용함\n",
    "- 다양한 알고리즘이 고민되었으며, 알고리즘 학습에 필수"
   ]
  },
  {
   "cell_type": "markdown",
   "metadata": {},
   "source": [
    "### 3. 선택정렬 "
   ]
  },
  {
   "cell_type": "code",
   "execution_count": 63,
   "metadata": {},
   "outputs": [],
   "source": [
    "def selection_sort(data):\n",
    "    for i in range(len(data)):\n",
    "        min_index = i # 선택된 위치가 가장 작은 값으로 기준\n",
    "        \n",
    "        # 선택되지 않은 남은 데이터를 비교하는 작어\n",
    "        for j in range(i+1, len(data)):\n",
    "            if data[min_index]>data[j]:\n",
    "                min_index = j\n",
    "                # swap - 자리바꿈\n",
    "        data[i], data[min_index] = data[min_index], data[i]\n",
    "        \n",
    "    return data"
   ]
  },
  {
   "cell_type": "code",
   "execution_count": 64,
   "metadata": {},
   "outputs": [
    {
     "data": {
      "text/plain": [
       "[71, 0, 50, 95, 77, 2, 65, 63, 41, 40]"
      ]
     },
     "execution_count": 64,
     "metadata": {},
     "output_type": "execute_result"
    }
   ],
   "source": [
    "# 데이터 준비\n",
    "import random\n",
    "data_list = random.sample(range(100),10)\n",
    "data_list"
   ]
  },
  {
   "cell_type": "code",
   "execution_count": 65,
   "metadata": {},
   "outputs": [
    {
     "data": {
      "text/plain": [
       "[0, 2, 40, 41, 50, 63, 65, 71, 77, 95]"
      ]
     },
     "execution_count": 65,
     "metadata": {},
     "output_type": "execute_result"
    }
   ],
   "source": [
    "selection_sort(data_list)"
   ]
  },
  {
   "cell_type": "code",
   "execution_count": 41,
   "metadata": {},
   "outputs": [],
   "source": [
    "def selection_sort(data):\n",
    "    # 선택된 데이터\n",
    "    for index in range(len(data)-1):    # index (기준잡기)\n",
    "        # print(index)\n",
    "        lower = index\n",
    "    \n",
    "    \n",
    "    \n",
    "    # 선택된 데이터를 제외한 나머지 비교대상이 데이터\n",
    "        for index2 in range(index,len(data)):\n",
    "            if data[lower] > data[index2]:\n",
    "                lower = index2\n",
    "            data[index], data[lower] = data[lower], data[index]\n",
    "            \n",
    "    \n",
    "    # print(data)\n",
    "    return data"
   ]
  },
  {
   "cell_type": "code",
   "execution_count": 42,
   "metadata": {},
   "outputs": [
    {
     "data": {
      "text/plain": [
       "[34, 94, 2, 95, 0, 38, 96, 12, 50, 23]"
      ]
     },
     "execution_count": 42,
     "metadata": {},
     "output_type": "execute_result"
    }
   ],
   "source": [
    "import random\n",
    "data_list = random.sample(range(100),10)\n",
    "data_list\n"
   ]
  },
  {
   "cell_type": "code",
   "execution_count": 43,
   "metadata": {},
   "outputs": [
    {
     "data": {
      "text/plain": [
       "[12, 0, 2, 23, 38, 50, 34, 94, 95, 96]"
      ]
     },
     "execution_count": 43,
     "metadata": {},
     "output_type": "execute_result"
    }
   ],
   "source": [
    "selection_sort(data_list)"
   ]
  },
  {
   "cell_type": "markdown",
   "metadata": {},
   "source": [
    "### 2. 삽입 정렬\n",
    "- 처리되지 않은 데이터를 하나씩 골라 적절한 위치에 삽입한다.\n",
    "- 선택 정렬에 비해 구현 난이도가 높은 편이지만, 일반적으로 더 효율적으로 동작합니다\n",
    "- key 값을 삽입하여 데이터를 순서대로 나열하는 정렬 알고리즘\n",
    "- key 값은 주어진 데이터의 두번째 레코드를 시작으로 대입하여 처리한다.\n",
    "- key 값 앞에 있는 데이터를 비교해서 자리바꿈을 수행하는 알고리즘"
   ]
  },
  {
   "cell_type": "code",
   "execution_count": 92,
   "metadata": {},
   "outputs": [],
   "source": [
    "def insertion_sort(data):\n",
    "    # path\n",
    "    for i in range(1, len(data)):  # 0번째 방 빼고 1번 부터 끝방까지 \n",
    "        for j in range(i, 0, -1):   #   i번 방부터 \n",
    "            if data[j] < data[j-1]:\n",
    "                data[j], data[j-1] = data[j-1], data[j]\n",
    "            else :\n",
    "                break\n",
    "                \n",
    "    return data"
   ]
  },
  {
   "cell_type": "code",
   "execution_count": 93,
   "metadata": {},
   "outputs": [
    {
     "data": {
      "text/plain": [
       "[0, 7, 55, 2, 34, 38, 24, 33, 22, 11]"
      ]
     },
     "execution_count": 93,
     "metadata": {},
     "output_type": "execute_result"
    }
   ],
   "source": [
    "import random\n",
    "data_list = random.sample(range(100),10)\n",
    "data_list\n"
   ]
  },
  {
   "cell_type": "code",
   "execution_count": 94,
   "metadata": {},
   "outputs": [
    {
     "data": {
      "text/plain": [
       "[0, 2, 7, 11, 22, 24, 33, 34, 38, 55]"
      ]
     },
     "execution_count": 94,
     "metadata": {},
     "output_type": "execute_result"
    }
   ],
   "source": [
    "insertion_sort(data_list)"
   ]
  },
  {
   "cell_type": "code",
   "execution_count": 74,
   "metadata": {},
   "outputs": [],
   "source": [
    "# 정렬할 데이터 준비 : data_list 에 10개의 난수 만들기\n",
    "from random import *\n",
    "\n",
    "rand_data_list = list()\n",
    "\n",
    "for num in range(10):\n",
    "    rand_data_list.append(randint(1,100))  # 1~100 사이의 정수 난수 발생"
   ]
  },
  {
   "cell_type": "code",
   "execution_count": 75,
   "metadata": {},
   "outputs": [
    {
     "data": {
      "text/plain": [
       "[41, 33, 65, 83, 31, 63, 30, 5, 23, 5]"
      ]
     },
     "execution_count": 75,
     "metadata": {},
     "output_type": "execute_result"
    }
   ],
   "source": [
    "rand_data_list"
   ]
  },
  {
   "cell_type": "code",
   "execution_count": 76,
   "metadata": {},
   "outputs": [
    {
     "data": {
      "text/plain": [
       "[5, 5, 23, 30, 31, 33, 41, 63, 65, 83]"
      ]
     },
     "execution_count": 76,
     "metadata": {},
     "output_type": "execute_result"
    }
   ],
   "source": [
    "insertion_sort(rand_data_list)"
   ]
  },
  {
   "cell_type": "code",
   "execution_count": 89,
   "metadata": {},
   "outputs": [],
   "source": [
    "def insertion_sort2(data):# 키값을 얻어오는 반복문\n",
    "    for i in range(1, len(data)):    # 1 ~ \n",
    "        key = data[i]\n",
    "        \n",
    "        # key 값 앞에 데이터를 비교해서 자리바꿈하는 반복문\n",
    "        for j in range(i, 0, -1):  # 1, 0 \n",
    "            if key < data[j-1] :\n",
    "                data[j-1], data[j] = data[j], data[j-1]\n",
    "            else:\n",
    "                break\n",
    "                \n",
    "    return data"
   ]
  },
  {
   "cell_type": "code",
   "execution_count": 90,
   "metadata": {},
   "outputs": [
    {
     "data": {
      "text/plain": [
       "[57, 27, 65, 88, 65, 44, 57, 85, 48, 2]"
      ]
     },
     "execution_count": 90,
     "metadata": {},
     "output_type": "execute_result"
    }
   ],
   "source": [
    "from random import *\n",
    "\n",
    "rand_data_list = list()\n",
    "\n",
    "for num in range(10):\n",
    "    rand_data_list.append(randint(1,100))  # 1~100 사이의 정수 난수 발생\n",
    "rand_data_list"
   ]
  },
  {
   "cell_type": "code",
   "execution_count": 91,
   "metadata": {},
   "outputs": [
    {
     "data": {
      "text/plain": [
       "[2, 27, 44, 48, 57, 57, 65, 65, 85, 88]"
      ]
     },
     "execution_count": 91,
     "metadata": {},
     "output_type": "execute_result"
    }
   ],
   "source": [
    "insertion_sort2(rand_data_list)"
   ]
  },
  {
   "cell_type": "markdown",
   "metadata": {},
   "source": [
    "### 1. 버블정렬\n",
    "- 두 인접한 데이터를 비교해서 자리를 바꾸는 정렬 알고리즘"
   ]
  },
  {
   "cell_type": "code",
   "execution_count": 33,
   "metadata": {},
   "outputs": [
    {
     "name": "stdout",
     "output_type": "stream",
     "text": [
      "[20, 98, 93, 97, 37, 69, 57, 50, 43, 74]"
     ]
    }
   ],
   "source": [
    "import random\n",
    "# sample(추출데이터 범위, 추출데이터수),샘플링\n",
    "data_list = random.sample(range(100),10)\n",
    "print(data_list, end= \"\")"
   ]
  },
  {
   "cell_type": "code",
   "execution_count": 36,
   "metadata": {},
   "outputs": [],
   "source": [
    "def bubble_sort(data):\n",
    "    # path 처리를 위한 반복문\n",
    "    for index in range(len(data)):\n",
    "        swap = 0 # 자리교환 여부를 체크하는 스위칭 변수\n",
    "        # 이웃하는 자료와의 비교를 통한 자리바꿈을 수행할 반복문\n",
    "        for index2 in range(len(data)-1-index):\n",
    "            if data[index2] > data [index2+1]: \n",
    "                \n",
    "                data[index2], data[index2+1] = data[index2+1], data[index2]\n",
    "                swap = 1\n",
    "                \n",
    "        if swap ==0 :\n",
    "            break\n",
    "                \n",
    "    return data"
   ]
  },
  {
   "cell_type": "code",
   "execution_count": 37,
   "metadata": {},
   "outputs": [
    {
     "data": {
      "text/plain": [
       "[20, 37, 43, 50, 57, 69, 74, 93, 97, 98]"
      ]
     },
     "execution_count": 37,
     "metadata": {},
     "output_type": "execute_result"
    }
   ],
   "source": [
    "bubble_sort(data_list)"
   ]
  },
  {
   "cell_type": "markdown",
   "metadata": {},
   "source": [
    "### 퀵 정렬(Quick sort)\n",
    "- 기준 데이터를 설정하고 그 기준보다 큰 데이터와 작은 데이터의 위치를 바꾸는 방법\n",
    "- 일반적인 상황에서 가장 많이 사용되는 정렬 알고리즘 중 하나 \n",
    "- 병합 정렬과 더불어 대부분의 프로그래밍 언어의 정렬 라이브러리와 근간이 되는 알고리즘\n",
    "- 가장 기본적인 퀵 정렬은 첫 번째 데이터를 기준 데이터(Pivot)로 설정\n",
    "\n",
    "- 기준점(pivot)을 정해서, 기준점보다 작은 데이터는 왼쪽(left), 큰 데이터는 오른쪽(right)으로 모으는 작업을 수행하여 정렬하는 함수\n",
    "- 재귀용법을 통해 작업을 수행한다.\n"
   ]
  },
  {
   "cell_type": "code",
   "execution_count": 18,
   "metadata": {},
   "outputs": [
    {
     "data": {
      "text/plain": [
       "[35, 20, 74, 46, 5, 55, 37, 34, 13, 14]"
      ]
     },
     "execution_count": 18,
     "metadata": {},
     "output_type": "execute_result"
    }
   ],
   "source": [
    "# 데이터 만들기\n",
    "import random\n",
    "data_list = random.sample(range(100),10)\n",
    "data_list"
   ]
  },
  {
   "cell_type": "code",
   "execution_count": 19,
   "metadata": {},
   "outputs": [],
   "source": [
    "def quick_sort(data):\n",
    "    # 원소가 1개인 경우 \n",
    "    if len(data) <= 1:\n",
    "        return data\n",
    "    \n",
    "    #병합정렬에 기반이 된다.\n",
    "    right, left = list(), list()\n",
    "    \n",
    "    # 기준점(pivot)\n",
    "    pivot = data[0]\n",
    "    \n",
    "    # pivot을 기준으로 작은 데이터는 left 큰 데이터는 light\n",
    "    for index in range(1, len(data)):\n",
    "        if pivot > data[index] :  # pivot보다 작은 데이터라면\n",
    "            left.append(data[index])\n",
    "            \n",
    "        else:\n",
    "            right.append(data[index])\n",
    "            \n",
    "    return quick_sort(left) + [pivot] + quick_sort(right)"
   ]
  },
  {
   "cell_type": "code",
   "execution_count": 20,
   "metadata": {},
   "outputs": [
    {
     "data": {
      "text/plain": [
       "[5, 13, 14, 20, 34, 35, 37, 46, 55, 74]"
      ]
     },
     "execution_count": 20,
     "metadata": {},
     "output_type": "execute_result"
    }
   ],
   "source": [
    "quick_sort(data_list)"
   ]
  },
  {
   "cell_type": "code",
   "execution_count": 27,
   "metadata": {},
   "outputs": [],
   "source": [
    "def quick_sort2(data):\n",
    "    # 원소가 1개인 경우 \n",
    "    if len(data) <= 1:\n",
    "        return data\n",
    "    \n",
    "    #병합정렬에 기반이 된다.\n",
    "#     right, left = list(), list()\n",
    "    \n",
    "    # 기준점(pivot)\n",
    "    pivot = data[0]\n",
    "    tail = data[1:]  #   range(1, len(data)와 동일\n",
    "    \n",
    "    left = [x for x in tail if x <= pivot]\n",
    "    right = [x for x in tail if x >pivot]\n",
    "    \n",
    "    return quick_sort2(left) + [pivot] + quick_sort2(right)"
   ]
  },
  {
   "cell_type": "code",
   "execution_count": 30,
   "metadata": {},
   "outputs": [
    {
     "data": {
      "text/plain": [
       "[74, 41, 37, 50, 12, 23, 16, 92, 0, 72]"
      ]
     },
     "execution_count": 30,
     "metadata": {},
     "output_type": "execute_result"
    }
   ],
   "source": [
    "# 데이터 만들기\n",
    "import random\n",
    "data_list = random.sample(range(100),10)\n",
    "data_list"
   ]
  },
  {
   "cell_type": "code",
   "execution_count": 32,
   "metadata": {},
   "outputs": [
    {
     "data": {
      "text/plain": [
       "[0, 12, 16, 23, 37, 41, 50, 72, 74, 92]"
      ]
     },
     "execution_count": 32,
     "metadata": {},
     "output_type": "execute_result"
    }
   ],
   "source": [
    "quick_sort2(data_list)"
   ]
  },
  {
   "cell_type": "code",
   "execution_count": 41,
   "metadata": {},
   "outputs": [],
   "source": [
    "# 만들어 본것\n",
    "def qqq(data):\n",
    "    result=[]\n",
    "    a= data\n",
    "    for i in range(len(data)):\n",
    "        \n",
    "        result.append(min(data))\n",
    "        \n",
    "        data.remove(min(data))\n",
    "        \n",
    "    return result"
   ]
  },
  {
   "cell_type": "code",
   "execution_count": 42,
   "metadata": {},
   "outputs": [
    {
     "data": {
      "text/plain": [
       "[52, 71, 11, 22, 85, 93, 19, 81, 90, 95]"
      ]
     },
     "execution_count": 42,
     "metadata": {},
     "output_type": "execute_result"
    }
   ],
   "source": [
    "# 데이터 만들기\n",
    "import random\n",
    "data_list = random.sample(range(100),10)\n",
    "data_list"
   ]
  },
  {
   "cell_type": "code",
   "execution_count": 43,
   "metadata": {},
   "outputs": [
    {
     "data": {
      "text/plain": [
       "[11, 19, 22, 52, 71, 81, 85, 90, 93, 95]"
      ]
     },
     "execution_count": 43,
     "metadata": {},
     "output_type": "execute_result"
    }
   ],
   "source": [
    "qqq(data_list)"
   ]
  },
  {
   "cell_type": "markdown",
   "metadata": {},
   "source": [
    "### 이진 탐색 동작\n",
    "- [0,2,4,6,8,10,12,14,16,18]\n",
    "- step1   중 = (시작+마지막)/2 = 1+10= 정수값 5  또는 (0+9)/2\n",
    "-  step2  8:4   8>4   마지막 = 중-1\n",
    "-  step3   중=(1+4)/2 =5/2 = 2\n",
    "-  step4  2:4   2<4 시작값 = 중 +1\n",
    "-  step5    중 =(3+5)/2 =4\n",
    "-  step6   6:4    마지막 = 중-1 = 3\n",
    "-  step7   중 = (3+3)/2 = 3\n",
    "-  step8 4:4    찾고자하는 인덱스값은 3번째"
   ]
  },
  {
   "cell_type": "markdown",
   "metadata": {},
   "source": [
    "### 5. 이진탐색(Binary Search)\n",
    "- 탐색할 자료를 둘로 나누어 해당 데이터가 있을만한 곳을 탐색하는 방법\n",
    "- 선행조건 : 반드시 정렬이 되어 있어야 한다.\n",
    "- 구현방법 : 중앙수 = (시작 + 마지막)/2\n",
    "- 중앙에 위치한 값과 찾고자 하는 값을 비교하는 작업을 수행한다.\n",
    "- 이 때 중앙값이 찾고자 하는 값보다 크면 마지막 값 = 중앙값 -1\n",
    "- 중앙값이 찾고자 하는 값보다 작다면 시작값 = 중앙값 +1"
   ]
  },
  {
   "cell_type": "code",
   "execution_count": 48,
   "metadata": {},
   "outputs": [],
   "source": [
    "def binary_search(data, search): \n",
    "    \n",
    "    print(data)\n",
    "    \n",
    "    if len(data) == 1 :\n",
    "        if data[0] == search :\n",
    "            return True\n",
    "        else:\n",
    "            return False\n",
    "        \n",
    "    if len(data) == 0 :\n",
    "        return False\n",
    "    \n",
    "    # 중앙값\n",
    "    medium = len(data)//2\n",
    "    if search == data[medium]:\n",
    "        return True\n",
    "    if search > data[medium]:\n",
    "        return binary_search(data[medium:], search)\n",
    "    \n",
    "    else:\n",
    "        return binary_search(data[:medium], search)"
   ]
  },
  {
   "cell_type": "code",
   "execution_count": 49,
   "metadata": {},
   "outputs": [],
   "source": [
    "import random\n",
    "data_list = random.sample(range(100),11)\n",
    "data_list.sort()"
   ]
  },
  {
   "cell_type": "code",
   "execution_count": 50,
   "metadata": {},
   "outputs": [
    {
     "data": {
      "text/plain": [
       "[3, 6, 18, 23, 31, 56, 58, 71, 90, 91, 95]"
      ]
     },
     "execution_count": 50,
     "metadata": {},
     "output_type": "execute_result"
    }
   ],
   "source": [
    "data_list"
   ]
  },
  {
   "cell_type": "code",
   "execution_count": 51,
   "metadata": {},
   "outputs": [
    {
     "name": "stdout",
     "output_type": "stream",
     "text": [
      "[3, 6, 18, 23, 31, 56, 58, 71, 90, 91, 95]\n",
      "[56, 58, 71, 90, 91, 95]\n",
      "[56, 58, 71]\n",
      "[56]\n"
     ]
    },
    {
     "data": {
      "text/plain": [
       "False"
      ]
     },
     "execution_count": 51,
     "metadata": {},
     "output_type": "execute_result"
    }
   ],
   "source": [
    "binary_search(data_list, 57)"
   ]
  },
  {
   "cell_type": "code",
   "execution_count": 70,
   "metadata": {},
   "outputs": [],
   "source": [
    "# 사용자로부터 데이터의 개수와 찾고자 하는 값 그리고 데이터를 입력받아\n",
    "# 해당\n",
    "\n",
    "def binary_search2(data, search, start, end) :\n",
    "    if start > end :\n",
    "        return None\n",
    "    \n",
    "    # 중앙값\n",
    "    mid = (start + end) // 2\n",
    "    \n",
    "    # 중앙값을 기준으로 찾고자 하는 값과 비교하는 작업\n",
    "    if data[mid] == search :\n",
    "        return mid\n",
    "    elif data[mid] > search : # 찾고자 하는 값보다 중앙값이 크면\n",
    "        return binary_search2(data, search, start, mid-1)\n",
    "    else :\n",
    "        return binary_search2(data, search, mid+1, end)"
   ]
  },
  {
   "cell_type": "code",
   "execution_count": 71,
   "metadata": {},
   "outputs": [
    {
     "name": "stdout",
     "output_type": "stream",
     "text": [
      "10 7\n",
      "1 4 6 8 9 1 3 2 \n",
      "찾는값이 존재하지 않습니다.\n"
     ]
    }
   ],
   "source": [
    "# 키보드를통해 입력할 데이터의 개수와 찾을 값을 받아 처리\n",
    "n, search = list(map(int, input().split()))\n",
    "\n",
    "# 데이터 개수만큼 입력받는 작업\n",
    "data = list(map(int, input().split()))\n",
    "\n",
    "# 이진탐색\n",
    "result = binary_search2(data,search, 0, n-1)\n",
    "if result == None :\n",
    "    print('찾는값이 존재하지 않습니다.')\n",
    "else:\n",
    "    print(result+1)"
   ]
  },
  {
   "cell_type": "code",
   "execution_count": 75,
   "metadata": {},
   "outputs": [
    {
     "name": "stdout",
     "output_type": "stream",
     "text": [
      "선택정렬 성능 측정 : 16.249049425125122\n",
      "기본정렬 성능 측정 : 0.0\n"
     ]
    }
   ],
   "source": [
    "# 선택정렬과 내장함수(sort())를 이용한 수행시간을 비교하는 작업\n",
    "from random import randint\n",
    "import time\n",
    "\n",
    "data = []\n",
    "# 리스트안에 10,000 개의 정수를 삽입\n",
    "for _ in range(10000):\n",
    "    # 1 ~ 100 사이의 랜덤한 정수\n",
    "    data.append(randint(1, 100))\n",
    "    \n",
    "# 선택정렬 프로그램 선능 측정(시간복잡도)\n",
    "start_time = time.time()\n",
    "\n",
    "# 선택정렬을 통해 데이터를 정렬하는 코드\n",
    "for i in range(len(data)):\n",
    "    min_index = i\n",
    "    for j in range(i+1, len(data)):\n",
    "        if data[min_index] > data[j]:\n",
    "            min_index = j\n",
    "            \n",
    "        data[i], data[min_index] = data[min_index], data[i]\n",
    "        \n",
    "end_time = time.time()\n",
    "\n",
    "# 수행시간 출력하는 작업\n",
    "print(\"선택정렬 성능 측정 :\", end_time - start_time)\n",
    "\n",
    "data = []\n",
    "# 리스트안에 10,000 개의 정수를 삽입\n",
    "for _ in range(10000):\n",
    "    # 1 ~ 100 사이의 랜덤한 정수\n",
    "    data.append(randint(1, 100))\n",
    "    \n",
    "# 기본 프로그램 성능 측정(시간복잡도)\n",
    "start_time = time.time()\n",
    "\n",
    "# sort\n",
    "data.sort()\n",
    "        \n",
    "end_time = time.time()\n",
    "\n",
    "# 수행시간 출력하는 작업\n",
    "print(\"기본정렬 성능 측정 :\", end_time - start_time)"
   ]
  },
  {
   "cell_type": "code",
   "execution_count": null,
   "metadata": {},
   "outputs": [],
   "source": []
  }
 ],
 "metadata": {
  "kernelspec": {
   "display_name": "Python 3",
   "language": "python",
   "name": "python3"
  },
  "language_info": {
   "codemirror_mode": {
    "name": "ipython",
    "version": 3
   },
   "file_extension": ".py",
   "mimetype": "text/x-python",
   "name": "python",
   "nbconvert_exporter": "python",
   "pygments_lexer": "ipython3",
   "version": "3.7.3"
  }
 },
 "nbformat": 4,
 "nbformat_minor": 2
}
